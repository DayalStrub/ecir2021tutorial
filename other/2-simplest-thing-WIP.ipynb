{
  "nbformat": 4,
  "nbformat_minor": 0,
  "metadata": {
    "colab": {
      "name": "Untitled2.ipynb",
      "provenance": [],
      "authorship_tag": "ABX9TyOL6nhCctsVxdEs2cBNb5H1",
      "include_colab_link": true
    },
    "kernelspec": {
      "name": "python3",
      "display_name": "Python 3"
    },
    "language_info": {
      "name": "python"
    },
    "widgets": {
      "application/vnd.jupyter.widget-state+json": {
        "321a8e47b0914bee9ef6b880311b5d51": {
          "model_module": "@jupyter-widgets/controls",
          "model_name": "HBoxModel",
          "state": {
            "_view_name": "HBoxView",
            "_dom_classes": [],
            "_model_name": "HBoxModel",
            "_view_module": "@jupyter-widgets/controls",
            "_model_module_version": "1.5.0",
            "_view_count": null,
            "_view_module_version": "1.5.0",
            "box_style": "",
            "layout": "IPY_MODEL_f9b01ade0e7c46cc84b9c6909af0ff23",
            "_model_module": "@jupyter-widgets/controls",
            "children": [
              "IPY_MODEL_bcd796f4830e468ab809aede20f21f45",
              "IPY_MODEL_598a23cd8f634d4c957eeb523ff59851"
            ]
          }
        },
        "f9b01ade0e7c46cc84b9c6909af0ff23": {
          "model_module": "@jupyter-widgets/base",
          "model_name": "LayoutModel",
          "state": {
            "_view_name": "LayoutView",
            "grid_template_rows": null,
            "right": null,
            "justify_content": null,
            "_view_module": "@jupyter-widgets/base",
            "overflow": null,
            "_model_module_version": "1.2.0",
            "_view_count": null,
            "flex_flow": null,
            "width": null,
            "min_width": null,
            "border": null,
            "align_items": null,
            "bottom": null,
            "_model_module": "@jupyter-widgets/base",
            "top": null,
            "grid_column": null,
            "overflow_y": null,
            "overflow_x": null,
            "grid_auto_flow": null,
            "grid_area": null,
            "grid_template_columns": null,
            "flex": null,
            "_model_name": "LayoutModel",
            "justify_items": null,
            "grid_row": null,
            "max_height": null,
            "align_content": null,
            "visibility": null,
            "align_self": null,
            "height": null,
            "min_height": null,
            "padding": null,
            "grid_auto_rows": null,
            "grid_gap": null,
            "max_width": null,
            "order": null,
            "_view_module_version": "1.2.0",
            "grid_template_areas": null,
            "object_position": null,
            "object_fit": null,
            "grid_auto_columns": null,
            "margin": null,
            "display": null,
            "left": null
          }
        },
        "bcd796f4830e468ab809aede20f21f45": {
          "model_module": "@jupyter-widgets/controls",
          "model_name": "FloatProgressModel",
          "state": {
            "_view_name": "ProgressView",
            "style": "IPY_MODEL_d0f4caab60194059b0b8b61bf90227f5",
            "_dom_classes": [],
            "description": "cord19/trec-covid documents:   0%",
            "_model_name": "FloatProgressModel",
            "bar_style": "danger",
            "max": 192509,
            "_view_module": "@jupyter-widgets/controls",
            "_model_module_version": "1.5.0",
            "value": 0,
            "_view_count": null,
            "_view_module_version": "1.5.0",
            "orientation": "horizontal",
            "min": 0,
            "description_tooltip": null,
            "_model_module": "@jupyter-widgets/controls",
            "layout": "IPY_MODEL_27a63437f25041ceb8bb88eda458d518"
          }
        },
        "598a23cd8f634d4c957eeb523ff59851": {
          "model_module": "@jupyter-widgets/controls",
          "model_name": "HTMLModel",
          "state": {
            "_view_name": "HTMLView",
            "style": "IPY_MODEL_9b538a82ff9c4104a971977fb07736ac",
            "_dom_classes": [],
            "description": "",
            "_model_name": "HTMLModel",
            "placeholder": "​",
            "_view_module": "@jupyter-widgets/controls",
            "_model_module_version": "1.5.0",
            "value": " 0/192509 [00:01&lt;?, ?it/s]",
            "_view_count": null,
            "_view_module_version": "1.5.0",
            "description_tooltip": null,
            "_model_module": "@jupyter-widgets/controls",
            "layout": "IPY_MODEL_7275daef28864320b752753c693339dc"
          }
        },
        "d0f4caab60194059b0b8b61bf90227f5": {
          "model_module": "@jupyter-widgets/controls",
          "model_name": "ProgressStyleModel",
          "state": {
            "_view_name": "StyleView",
            "_model_name": "ProgressStyleModel",
            "description_width": "initial",
            "_view_module": "@jupyter-widgets/base",
            "_model_module_version": "1.5.0",
            "_view_count": null,
            "_view_module_version": "1.2.0",
            "bar_color": null,
            "_model_module": "@jupyter-widgets/controls"
          }
        },
        "27a63437f25041ceb8bb88eda458d518": {
          "model_module": "@jupyter-widgets/base",
          "model_name": "LayoutModel",
          "state": {
            "_view_name": "LayoutView",
            "grid_template_rows": null,
            "right": null,
            "justify_content": null,
            "_view_module": "@jupyter-widgets/base",
            "overflow": null,
            "_model_module_version": "1.2.0",
            "_view_count": null,
            "flex_flow": null,
            "width": null,
            "min_width": null,
            "border": null,
            "align_items": null,
            "bottom": null,
            "_model_module": "@jupyter-widgets/base",
            "top": null,
            "grid_column": null,
            "overflow_y": null,
            "overflow_x": null,
            "grid_auto_flow": null,
            "grid_area": null,
            "grid_template_columns": null,
            "flex": null,
            "_model_name": "LayoutModel",
            "justify_items": null,
            "grid_row": null,
            "max_height": null,
            "align_content": null,
            "visibility": null,
            "align_self": null,
            "height": null,
            "min_height": null,
            "padding": null,
            "grid_auto_rows": null,
            "grid_gap": null,
            "max_width": null,
            "order": null,
            "_view_module_version": "1.2.0",
            "grid_template_areas": null,
            "object_position": null,
            "object_fit": null,
            "grid_auto_columns": null,
            "margin": null,
            "display": null,
            "left": null
          }
        },
        "9b538a82ff9c4104a971977fb07736ac": {
          "model_module": "@jupyter-widgets/controls",
          "model_name": "DescriptionStyleModel",
          "state": {
            "_view_name": "StyleView",
            "_model_name": "DescriptionStyleModel",
            "description_width": "",
            "_view_module": "@jupyter-widgets/base",
            "_model_module_version": "1.5.0",
            "_view_count": null,
            "_view_module_version": "1.2.0",
            "_model_module": "@jupyter-widgets/controls"
          }
        },
        "7275daef28864320b752753c693339dc": {
          "model_module": "@jupyter-widgets/base",
          "model_name": "LayoutModel",
          "state": {
            "_view_name": "LayoutView",
            "grid_template_rows": null,
            "right": null,
            "justify_content": null,
            "_view_module": "@jupyter-widgets/base",
            "overflow": null,
            "_model_module_version": "1.2.0",
            "_view_count": null,
            "flex_flow": null,
            "width": null,
            "min_width": null,
            "border": null,
            "align_items": null,
            "bottom": null,
            "_model_module": "@jupyter-widgets/base",
            "top": null,
            "grid_column": null,
            "overflow_y": null,
            "overflow_x": null,
            "grid_auto_flow": null,
            "grid_area": null,
            "grid_template_columns": null,
            "flex": null,
            "_model_name": "LayoutModel",
            "justify_items": null,
            "grid_row": null,
            "max_height": null,
            "align_content": null,
            "visibility": null,
            "align_self": null,
            "height": null,
            "min_height": null,
            "padding": null,
            "grid_auto_rows": null,
            "grid_gap": null,
            "max_width": null,
            "order": null,
            "_view_module_version": "1.2.0",
            "grid_template_areas": null,
            "object_position": null,
            "object_fit": null,
            "grid_auto_columns": null,
            "margin": null,
            "display": null,
            "left": null
          }
        },
        "279f0a779c5249d7bf0b7c022d40a9be": {
          "model_module": "@jupyter-widgets/controls",
          "model_name": "HBoxModel",
          "state": {
            "_view_name": "HBoxView",
            "_dom_classes": [],
            "_model_name": "HBoxModel",
            "_view_module": "@jupyter-widgets/controls",
            "_model_module_version": "1.5.0",
            "_view_count": null,
            "_view_module_version": "1.5.0",
            "box_style": "",
            "layout": "IPY_MODEL_1d434387a10540858c01e12f44e07388",
            "_model_module": "@jupyter-widgets/controls",
            "children": [
              "IPY_MODEL_5eaae0ed4a244cfda48ba5704e69d52b",
              "IPY_MODEL_aa9313a7d927423d8524341be4e92157"
            ]
          }
        },
        "1d434387a10540858c01e12f44e07388": {
          "model_module": "@jupyter-widgets/base",
          "model_name": "LayoutModel",
          "state": {
            "_view_name": "LayoutView",
            "grid_template_rows": null,
            "right": null,
            "justify_content": null,
            "_view_module": "@jupyter-widgets/base",
            "overflow": null,
            "_model_module_version": "1.2.0",
            "_view_count": null,
            "flex_flow": null,
            "width": null,
            "min_width": null,
            "border": null,
            "align_items": null,
            "bottom": null,
            "_model_module": "@jupyter-widgets/base",
            "top": null,
            "grid_column": null,
            "overflow_y": null,
            "overflow_x": null,
            "grid_auto_flow": null,
            "grid_area": null,
            "grid_template_columns": null,
            "flex": null,
            "_model_name": "LayoutModel",
            "justify_items": null,
            "grid_row": null,
            "max_height": null,
            "align_content": null,
            "visibility": null,
            "align_self": null,
            "height": null,
            "min_height": null,
            "padding": null,
            "grid_auto_rows": null,
            "grid_gap": null,
            "max_width": null,
            "order": null,
            "_view_module_version": "1.2.0",
            "grid_template_areas": null,
            "object_position": null,
            "object_fit": null,
            "grid_auto_columns": null,
            "margin": null,
            "display": null,
            "left": null
          }
        },
        "5eaae0ed4a244cfda48ba5704e69d52b": {
          "model_module": "@jupyter-widgets/controls",
          "model_name": "FloatProgressModel",
          "state": {
            "_view_name": "ProgressView",
            "style": "IPY_MODEL_6d901cfd8af4423a8671d2992f2463c8",
            "_dom_classes": [],
            "description": "cord19/trec-covid documents: 100%",
            "_model_name": "FloatProgressModel",
            "bar_style": "success",
            "max": 192509,
            "_view_module": "@jupyter-widgets/controls",
            "_model_module_version": "1.5.0",
            "value": 192509,
            "_view_count": null,
            "_view_module_version": "1.5.0",
            "orientation": "horizontal",
            "min": 0,
            "description_tooltip": null,
            "_model_module": "@jupyter-widgets/controls",
            "layout": "IPY_MODEL_33cbb32298944f169be9bb7fa2a65d2f"
          }
        },
        "aa9313a7d927423d8524341be4e92157": {
          "model_module": "@jupyter-widgets/controls",
          "model_name": "HTMLModel",
          "state": {
            "_view_name": "HTMLView",
            "style": "IPY_MODEL_041bdff9d7d143229f570e6c8c63cc9a",
            "_dom_classes": [],
            "description": "",
            "_model_name": "HTMLModel",
            "placeholder": "​",
            "_view_module": "@jupyter-widgets/controls",
            "_model_module_version": "1.5.0",
            "value": " 192509/192509 [00:18&lt;00:00, 10247.20it/s]",
            "_view_count": null,
            "_view_module_version": "1.5.0",
            "description_tooltip": null,
            "_model_module": "@jupyter-widgets/controls",
            "layout": "IPY_MODEL_80f33dee6983420f8dc77be0debe6335"
          }
        },
        "6d901cfd8af4423a8671d2992f2463c8": {
          "model_module": "@jupyter-widgets/controls",
          "model_name": "ProgressStyleModel",
          "state": {
            "_view_name": "StyleView",
            "_model_name": "ProgressStyleModel",
            "description_width": "initial",
            "_view_module": "@jupyter-widgets/base",
            "_model_module_version": "1.5.0",
            "_view_count": null,
            "_view_module_version": "1.2.0",
            "bar_color": null,
            "_model_module": "@jupyter-widgets/controls"
          }
        },
        "33cbb32298944f169be9bb7fa2a65d2f": {
          "model_module": "@jupyter-widgets/base",
          "model_name": "LayoutModel",
          "state": {
            "_view_name": "LayoutView",
            "grid_template_rows": null,
            "right": null,
            "justify_content": null,
            "_view_module": "@jupyter-widgets/base",
            "overflow": null,
            "_model_module_version": "1.2.0",
            "_view_count": null,
            "flex_flow": null,
            "width": null,
            "min_width": null,
            "border": null,
            "align_items": null,
            "bottom": null,
            "_model_module": "@jupyter-widgets/base",
            "top": null,
            "grid_column": null,
            "overflow_y": null,
            "overflow_x": null,
            "grid_auto_flow": null,
            "grid_area": null,
            "grid_template_columns": null,
            "flex": null,
            "_model_name": "LayoutModel",
            "justify_items": null,
            "grid_row": null,
            "max_height": null,
            "align_content": null,
            "visibility": null,
            "align_self": null,
            "height": null,
            "min_height": null,
            "padding": null,
            "grid_auto_rows": null,
            "grid_gap": null,
            "max_width": null,
            "order": null,
            "_view_module_version": "1.2.0",
            "grid_template_areas": null,
            "object_position": null,
            "object_fit": null,
            "grid_auto_columns": null,
            "margin": null,
            "display": null,
            "left": null
          }
        },
        "041bdff9d7d143229f570e6c8c63cc9a": {
          "model_module": "@jupyter-widgets/controls",
          "model_name": "DescriptionStyleModel",
          "state": {
            "_view_name": "StyleView",
            "_model_name": "DescriptionStyleModel",
            "description_width": "",
            "_view_module": "@jupyter-widgets/base",
            "_model_module_version": "1.5.0",
            "_view_count": null,
            "_view_module_version": "1.2.0",
            "_model_module": "@jupyter-widgets/controls"
          }
        },
        "80f33dee6983420f8dc77be0debe6335": {
          "model_module": "@jupyter-widgets/base",
          "model_name": "LayoutModel",
          "state": {
            "_view_name": "LayoutView",
            "grid_template_rows": null,
            "right": null,
            "justify_content": null,
            "_view_module": "@jupyter-widgets/base",
            "overflow": null,
            "_model_module_version": "1.2.0",
            "_view_count": null,
            "flex_flow": null,
            "width": null,
            "min_width": null,
            "border": null,
            "align_items": null,
            "bottom": null,
            "_model_module": "@jupyter-widgets/base",
            "top": null,
            "grid_column": null,
            "overflow_y": null,
            "overflow_x": null,
            "grid_auto_flow": null,
            "grid_area": null,
            "grid_template_columns": null,
            "flex": null,
            "_model_name": "LayoutModel",
            "justify_items": null,
            "grid_row": null,
            "max_height": null,
            "align_content": null,
            "visibility": null,
            "align_self": null,
            "height": null,
            "min_height": null,
            "padding": null,
            "grid_auto_rows": null,
            "grid_gap": null,
            "max_width": null,
            "order": null,
            "_view_module_version": "1.2.0",
            "grid_template_areas": null,
            "object_position": null,
            "object_fit": null,
            "grid_auto_columns": null,
            "margin": null,
            "display": null,
            "left": null
          }
        }
      }
    }
  },
  "cells": [
    {
      "cell_type": "markdown",
      "metadata": {
        "id": "view-in-github",
        "colab_type": "text"
      },
      "source": [
        "<a href=\"https://colab.research.google.com/github/DayalStrub/ecir2021tutorial/blob/main/other/2-simplest-thing-WIP.ipynb\" target=\"_parent\"><img src=\"https://colab.research.google.com/assets/colab-badge.svg\" alt=\"Open In Colab\"/></a>"
      ]
    },
    {
      "cell_type": "code",
      "metadata": {
        "colab": {
          "base_uri": "https://localhost:8080/"
        },
        "id": "_AKKN1edGB07",
        "outputId": "3013b91b-af79-4915-8d48-31a059c45f66"
      },
      "source": [
        "# !pip install -q python-terrier\n",
        "!pip install -q git+https://github.com/terrier-org/pyterrier.git"
      ],
      "execution_count": 1,
      "outputs": [
        {
          "output_type": "stream",
          "text": [
            "  Building wheel for python-terrier (setup.py) ... \u001b[?25l\u001b[?25hdone\n"
          ],
          "name": "stdout"
        }
      ]
    },
    {
      "cell_type": "code",
      "metadata": {
        "colab": {
          "base_uri": "https://localhost:8080/"
        },
        "id": "5PwYpg1xF7Mf",
        "outputId": "0db67656-b051-434c-ddda-3c95f5ca194e"
      },
      "source": [
        "import pyterrier as pt\n",
        "pt.init(boot_packages=[\"com.github.terrierteam:terrier-prf:-SNAPSHOT\"])"
      ],
      "execution_count": 2,
      "outputs": [
        {
          "output_type": "stream",
          "text": [
            "/usr/local/lib/python3.7/dist-packages/tqdm/std.py:658: FutureWarning: The Panel class is removed from pandas. Accessing it from the top-level namespace will also be removed in the next version\n",
            "  from pandas import Panel\n"
          ],
          "name": "stderr"
        },
        {
          "output_type": "stream",
          "text": [
            "PyTerrier 0.5.0 has loaded Terrier 5.4 (built by craigm on 2021-01-16 14:17)\n"
          ],
          "name": "stdout"
        }
      ]
    },
    {
      "cell_type": "code",
      "metadata": {
        "id": "Cwgw-Eh_Qo1_"
      },
      "source": [
        "dataset = pt.datasets.get_dataset('irds:cord19/trec-covid')"
      ],
      "execution_count": 3,
      "outputs": []
    },
    {
      "cell_type": "code",
      "metadata": {
        "id": "ScBsia3OQoRW",
        "outputId": "3f1e6b72-d0dc-410a-ea1c-45e56872e316",
        "colab": {
          "base_uri": "https://localhost:8080/",
          "height": 191,
          "referenced_widgets": [
            "321a8e47b0914bee9ef6b880311b5d51",
            "f9b01ade0e7c46cc84b9c6909af0ff23",
            "bcd796f4830e468ab809aede20f21f45",
            "598a23cd8f634d4c957eeb523ff59851",
            "d0f4caab60194059b0b8b61bf90227f5",
            "27a63437f25041ceb8bb88eda458d518",
            "9b538a82ff9c4104a971977fb07736ac",
            "7275daef28864320b752753c693339dc"
          ]
        }
      },
      "source": [
        "next(iter(dataset.get_corpus_iter()))"
      ],
      "execution_count": 4,
      "outputs": [
        {
          "output_type": "display_data",
          "data": {
            "application/vnd.jupyter.widget-view+json": {
              "model_id": "321a8e47b0914bee9ef6b880311b5d51",
              "version_minor": 0,
              "version_major": 2
            },
            "text/plain": [
              "HBox(children=(FloatProgress(value=0.0, description='cord19/trec-covid documents', max=192509.0, style=Progres…"
            ]
          },
          "metadata": {
            "tags": []
          }
        },
        {
          "output_type": "execute_result",
          "data": {
            "text/plain": [
              "OrderedDict([('title',\n",
              "              'Clinical features of culture-proven Mycoplasma pneumoniae infections at King Abdulaziz University Hospital, Jeddah, Saudi Arabia'),\n",
              "             ('doi', '10.1186/1471-2334-1-6'),\n",
              "             ('date', '2001-07-04'),\n",
              "             ('abstract',\n",
              "              'OBJECTIVE: This retrospective chart review describes the epidemiology and clinical features of 40 patients with culture-proven Mycoplasma pneumoniae infections at King Abdulaziz University Hospital, Jeddah, Saudi Arabia. METHODS: Patients with positive M. pneumoniae cultures from respiratory specimens from January 1997 through December 1998 were identified through the Microbiology records. Charts of patients were reviewed. RESULTS: 40 patients were identified, 33 (82.5%) of whom required admission. Most infections (92.5%) were community-acquired. The infection affected all age groups but was most common in infants (32.5%) and pre-school children (22.5%). It occurred year-round but was most common in the fall (35%) and spring (30%). More than three-quarters of patients (77.5%) had comorbidities. Twenty-four isolates (60%) were associated with pneumonia, 14 (35%) with upper respiratory tract infections, and 2 (5%) with bronchiolitis. Cough (82.5%), fever (75%), and malaise (58.8%) were the most common symptoms, and crepitations (60%), and wheezes (40%) were the most common signs. Most patients with pneumonia had crepitations (79.2%) but only 25% had bronchial breathing. Immunocompromised patients were more likely than non-immunocompromised patients to present with pneumonia (8/9 versus 16/31, P = 0.05). Of the 24 patients with pneumonia, 14 (58.3%) had uneventful recovery, 4 (16.7%) recovered following some complications, 3 (12.5%) died because of M pneumoniae infection, and 3 (12.5%) died due to underlying comorbidities. The 3 patients who died of M pneumoniae pneumonia had other comorbidities. CONCLUSION: our results were similar to published data except for the finding that infections were more common in infants and preschool children and that the mortality rate of pneumonia in patients with comorbidities was high.'),\n",
              "             ('docno', 'ug7v899j')])"
            ]
          },
          "metadata": {
            "tags": []
          },
          "execution_count": 4
        }
      ]
    },
    {
      "cell_type": "code",
      "metadata": {
        "id": "Om3klADKQoFG",
        "outputId": "50c86806-7983-49b4-e0f8-0290a3f3a5cd",
        "colab": {
          "base_uri": "https://localhost:8080/",
          "height": 118,
          "referenced_widgets": [
            "279f0a779c5249d7bf0b7c022d40a9be",
            "1d434387a10540858c01e12f44e07388",
            "5eaae0ed4a244cfda48ba5704e69d52b",
            "aa9313a7d927423d8524341be4e92157",
            "6d901cfd8af4423a8671d2992f2463c8",
            "33cbb32298944f169be9bb7fa2a65d2f",
            "041bdff9d7d143229f570e6c8c63cc9a",
            "80f33dee6983420f8dc77be0debe6335"
          ]
        }
      },
      "source": [
        "N = 10_000\n",
        "pt_index_path = './index_cord19'\n",
        "\n",
        "# create the index, using the IterDictIndexer indexer \n",
        "indexer = pt.index.IterDictIndexer(pt_index_path, overwrite=True) # , blocks=True\n",
        "\n",
        "# we give the dataset get_corpus_iter() directly to the indexer\n",
        "# while specifying the fields to index and the metadata to record\n",
        "index_ref = indexer.index(\n",
        "    (datum for i, datum in enumerate(dataset.get_corpus_iter()) if i < N),\n",
        "    fields=('abstract',), # TODO should this be a list?\n",
        "    # meta={'docno' : 26, 'text' : 2048, 'abstract' : 2048}\n",
        "    meta=['docno','abstract'],\n",
        "    )\n",
        "\n",
        "index = pt.IndexFactory.of(index_ref)"
      ],
      "execution_count": 5,
      "outputs": [
        {
          "output_type": "display_data",
          "data": {
            "application/vnd.jupyter.widget-view+json": {
              "model_id": "279f0a779c5249d7bf0b7c022d40a9be",
              "version_minor": 0,
              "version_major": 2
            },
            "text/plain": [
              "HBox(children=(FloatProgress(value=0.0, description='cord19/trec-covid documents', max=192509.0, style=Progres…"
            ]
          },
          "metadata": {
            "tags": []
          }
        },
        {
          "output_type": "stream",
          "text": [
            "08:14:06.606 [ForkJoinPool-1-worker-3] WARN  o.t.structures.i\n",
            "ndexing.Indexer - Adding an empty document to the index (6iu1dtyl) - further warnings are suppressed\n",
            "\n",
            "08:14:20.714 [ForkJoinPool-1-worker-3] WARN  o.t.structures.indexing.Indexer - Indexed 2143 empty documents\n"
          ],
          "name": "stdout"
        }
      ]
    },
    {
      "cell_type": "code",
      "metadata": {
        "id": "ZV436ACnol_f",
        "outputId": "18575c23-6030-45f5-a17a-3d16a4343f39",
        "colab": {
          "base_uri": "https://localhost:8080/"
        }
      },
      "source": [
        "print(index.getCollectionStatistics().toString())"
      ],
      "execution_count": 6,
      "outputs": [
        {
          "output_type": "stream",
          "text": [
            "Number of documents: 10000\n",
            "Number of terms: 36191\n",
            "Number of postings: 673758\n",
            "Number of fields: 1\n",
            "Number of tokens: 1040094\n",
            "Field names: [abstract]\n",
            "Positions:   false\n",
            "\n"
          ],
          "name": "stdout"
        }
      ]
    },
    {
      "cell_type": "code",
      "metadata": {
        "colab": {
          "base_uri": "https://localhost:8080/",
          "height": 81
        },
        "id": "MyYsasfaGYFt",
        "outputId": "80a00b88-b984-4679-b844-f7efdb49210e"
      },
      "source": [
        "queries = dataset.get_topics(variant='title').head(1)\n",
        "queries.head()"
      ],
      "execution_count": 7,
      "outputs": [
        {
          "output_type": "execute_result",
          "data": {
            "text/html": [
              "<div>\n",
              "<style scoped>\n",
              "    .dataframe tbody tr th:only-of-type {\n",
              "        vertical-align: middle;\n",
              "    }\n",
              "\n",
              "    .dataframe tbody tr th {\n",
              "        vertical-align: top;\n",
              "    }\n",
              "\n",
              "    .dataframe thead th {\n",
              "        text-align: right;\n",
              "    }\n",
              "</style>\n",
              "<table border=\"1\" class=\"dataframe\">\n",
              "  <thead>\n",
              "    <tr style=\"text-align: right;\">\n",
              "      <th></th>\n",
              "      <th>qid</th>\n",
              "      <th>query</th>\n",
              "    </tr>\n",
              "  </thead>\n",
              "  <tbody>\n",
              "    <tr>\n",
              "      <th>0</th>\n",
              "      <td>1</td>\n",
              "      <td>coronavirus origin</td>\n",
              "    </tr>\n",
              "  </tbody>\n",
              "</table>\n",
              "</div>"
            ],
            "text/plain": [
              "  qid               query\n",
              "0   1  coronavirus origin"
            ]
          },
          "metadata": {
            "tags": []
          },
          "execution_count": 7
        }
      ]
    },
    {
      "cell_type": "code",
      "metadata": {
        "id": "UVpaOHP6GC30"
      },
      "source": [
        "bm25 = pt.BatchRetrieve(index, wmodel=\"BM25\")\n",
        "rm3 = pt.rewrite.RM3(index)\n",
        "bm25_text = pt.BatchRetrieve(index, wmodel=\"BM25\", metadata=[\"docno\", \"abstract\"])\n",
        "\n",
        "rm3_pipe = bm25 >> rm3 >> bm25_text"
      ],
      "execution_count": 8,
      "outputs": []
    },
    {
      "cell_type": "code",
      "metadata": {
        "id": "Lt0DO6F2RY2u"
      },
      "source": [
        "# TODO Question: in rm3_pipe, is final bm25 just reranking initial bm25 results, or does it re-consider all docs?"
      ],
      "execution_count": 9,
      "outputs": []
    },
    {
      "cell_type": "code",
      "metadata": {
        "id": "d-a2OkIORjDB"
      },
      "source": [
        "# TODO figure out how to implement PR Feedback using logistic regression on bag of words a la Lin"
      ],
      "execution_count": 10,
      "outputs": []
    },
    {
      "cell_type": "code",
      "metadata": {
        "id": "l3lk-NnPoxen",
        "outputId": "e62f65ad-908d-4c35-b26c-e7098317aaf2",
        "colab": {
          "base_uri": "https://localhost:8080/",
          "height": 424
        }
      },
      "source": [
        "df_out = rm3_pipe.transform(queries)\n",
        "df_out.loc[df_out[\"qid\"] == \"1\", :]"
      ],
      "execution_count": 11,
      "outputs": [
        {
          "output_type": "execute_result",
          "data": {
            "text/html": [
              "<div>\n",
              "<style scoped>\n",
              "    .dataframe tbody tr th:only-of-type {\n",
              "        vertical-align: middle;\n",
              "    }\n",
              "\n",
              "    .dataframe tbody tr th {\n",
              "        vertical-align: top;\n",
              "    }\n",
              "\n",
              "    .dataframe thead th {\n",
              "        text-align: right;\n",
              "    }\n",
              "</style>\n",
              "<table border=\"1\" class=\"dataframe\">\n",
              "  <thead>\n",
              "    <tr style=\"text-align: right;\">\n",
              "      <th></th>\n",
              "      <th>qid</th>\n",
              "      <th>docid</th>\n",
              "      <th>docno</th>\n",
              "      <th>abstract</th>\n",
              "      <th>rank</th>\n",
              "      <th>score</th>\n",
              "      <th>query_0</th>\n",
              "      <th>query</th>\n",
              "    </tr>\n",
              "  </thead>\n",
              "  <tbody>\n",
              "    <tr>\n",
              "      <th>0</th>\n",
              "      <td>1</td>\n",
              "      <td>2257</td>\n",
              "      <td>8y24j34j</td>\n",
              "      <td>Middle East respiratory syndrome coronavirus i...</td>\n",
              "      <td>0</td>\n",
              "      <td>19.049835</td>\n",
              "      <td>coronavirus origin</td>\n",
              "      <td>applypipeline:off protect^0.035425290 anim^0.0...</td>\n",
              "    </tr>\n",
              "    <tr>\n",
              "      <th>1</th>\n",
              "      <td>1</td>\n",
              "      <td>4582</td>\n",
              "      <td>2jq626ye</td>\n",
              "      <td>A novel coronavirus (2019-nCoV) originating in...</td>\n",
              "      <td>1</td>\n",
              "      <td>13.717366</td>\n",
              "      <td>coronavirus origin</td>\n",
              "      <td>applypipeline:off protect^0.035425290 anim^0.0...</td>\n",
              "    </tr>\n",
              "    <tr>\n",
              "      <th>2</th>\n",
              "      <td>1</td>\n",
              "      <td>1394</td>\n",
              "      <td>vnafx1ng</td>\n",
              "      <td>The phosphoprotein (P) gene of most Paramyxovi...</td>\n",
              "      <td>2</td>\n",
              "      <td>11.114468</td>\n",
              "      <td>coronavirus origin</td>\n",
              "      <td>applypipeline:off protect^0.035425290 anim^0.0...</td>\n",
              "    </tr>\n",
              "    <tr>\n",
              "      <th>3</th>\n",
              "      <td>1</td>\n",
              "      <td>1616</td>\n",
              "      <td>hp5x637c</td>\n",
              "      <td>BACKGROUND: In 2007, a novel bunyavirus was fo...</td>\n",
              "      <td>3</td>\n",
              "      <td>8.417806</td>\n",
              "      <td>coronavirus origin</td>\n",
              "      <td>applypipeline:off protect^0.035425290 anim^0.0...</td>\n",
              "    </tr>\n",
              "    <tr>\n",
              "      <th>4</th>\n",
              "      <td>1</td>\n",
              "      <td>4936</td>\n",
              "      <td>41ui4lqc</td>\n",
              "      <td>Emerging viruses represent a continuous threat...</td>\n",
              "      <td>4</td>\n",
              "      <td>8.340423</td>\n",
              "      <td>coronavirus origin</td>\n",
              "      <td>applypipeline:off protect^0.035425290 anim^0.0...</td>\n",
              "    </tr>\n",
              "    <tr>\n",
              "      <th>...</th>\n",
              "      <td>...</td>\n",
              "      <td>...</td>\n",
              "      <td>...</td>\n",
              "      <td>...</td>\n",
              "      <td>...</td>\n",
              "      <td>...</td>\n",
              "      <td>...</td>\n",
              "      <td>...</td>\n",
              "    </tr>\n",
              "    <tr>\n",
              "      <th>995</th>\n",
              "      <td>1</td>\n",
              "      <td>1727</td>\n",
              "      <td>5d64esp4</td>\n",
              "      <td>RNA viruses exhibit substantial structural, ec...</td>\n",
              "      <td>995</td>\n",
              "      <td>0.986444</td>\n",
              "      <td>coronavirus origin</td>\n",
              "      <td>applypipeline:off protect^0.035425290 anim^0.0...</td>\n",
              "    </tr>\n",
              "    <tr>\n",
              "      <th>996</th>\n",
              "      <td>1</td>\n",
              "      <td>1685</td>\n",
              "      <td>bkreu1s2</td>\n",
              "      <td>Collectively, viruses have the greatest geneti...</td>\n",
              "      <td>996</td>\n",
              "      <td>0.986241</td>\n",
              "      <td>coronavirus origin</td>\n",
              "      <td>applypipeline:off protect^0.035425290 anim^0.0...</td>\n",
              "    </tr>\n",
              "    <tr>\n",
              "      <th>997</th>\n",
              "      <td>1</td>\n",
              "      <td>7870</td>\n",
              "      <td>o2cijp5a</td>\n",
              "      <td>In the present report we provide the strain di...</td>\n",
              "      <td>997</td>\n",
              "      <td>0.986241</td>\n",
              "      <td>coronavirus origin</td>\n",
              "      <td>applypipeline:off protect^0.035425290 anim^0.0...</td>\n",
              "    </tr>\n",
              "    <tr>\n",
              "      <th>998</th>\n",
              "      <td>1</td>\n",
              "      <td>4489</td>\n",
              "      <td>78ur1j2p</td>\n",
              "      <td>Despite all the research done on the first Zik...</td>\n",
              "      <td>998</td>\n",
              "      <td>0.983408</td>\n",
              "      <td>coronavirus origin</td>\n",
              "      <td>applypipeline:off protect^0.035425290 anim^0.0...</td>\n",
              "    </tr>\n",
              "    <tr>\n",
              "      <th>999</th>\n",
              "      <td>1</td>\n",
              "      <td>1337</td>\n",
              "      <td>mdej7nhj</td>\n",
              "      <td>In our current study, a newer amine functional...</td>\n",
              "      <td>999</td>\n",
              "      <td>0.983401</td>\n",
              "      <td>coronavirus origin</td>\n",
              "      <td>applypipeline:off protect^0.035425290 anim^0.0...</td>\n",
              "    </tr>\n",
              "  </tbody>\n",
              "</table>\n",
              "<p>1000 rows × 8 columns</p>\n",
              "</div>"
            ],
            "text/plain": [
              "    qid  ...                                              query\n",
              "0     1  ...  applypipeline:off protect^0.035425290 anim^0.0...\n",
              "1     1  ...  applypipeline:off protect^0.035425290 anim^0.0...\n",
              "2     1  ...  applypipeline:off protect^0.035425290 anim^0.0...\n",
              "3     1  ...  applypipeline:off protect^0.035425290 anim^0.0...\n",
              "4     1  ...  applypipeline:off protect^0.035425290 anim^0.0...\n",
              "..   ..  ...                                                ...\n",
              "995   1  ...  applypipeline:off protect^0.035425290 anim^0.0...\n",
              "996   1  ...  applypipeline:off protect^0.035425290 anim^0.0...\n",
              "997   1  ...  applypipeline:off protect^0.035425290 anim^0.0...\n",
              "998   1  ...  applypipeline:off protect^0.035425290 anim^0.0...\n",
              "999   1  ...  applypipeline:off protect^0.035425290 anim^0.0...\n",
              "\n",
              "[1000 rows x 8 columns]"
            ]
          },
          "metadata": {
            "tags": []
          },
          "execution_count": 11
        }
      ]
    },
    {
      "cell_type": "code",
      "metadata": {
        "colab": {
          "base_uri": "https://localhost:8080/",
          "height": 112
        },
        "id": "F4X9oANxGSiH",
        "outputId": "8db423be-7ed4-44dc-a746-d4660e5426fb"
      },
      "source": [
        "# NOTE indeed/actually a function\n",
        "pt.Experiment(\n",
        "    retr_systems=[bm25, rm3_pipe],\n",
        "    names=[\"BM25\", \"BM25-RM3-BM25\",],\n",
        "    topics=queries,\n",
        "    qrels=dataset.get_qrels(), # TODO figure out cord19 qrels\n",
        "    eval_metrics=[\"map\"]\n",
        "              )"
      ],
      "execution_count": 12,
      "outputs": [
        {
          "output_type": "execute_result",
          "data": {
            "text/html": [
              "<div>\n",
              "<style scoped>\n",
              "    .dataframe tbody tr th:only-of-type {\n",
              "        vertical-align: middle;\n",
              "    }\n",
              "\n",
              "    .dataframe tbody tr th {\n",
              "        vertical-align: top;\n",
              "    }\n",
              "\n",
              "    .dataframe thead th {\n",
              "        text-align: right;\n",
              "    }\n",
              "</style>\n",
              "<table border=\"1\" class=\"dataframe\">\n",
              "  <thead>\n",
              "    <tr style=\"text-align: right;\">\n",
              "      <th></th>\n",
              "      <th>name</th>\n",
              "      <th>map</th>\n",
              "    </tr>\n",
              "  </thead>\n",
              "  <tbody>\n",
              "    <tr>\n",
              "      <th>0</th>\n",
              "      <td>BM25</td>\n",
              "      <td>0.000020</td>\n",
              "    </tr>\n",
              "    <tr>\n",
              "      <th>1</th>\n",
              "      <td>BM25-RM3-BM25</td>\n",
              "      <td>0.000018</td>\n",
              "    </tr>\n",
              "  </tbody>\n",
              "</table>\n",
              "</div>"
            ],
            "text/plain": [
              "            name       map\n",
              "0           BM25  0.000020\n",
              "1  BM25-RM3-BM25  0.000018"
            ]
          },
          "metadata": {
            "tags": []
          },
          "execution_count": 12
        }
      ]
    },
    {
      "cell_type": "code",
      "metadata": {
        "id": "f8mXH5E-IEEX"
      },
      "source": [
        ""
      ],
      "execution_count": 12,
      "outputs": []
    }
  ]
}