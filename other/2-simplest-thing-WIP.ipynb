{
  "nbformat": 4,
  "nbformat_minor": 0,
  "metadata": {
    "colab": {
      "name": "Untitled2.ipynb",
      "provenance": [],
      "authorship_tag": "ABX9TyOF2M4oayQcXscpx4NNR4HZ",
      "include_colab_link": true
    },
    "kernelspec": {
      "name": "python3",
      "display_name": "Python 3"
    },
    "language_info": {
      "name": "python"
    },
    "widgets": {
      "application/vnd.jupyter.widget-state+json": {
        "bd917de87d164761872a69ef99cb6452": {
          "model_module": "@jupyter-widgets/controls",
          "model_name": "HBoxModel",
          "state": {
            "_view_name": "HBoxView",
            "_dom_classes": [],
            "_model_name": "HBoxModel",
            "_view_module": "@jupyter-widgets/controls",
            "_model_module_version": "1.5.0",
            "_view_count": null,
            "_view_module_version": "1.5.0",
            "box_style": "",
            "layout": "IPY_MODEL_fceb9f25798348e6ae0e07b1ed70c491",
            "_model_module": "@jupyter-widgets/controls",
            "children": [
              "IPY_MODEL_40419161c89140068545bd419aaef786",
              "IPY_MODEL_88116f3e8ee749648e1286d54060d05d"
            ]
          }
        },
        "fceb9f25798348e6ae0e07b1ed70c491": {
          "model_module": "@jupyter-widgets/base",
          "model_name": "LayoutModel",
          "state": {
            "_view_name": "LayoutView",
            "grid_template_rows": null,
            "right": null,
            "justify_content": null,
            "_view_module": "@jupyter-widgets/base",
            "overflow": null,
            "_model_module_version": "1.2.0",
            "_view_count": null,
            "flex_flow": null,
            "width": null,
            "min_width": null,
            "border": null,
            "align_items": null,
            "bottom": null,
            "_model_module": "@jupyter-widgets/base",
            "top": null,
            "grid_column": null,
            "overflow_y": null,
            "overflow_x": null,
            "grid_auto_flow": null,
            "grid_area": null,
            "grid_template_columns": null,
            "flex": null,
            "_model_name": "LayoutModel",
            "justify_items": null,
            "grid_row": null,
            "max_height": null,
            "align_content": null,
            "visibility": null,
            "align_self": null,
            "height": null,
            "min_height": null,
            "padding": null,
            "grid_auto_rows": null,
            "grid_gap": null,
            "max_width": null,
            "order": null,
            "_view_module_version": "1.2.0",
            "grid_template_areas": null,
            "object_position": null,
            "object_fit": null,
            "grid_auto_columns": null,
            "margin": null,
            "display": null,
            "left": null
          }
        },
        "40419161c89140068545bd419aaef786": {
          "model_module": "@jupyter-widgets/controls",
          "model_name": "FloatProgressModel",
          "state": {
            "_view_name": "ProgressView",
            "style": "IPY_MODEL_723edaf6c84d4ce68c9079dfeb9ad62b",
            "_dom_classes": [],
            "description": "cord19/trec-covid documents:   0%",
            "_model_name": "FloatProgressModel",
            "bar_style": "danger",
            "max": 192509,
            "_view_module": "@jupyter-widgets/controls",
            "_model_module_version": "1.5.0",
            "value": 0,
            "_view_count": null,
            "_view_module_version": "1.5.0",
            "orientation": "horizontal",
            "min": 0,
            "description_tooltip": null,
            "_model_module": "@jupyter-widgets/controls",
            "layout": "IPY_MODEL_b8e9de12d6914ddea750724777fecc92"
          }
        },
        "88116f3e8ee749648e1286d54060d05d": {
          "model_module": "@jupyter-widgets/controls",
          "model_name": "HTMLModel",
          "state": {
            "_view_name": "HTMLView",
            "style": "IPY_MODEL_1b24afe4cd4147169593de37903fbee7",
            "_dom_classes": [],
            "description": "",
            "_model_name": "HTMLModel",
            "placeholder": "​",
            "_view_module": "@jupyter-widgets/controls",
            "_model_module_version": "1.5.0",
            "value": " 0/192509 [00:00&lt;?, ?it/s]",
            "_view_count": null,
            "_view_module_version": "1.5.0",
            "description_tooltip": null,
            "_model_module": "@jupyter-widgets/controls",
            "layout": "IPY_MODEL_a78535282fbd45459c441f5ed5f673a9"
          }
        },
        "723edaf6c84d4ce68c9079dfeb9ad62b": {
          "model_module": "@jupyter-widgets/controls",
          "model_name": "ProgressStyleModel",
          "state": {
            "_view_name": "StyleView",
            "_model_name": "ProgressStyleModel",
            "description_width": "initial",
            "_view_module": "@jupyter-widgets/base",
            "_model_module_version": "1.5.0",
            "_view_count": null,
            "_view_module_version": "1.2.0",
            "bar_color": null,
            "_model_module": "@jupyter-widgets/controls"
          }
        },
        "b8e9de12d6914ddea750724777fecc92": {
          "model_module": "@jupyter-widgets/base",
          "model_name": "LayoutModel",
          "state": {
            "_view_name": "LayoutView",
            "grid_template_rows": null,
            "right": null,
            "justify_content": null,
            "_view_module": "@jupyter-widgets/base",
            "overflow": null,
            "_model_module_version": "1.2.0",
            "_view_count": null,
            "flex_flow": null,
            "width": null,
            "min_width": null,
            "border": null,
            "align_items": null,
            "bottom": null,
            "_model_module": "@jupyter-widgets/base",
            "top": null,
            "grid_column": null,
            "overflow_y": null,
            "overflow_x": null,
            "grid_auto_flow": null,
            "grid_area": null,
            "grid_template_columns": null,
            "flex": null,
            "_model_name": "LayoutModel",
            "justify_items": null,
            "grid_row": null,
            "max_height": null,
            "align_content": null,
            "visibility": null,
            "align_self": null,
            "height": null,
            "min_height": null,
            "padding": null,
            "grid_auto_rows": null,
            "grid_gap": null,
            "max_width": null,
            "order": null,
            "_view_module_version": "1.2.0",
            "grid_template_areas": null,
            "object_position": null,
            "object_fit": null,
            "grid_auto_columns": null,
            "margin": null,
            "display": null,
            "left": null
          }
        },
        "1b24afe4cd4147169593de37903fbee7": {
          "model_module": "@jupyter-widgets/controls",
          "model_name": "DescriptionStyleModel",
          "state": {
            "_view_name": "StyleView",
            "_model_name": "DescriptionStyleModel",
            "description_width": "",
            "_view_module": "@jupyter-widgets/base",
            "_model_module_version": "1.5.0",
            "_view_count": null,
            "_view_module_version": "1.2.0",
            "_model_module": "@jupyter-widgets/controls"
          }
        },
        "a78535282fbd45459c441f5ed5f673a9": {
          "model_module": "@jupyter-widgets/base",
          "model_name": "LayoutModel",
          "state": {
            "_view_name": "LayoutView",
            "grid_template_rows": null,
            "right": null,
            "justify_content": null,
            "_view_module": "@jupyter-widgets/base",
            "overflow": null,
            "_model_module_version": "1.2.0",
            "_view_count": null,
            "flex_flow": null,
            "width": null,
            "min_width": null,
            "border": null,
            "align_items": null,
            "bottom": null,
            "_model_module": "@jupyter-widgets/base",
            "top": null,
            "grid_column": null,
            "overflow_y": null,
            "overflow_x": null,
            "grid_auto_flow": null,
            "grid_area": null,
            "grid_template_columns": null,
            "flex": null,
            "_model_name": "LayoutModel",
            "justify_items": null,
            "grid_row": null,
            "max_height": null,
            "align_content": null,
            "visibility": null,
            "align_self": null,
            "height": null,
            "min_height": null,
            "padding": null,
            "grid_auto_rows": null,
            "grid_gap": null,
            "max_width": null,
            "order": null,
            "_view_module_version": "1.2.0",
            "grid_template_areas": null,
            "object_position": null,
            "object_fit": null,
            "grid_auto_columns": null,
            "margin": null,
            "display": null,
            "left": null
          }
        },
        "38b30dd849c74766b2c80778b4ff1375": {
          "model_module": "@jupyter-widgets/controls",
          "model_name": "HBoxModel",
          "state": {
            "_view_name": "HBoxView",
            "_dom_classes": [],
            "_model_name": "HBoxModel",
            "_view_module": "@jupyter-widgets/controls",
            "_model_module_version": "1.5.0",
            "_view_count": null,
            "_view_module_version": "1.5.0",
            "box_style": "",
            "layout": "IPY_MODEL_745888a31368423fbec16f710c52e6ea",
            "_model_module": "@jupyter-widgets/controls",
            "children": [
              "IPY_MODEL_29c79686e88f4a2a8b8af03270dfa9b8",
              "IPY_MODEL_7133b4e2e99e4254b31a40dc7a407eb1"
            ]
          }
        },
        "745888a31368423fbec16f710c52e6ea": {
          "model_module": "@jupyter-widgets/base",
          "model_name": "LayoutModel",
          "state": {
            "_view_name": "LayoutView",
            "grid_template_rows": null,
            "right": null,
            "justify_content": null,
            "_view_module": "@jupyter-widgets/base",
            "overflow": null,
            "_model_module_version": "1.2.0",
            "_view_count": null,
            "flex_flow": null,
            "width": null,
            "min_width": null,
            "border": null,
            "align_items": null,
            "bottom": null,
            "_model_module": "@jupyter-widgets/base",
            "top": null,
            "grid_column": null,
            "overflow_y": null,
            "overflow_x": null,
            "grid_auto_flow": null,
            "grid_area": null,
            "grid_template_columns": null,
            "flex": null,
            "_model_name": "LayoutModel",
            "justify_items": null,
            "grid_row": null,
            "max_height": null,
            "align_content": null,
            "visibility": null,
            "align_self": null,
            "height": null,
            "min_height": null,
            "padding": null,
            "grid_auto_rows": null,
            "grid_gap": null,
            "max_width": null,
            "order": null,
            "_view_module_version": "1.2.0",
            "grid_template_areas": null,
            "object_position": null,
            "object_fit": null,
            "grid_auto_columns": null,
            "margin": null,
            "display": null,
            "left": null
          }
        },
        "29c79686e88f4a2a8b8af03270dfa9b8": {
          "model_module": "@jupyter-widgets/controls",
          "model_name": "FloatProgressModel",
          "state": {
            "_view_name": "ProgressView",
            "style": "IPY_MODEL_2fc7860caf21465d97946239b731b65c",
            "_dom_classes": [],
            "description": "cord19/trec-covid documents: 100%",
            "_model_name": "FloatProgressModel",
            "bar_style": "success",
            "max": 192509,
            "_view_module": "@jupyter-widgets/controls",
            "_model_module_version": "1.5.0",
            "value": 192509,
            "_view_count": null,
            "_view_module_version": "1.5.0",
            "orientation": "horizontal",
            "min": 0,
            "description_tooltip": null,
            "_model_module": "@jupyter-widgets/controls",
            "layout": "IPY_MODEL_bd16b08c5d804431a24eb677feb8e139"
          }
        },
        "7133b4e2e99e4254b31a40dc7a407eb1": {
          "model_module": "@jupyter-widgets/controls",
          "model_name": "HTMLModel",
          "state": {
            "_view_name": "HTMLView",
            "style": "IPY_MODEL_765a860930a84acba1686889ad7769e8",
            "_dom_classes": [],
            "description": "",
            "_model_name": "HTMLModel",
            "placeholder": "​",
            "_view_module": "@jupyter-widgets/controls",
            "_model_module_version": "1.5.0",
            "value": " 192509/192509 [03:19&lt;00:00, 964.72it/s]",
            "_view_count": null,
            "_view_module_version": "1.5.0",
            "description_tooltip": null,
            "_model_module": "@jupyter-widgets/controls",
            "layout": "IPY_MODEL_17d1e2e8c43a4668b4d3ef2da8a9a3fb"
          }
        },
        "2fc7860caf21465d97946239b731b65c": {
          "model_module": "@jupyter-widgets/controls",
          "model_name": "ProgressStyleModel",
          "state": {
            "_view_name": "StyleView",
            "_model_name": "ProgressStyleModel",
            "description_width": "initial",
            "_view_module": "@jupyter-widgets/base",
            "_model_module_version": "1.5.0",
            "_view_count": null,
            "_view_module_version": "1.2.0",
            "bar_color": null,
            "_model_module": "@jupyter-widgets/controls"
          }
        },
        "bd16b08c5d804431a24eb677feb8e139": {
          "model_module": "@jupyter-widgets/base",
          "model_name": "LayoutModel",
          "state": {
            "_view_name": "LayoutView",
            "grid_template_rows": null,
            "right": null,
            "justify_content": null,
            "_view_module": "@jupyter-widgets/base",
            "overflow": null,
            "_model_module_version": "1.2.0",
            "_view_count": null,
            "flex_flow": null,
            "width": null,
            "min_width": null,
            "border": null,
            "align_items": null,
            "bottom": null,
            "_model_module": "@jupyter-widgets/base",
            "top": null,
            "grid_column": null,
            "overflow_y": null,
            "overflow_x": null,
            "grid_auto_flow": null,
            "grid_area": null,
            "grid_template_columns": null,
            "flex": null,
            "_model_name": "LayoutModel",
            "justify_items": null,
            "grid_row": null,
            "max_height": null,
            "align_content": null,
            "visibility": null,
            "align_self": null,
            "height": null,
            "min_height": null,
            "padding": null,
            "grid_auto_rows": null,
            "grid_gap": null,
            "max_width": null,
            "order": null,
            "_view_module_version": "1.2.0",
            "grid_template_areas": null,
            "object_position": null,
            "object_fit": null,
            "grid_auto_columns": null,
            "margin": null,
            "display": null,
            "left": null
          }
        },
        "765a860930a84acba1686889ad7769e8": {
          "model_module": "@jupyter-widgets/controls",
          "model_name": "DescriptionStyleModel",
          "state": {
            "_view_name": "StyleView",
            "_model_name": "DescriptionStyleModel",
            "description_width": "",
            "_view_module": "@jupyter-widgets/base",
            "_model_module_version": "1.5.0",
            "_view_count": null,
            "_view_module_version": "1.2.0",
            "_model_module": "@jupyter-widgets/controls"
          }
        },
        "17d1e2e8c43a4668b4d3ef2da8a9a3fb": {
          "model_module": "@jupyter-widgets/base",
          "model_name": "LayoutModel",
          "state": {
            "_view_name": "LayoutView",
            "grid_template_rows": null,
            "right": null,
            "justify_content": null,
            "_view_module": "@jupyter-widgets/base",
            "overflow": null,
            "_model_module_version": "1.2.0",
            "_view_count": null,
            "flex_flow": null,
            "width": null,
            "min_width": null,
            "border": null,
            "align_items": null,
            "bottom": null,
            "_model_module": "@jupyter-widgets/base",
            "top": null,
            "grid_column": null,
            "overflow_y": null,
            "overflow_x": null,
            "grid_auto_flow": null,
            "grid_area": null,
            "grid_template_columns": null,
            "flex": null,
            "_model_name": "LayoutModel",
            "justify_items": null,
            "grid_row": null,
            "max_height": null,
            "align_content": null,
            "visibility": null,
            "align_self": null,
            "height": null,
            "min_height": null,
            "padding": null,
            "grid_auto_rows": null,
            "grid_gap": null,
            "max_width": null,
            "order": null,
            "_view_module_version": "1.2.0",
            "grid_template_areas": null,
            "object_position": null,
            "object_fit": null,
            "grid_auto_columns": null,
            "margin": null,
            "display": null,
            "left": null
          }
        }
      }
    }
  },
  "cells": [
    {
      "cell_type": "markdown",
      "metadata": {
        "id": "view-in-github",
        "colab_type": "text"
      },
      "source": [
        "<a href=\"https://colab.research.google.com/github/DayalStrub/ecir2021tutorial/blob/main/other/2-simplest-thing-WIP.ipynb\" target=\"_parent\"><img src=\"https://colab.research.google.com/assets/colab-badge.svg\" alt=\"Open In Colab\"/></a>"
      ]
    },
    {
      "cell_type": "code",
      "metadata": {
        "colab": {
          "base_uri": "https://localhost:8080/"
        },
        "id": "_AKKN1edGB07",
        "outputId": "242bb130-2e42-4fe8-da61-5bdbb7f28ec2"
      },
      "source": [
        "# !pip install -q python-terrier\n",
        "!pip install -q git+https://github.com/terrier-org/pyterrier.git"
      ],
      "execution_count": 1,
      "outputs": [
        {
          "output_type": "stream",
          "text": [
            "\u001b[K     |████████████████████████████████| 1.1MB 18.5MB/s \n",
            "\u001b[K     |████████████████████████████████| 71kB 8.6MB/s \n",
            "\u001b[K     |████████████████████████████████| 163kB 45.2MB/s \n",
            "\u001b[K     |████████████████████████████████| 51kB 6.8MB/s \n",
            "\u001b[K     |████████████████████████████████| 81kB 7.1MB/s \n",
            "\u001b[K     |████████████████████████████████| 1.8MB 45.8MB/s \n",
            "\u001b[K     |████████████████████████████████| 5.5MB 45.5MB/s \n",
            "\u001b[K     |████████████████████████████████| 133kB 36.5MB/s \n",
            "\u001b[K     |████████████████████████████████| 645kB 41.8MB/s \n",
            "\u001b[?25h  Building wheel for python-terrier (setup.py) ... \u001b[?25l\u001b[?25hdone\n",
            "  Building wheel for wget (setup.py) ... \u001b[?25l\u001b[?25hdone\n",
            "  Building wheel for pytrec-eval (setup.py) ... \u001b[?25l\u001b[?25hdone\n",
            "  Building wheel for chest (setup.py) ... \u001b[?25l\u001b[?25hdone\n",
            "  Building wheel for warc3-wet-clueweb09 (setup.py) ... \u001b[?25l\u001b[?25hdone\n",
            "  Building wheel for cbor (setup.py) ... \u001b[?25l\u001b[?25hdone\n"
          ],
          "name": "stdout"
        }
      ]
    },
    {
      "cell_type": "code",
      "metadata": {
        "id": "oMCOAzqFO3L5"
      },
      "source": [
        "import pandas as pd"
      ],
      "execution_count": 12,
      "outputs": []
    },
    {
      "cell_type": "code",
      "metadata": {
        "colab": {
          "base_uri": "https://localhost:8080/"
        },
        "id": "5PwYpg1xF7Mf",
        "outputId": "5624ed0e-8abd-46ee-80be-78ca81b84a68"
      },
      "source": [
        "import pyterrier as pt\n",
        "pt.init(boot_packages=[\"com.github.terrierteam:terrier-prf:-SNAPSHOT\"])"
      ],
      "execution_count": 2,
      "outputs": [
        {
          "output_type": "stream",
          "text": [
            "/usr/local/lib/python3.7/dist-packages/tqdm/std.py:658: FutureWarning: The Panel class is removed from pandas. Accessing it from the top-level namespace will also be removed in the next version\n",
            "  from pandas import Panel\n"
          ],
          "name": "stderr"
        },
        {
          "output_type": "stream",
          "text": [
            "terrier-assemblies 5.4  jar-with-dependencies not found, downloading to /root/.pyterrier...\n",
            "Done\n",
            "terrier-python-helper 0.0.5  jar not found, downloading to /root/.pyterrier...\n",
            "Done\n",
            "terrier-prf -SNAPSHOT  jar not found, downloading to /root/.pyterrier...\n",
            "Done\n",
            "PyTerrier 0.5.0 has loaded Terrier 5.4 (built by craigm on 2021-01-16 14:17)\n"
          ],
          "name": "stdout"
        }
      ]
    },
    {
      "cell_type": "code",
      "metadata": {
        "id": "Cwgw-Eh_Qo1_"
      },
      "source": [
        "dataset = pt.datasets.get_dataset('irds:cord19/trec-covid')"
      ],
      "execution_count": 3,
      "outputs": []
    },
    {
      "cell_type": "code",
      "metadata": {
        "id": "ScBsia3OQoRW",
        "colab": {
          "base_uri": "https://localhost:8080/",
          "height": 312,
          "referenced_widgets": [
            "bd917de87d164761872a69ef99cb6452",
            "fceb9f25798348e6ae0e07b1ed70c491",
            "40419161c89140068545bd419aaef786",
            "88116f3e8ee749648e1286d54060d05d",
            "723edaf6c84d4ce68c9079dfeb9ad62b",
            "b8e9de12d6914ddea750724777fecc92",
            "1b24afe4cd4147169593de37903fbee7",
            "a78535282fbd45459c441f5ed5f673a9"
          ]
        },
        "outputId": "b1b31e04-4c3d-4dc5-8c45-70af7af6c2fb"
      },
      "source": [
        "next(iter(dataset.get_corpus_iter()))"
      ],
      "execution_count": 4,
      "outputs": [
        {
          "output_type": "stream",
          "text": [
            "[INFO] If you have a local copy of https://ai2-semanticscholar-cord-19.s3-us-west-2.amazonaws.com/2020-07-16/metadata.csv, you can symlink it here to avoid downloading it again: /root/.ir_datasets/downloads/80d664e496b8b7e50a39c6f6bb92e0ef\n",
            "[INFO] [starting] https://ai2-semanticscholar-cord-19.s3-us-west-2.amazonaws.com/2020-07-16/metadata.csv\n",
            "[INFO] [finished] https://ai2-semanticscholar-cord-19.s3-us-west-2.amazonaws.com/2020-07-16/metadata.csv: [00:09] [269MB] [29.2MB/s]\n",
            "[INFO] [starting] building docstore\n",
            "docs_iter: 192509it [00:12, 15079.90it/s]\n",
            "[INFO] [finished] docs_iter: [00:12] [192509it] [15072.20it/s]\n",
            "[INFO] [finished] building docstore [12.78s]\n"
          ],
          "name": "stderr"
        },
        {
          "output_type": "display_data",
          "data": {
            "application/vnd.jupyter.widget-view+json": {
              "model_id": "bd917de87d164761872a69ef99cb6452",
              "version_minor": 0,
              "version_major": 2
            },
            "text/plain": [
              "HBox(children=(FloatProgress(value=0.0, description='cord19/trec-covid documents', max=192509.0, style=Progres…"
            ]
          },
          "metadata": {
            "tags": []
          }
        },
        {
          "output_type": "execute_result",
          "data": {
            "text/plain": [
              "OrderedDict([('title',\n",
              "              'Clinical features of culture-proven Mycoplasma pneumoniae infections at King Abdulaziz University Hospital, Jeddah, Saudi Arabia'),\n",
              "             ('doi', '10.1186/1471-2334-1-6'),\n",
              "             ('date', '2001-07-04'),\n",
              "             ('abstract',\n",
              "              'OBJECTIVE: This retrospective chart review describes the epidemiology and clinical features of 40 patients with culture-proven Mycoplasma pneumoniae infections at King Abdulaziz University Hospital, Jeddah, Saudi Arabia. METHODS: Patients with positive M. pneumoniae cultures from respiratory specimens from January 1997 through December 1998 were identified through the Microbiology records. Charts of patients were reviewed. RESULTS: 40 patients were identified, 33 (82.5%) of whom required admission. Most infections (92.5%) were community-acquired. The infection affected all age groups but was most common in infants (32.5%) and pre-school children (22.5%). It occurred year-round but was most common in the fall (35%) and spring (30%). More than three-quarters of patients (77.5%) had comorbidities. Twenty-four isolates (60%) were associated with pneumonia, 14 (35%) with upper respiratory tract infections, and 2 (5%) with bronchiolitis. Cough (82.5%), fever (75%), and malaise (58.8%) were the most common symptoms, and crepitations (60%), and wheezes (40%) were the most common signs. Most patients with pneumonia had crepitations (79.2%) but only 25% had bronchial breathing. Immunocompromised patients were more likely than non-immunocompromised patients to present with pneumonia (8/9 versus 16/31, P = 0.05). Of the 24 patients with pneumonia, 14 (58.3%) had uneventful recovery, 4 (16.7%) recovered following some complications, 3 (12.5%) died because of M pneumoniae infection, and 3 (12.5%) died due to underlying comorbidities. The 3 patients who died of M pneumoniae pneumonia had other comorbidities. CONCLUSION: our results were similar to published data except for the finding that infections were more common in infants and preschool children and that the mortality rate of pneumonia in patients with comorbidities was high.'),\n",
              "             ('docno', 'ug7v899j')])"
            ]
          },
          "metadata": {
            "tags": []
          },
          "execution_count": 4
        }
      ]
    },
    {
      "cell_type": "code",
      "metadata": {
        "id": "Om3klADKQoFG",
        "colab": {
          "base_uri": "https://localhost:8080/",
          "height": 118,
          "referenced_widgets": [
            "38b30dd849c74766b2c80778b4ff1375",
            "745888a31368423fbec16f710c52e6ea",
            "29c79686e88f4a2a8b8af03270dfa9b8",
            "7133b4e2e99e4254b31a40dc7a407eb1",
            "2fc7860caf21465d97946239b731b65c",
            "bd16b08c5d804431a24eb677feb8e139",
            "765a860930a84acba1686889ad7769e8",
            "17d1e2e8c43a4668b4d3ef2da8a9a3fb"
          ]
        },
        "outputId": "32eb2626-b539-4af1-8a20-62ec77e1eb07"
      },
      "source": [
        "N = 10_000\n",
        "pt_index_path = './index_cord19'\n",
        "\n",
        "# create the index, using the IterDictIndexer indexer \n",
        "indexer = pt.index.IterDictIndexer(pt_index_path, overwrite=True) # , blocks=True\n",
        "\n",
        "# we give the dataset get_corpus_iter() directly to the indexer\n",
        "# while specifying the fields to index and the metadata to record\n",
        "index_ref = indexer.index(\n",
        "    (datum for i, datum in enumerate(dataset.get_corpus_iter()) if i < N),\n",
        "    fields=('abstract',), # TODO should this be a list?\n",
        "    # meta={'docno' : 26, 'text' : 2048, 'abstract' : 2048}\n",
        "    meta=['docno','abstract'],\n",
        "    )\n",
        "\n",
        "index = pt.IndexFactory.of(index_ref)"
      ],
      "execution_count": 5,
      "outputs": [
        {
          "output_type": "stream",
          "text": [
            "\n"
          ],
          "name": "stdout"
        },
        {
          "output_type": "display_data",
          "data": {
            "application/vnd.jupyter.widget-view+json": {
              "model_id": "38b30dd849c74766b2c80778b4ff1375",
              "version_minor": 0,
              "version_major": 2
            },
            "text/plain": [
              "HBox(children=(FloatProgress(value=0.0, description='cord19/trec-covid documents', max=192509.0, style=Progres…"
            ]
          },
          "metadata": {
            "tags": []
          }
        },
        {
          "output_type": "stream",
          "text": [
            "06:27:40.646 [ForkJoinPool-1-worker-3] WARN  o.t.structures.indexing.Indexer - Adding an empty document to the index (6iu1dtyl) - further warnings are suppressed\n",
            "\n",
            "06:27:53.243 [ForkJoinPool-1-worker-3] WARN  o.t.structures.indexing.Indexer - Indexed 2143 empty documents\n"
          ],
          "name": "stdout"
        }
      ]
    },
    {
      "cell_type": "code",
      "metadata": {
        "id": "ZV436ACnol_f",
        "colab": {
          "base_uri": "https://localhost:8080/"
        },
        "outputId": "18575c23-6030-45f5-a17a-3d16a4343f39"
      },
      "source": [
        "print(index.getCollectionStatistics().toString())"
      ],
      "execution_count": null,
      "outputs": [
        {
          "output_type": "stream",
          "text": [
            "Number of documents: 10000\n",
            "Number of terms: 36191\n",
            "Number of postings: 673758\n",
            "Number of fields: 1\n",
            "Number of tokens: 1040094\n",
            "Field names: [abstract]\n",
            "Positions:   false\n",
            "\n"
          ],
          "name": "stdout"
        }
      ]
    },
    {
      "cell_type": "code",
      "metadata": {
        "colab": {
          "base_uri": "https://localhost:8080/",
          "height": 133
        },
        "id": "MyYsasfaGYFt",
        "outputId": "04532ed5-7958-4e6f-ab84-776b46250ecf"
      },
      "source": [
        "queries = dataset.get_topics(variant='title').head(1)\n",
        "queries.head()"
      ],
      "execution_count": 6,
      "outputs": [
        {
          "output_type": "stream",
          "text": [
            "[INFO] If you have a local copy of https://ir.nist.gov/covidSubmit/data/topics-rnd5.xml, you can symlink it here to avoid downloading it again: /root/.ir_datasets/downloads/0307a37b6b9f1a5f233340a769d538ea\n",
            "[INFO] [starting] https://ir.nist.gov/covidSubmit/data/topics-rnd5.xml\n",
            "[INFO] [finished] https://ir.nist.gov/covidSubmit/data/topics-rnd5.xml: [00:00] [18.7kB] [5.45MB/s]\n"
          ],
          "name": "stderr"
        },
        {
          "output_type": "execute_result",
          "data": {
            "text/html": [
              "<div>\n",
              "<style scoped>\n",
              "    .dataframe tbody tr th:only-of-type {\n",
              "        vertical-align: middle;\n",
              "    }\n",
              "\n",
              "    .dataframe tbody tr th {\n",
              "        vertical-align: top;\n",
              "    }\n",
              "\n",
              "    .dataframe thead th {\n",
              "        text-align: right;\n",
              "    }\n",
              "</style>\n",
              "<table border=\"1\" class=\"dataframe\">\n",
              "  <thead>\n",
              "    <tr style=\"text-align: right;\">\n",
              "      <th></th>\n",
              "      <th>qid</th>\n",
              "      <th>query</th>\n",
              "    </tr>\n",
              "  </thead>\n",
              "  <tbody>\n",
              "    <tr>\n",
              "      <th>0</th>\n",
              "      <td>1</td>\n",
              "      <td>coronavirus origin</td>\n",
              "    </tr>\n",
              "  </tbody>\n",
              "</table>\n",
              "</div>"
            ],
            "text/plain": [
              "  qid               query\n",
              "0   1  coronavirus origin"
            ]
          },
          "metadata": {
            "tags": []
          },
          "execution_count": 6
        }
      ]
    },
    {
      "cell_type": "code",
      "metadata": {
        "id": "UVpaOHP6GC30"
      },
      "source": [
        "M = 1001 # TODO is 1000 the max ever returned\n",
        "\n",
        "bm25 = pt.BatchRetrieve(index, wmodel=\"BM25\", num_results=M)\n",
        "rm3 = pt.rewrite.RM3(index)\n",
        "bm25_text = pt.BatchRetrieve(index, wmodel=\"BM25\", metadata=[\"docno\", \"abstract\"], num_results=M)\n",
        "\n",
        "rm3_pipe = bm25 >> rm3 >> bm25_text"
      ],
      "execution_count": 82,
      "outputs": []
    },
    {
      "cell_type": "code",
      "metadata": {
        "id": "Lt0DO6F2RY2u"
      },
      "source": [
        "# TODO Question: in rm3_pipe, is final bm25 just reranking initial bm25 results, or does it re-consider all docs?"
      ],
      "execution_count": 83,
      "outputs": []
    },
    {
      "cell_type": "code",
      "metadata": {
        "id": "d-a2OkIORjDB"
      },
      "source": [
        "# TODO figure out how to implement PR Feedback using logistic regression on bag of words a la Lin"
      ],
      "execution_count": 84,
      "outputs": []
    },
    {
      "cell_type": "code",
      "metadata": {
        "id": "l3lk-NnPoxen",
        "colab": {
          "base_uri": "https://localhost:8080/",
          "height": 424
        },
        "outputId": "74084233-15a1-49cd-ff32-d704046189b5"
      },
      "source": [
        "df_out = rm3_pipe.transform(queries)\n",
        "df_out.loc[df_out[\"qid\"] == \"1\", :]"
      ],
      "execution_count": 85,
      "outputs": [
        {
          "output_type": "execute_result",
          "data": {
            "text/html": [
              "<div>\n",
              "<style scoped>\n",
              "    .dataframe tbody tr th:only-of-type {\n",
              "        vertical-align: middle;\n",
              "    }\n",
              "\n",
              "    .dataframe tbody tr th {\n",
              "        vertical-align: top;\n",
              "    }\n",
              "\n",
              "    .dataframe thead th {\n",
              "        text-align: right;\n",
              "    }\n",
              "</style>\n",
              "<table border=\"1\" class=\"dataframe\">\n",
              "  <thead>\n",
              "    <tr style=\"text-align: right;\">\n",
              "      <th></th>\n",
              "      <th>qid</th>\n",
              "      <th>docid</th>\n",
              "      <th>docno</th>\n",
              "      <th>abstract</th>\n",
              "      <th>rank</th>\n",
              "      <th>score</th>\n",
              "      <th>query_0</th>\n",
              "      <th>query</th>\n",
              "    </tr>\n",
              "  </thead>\n",
              "  <tbody>\n",
              "    <tr>\n",
              "      <th>0</th>\n",
              "      <td>1</td>\n",
              "      <td>2257</td>\n",
              "      <td>8y24j34j</td>\n",
              "      <td>Middle East respiratory syndrome coronavirus i...</td>\n",
              "      <td>0</td>\n",
              "      <td>19.049835</td>\n",
              "      <td>coronavirus origin</td>\n",
              "      <td>applypipeline:off protect^0.035425290 anim^0.0...</td>\n",
              "    </tr>\n",
              "    <tr>\n",
              "      <th>1</th>\n",
              "      <td>1</td>\n",
              "      <td>4582</td>\n",
              "      <td>2jq626ye</td>\n",
              "      <td>A novel coronavirus (2019-nCoV) originating in...</td>\n",
              "      <td>1</td>\n",
              "      <td>13.717366</td>\n",
              "      <td>coronavirus origin</td>\n",
              "      <td>applypipeline:off protect^0.035425290 anim^0.0...</td>\n",
              "    </tr>\n",
              "    <tr>\n",
              "      <th>2</th>\n",
              "      <td>1</td>\n",
              "      <td>1394</td>\n",
              "      <td>vnafx1ng</td>\n",
              "      <td>The phosphoprotein (P) gene of most Paramyxovi...</td>\n",
              "      <td>2</td>\n",
              "      <td>11.114468</td>\n",
              "      <td>coronavirus origin</td>\n",
              "      <td>applypipeline:off protect^0.035425290 anim^0.0...</td>\n",
              "    </tr>\n",
              "    <tr>\n",
              "      <th>3</th>\n",
              "      <td>1</td>\n",
              "      <td>1616</td>\n",
              "      <td>hp5x637c</td>\n",
              "      <td>BACKGROUND: In 2007, a novel bunyavirus was fo...</td>\n",
              "      <td>3</td>\n",
              "      <td>8.417806</td>\n",
              "      <td>coronavirus origin</td>\n",
              "      <td>applypipeline:off protect^0.035425290 anim^0.0...</td>\n",
              "    </tr>\n",
              "    <tr>\n",
              "      <th>4</th>\n",
              "      <td>1</td>\n",
              "      <td>4936</td>\n",
              "      <td>41ui4lqc</td>\n",
              "      <td>Emerging viruses represent a continuous threat...</td>\n",
              "      <td>4</td>\n",
              "      <td>8.340423</td>\n",
              "      <td>coronavirus origin</td>\n",
              "      <td>applypipeline:off protect^0.035425290 anim^0.0...</td>\n",
              "    </tr>\n",
              "    <tr>\n",
              "      <th>...</th>\n",
              "      <td>...</td>\n",
              "      <td>...</td>\n",
              "      <td>...</td>\n",
              "      <td>...</td>\n",
              "      <td>...</td>\n",
              "      <td>...</td>\n",
              "      <td>...</td>\n",
              "      <td>...</td>\n",
              "    </tr>\n",
              "    <tr>\n",
              "      <th>995</th>\n",
              "      <td>1</td>\n",
              "      <td>1727</td>\n",
              "      <td>5d64esp4</td>\n",
              "      <td>RNA viruses exhibit substantial structural, ec...</td>\n",
              "      <td>995</td>\n",
              "      <td>0.986444</td>\n",
              "      <td>coronavirus origin</td>\n",
              "      <td>applypipeline:off protect^0.035425290 anim^0.0...</td>\n",
              "    </tr>\n",
              "    <tr>\n",
              "      <th>996</th>\n",
              "      <td>1</td>\n",
              "      <td>1685</td>\n",
              "      <td>bkreu1s2</td>\n",
              "      <td>Collectively, viruses have the greatest geneti...</td>\n",
              "      <td>996</td>\n",
              "      <td>0.986241</td>\n",
              "      <td>coronavirus origin</td>\n",
              "      <td>applypipeline:off protect^0.035425290 anim^0.0...</td>\n",
              "    </tr>\n",
              "    <tr>\n",
              "      <th>997</th>\n",
              "      <td>1</td>\n",
              "      <td>7870</td>\n",
              "      <td>o2cijp5a</td>\n",
              "      <td>In the present report we provide the strain di...</td>\n",
              "      <td>997</td>\n",
              "      <td>0.986241</td>\n",
              "      <td>coronavirus origin</td>\n",
              "      <td>applypipeline:off protect^0.035425290 anim^0.0...</td>\n",
              "    </tr>\n",
              "    <tr>\n",
              "      <th>998</th>\n",
              "      <td>1</td>\n",
              "      <td>4489</td>\n",
              "      <td>78ur1j2p</td>\n",
              "      <td>Despite all the research done on the first Zik...</td>\n",
              "      <td>998</td>\n",
              "      <td>0.983408</td>\n",
              "      <td>coronavirus origin</td>\n",
              "      <td>applypipeline:off protect^0.035425290 anim^0.0...</td>\n",
              "    </tr>\n",
              "    <tr>\n",
              "      <th>999</th>\n",
              "      <td>1</td>\n",
              "      <td>1337</td>\n",
              "      <td>mdej7nhj</td>\n",
              "      <td>In our current study, a newer amine functional...</td>\n",
              "      <td>999</td>\n",
              "      <td>0.983401</td>\n",
              "      <td>coronavirus origin</td>\n",
              "      <td>applypipeline:off protect^0.035425290 anim^0.0...</td>\n",
              "    </tr>\n",
              "  </tbody>\n",
              "</table>\n",
              "<p>1000 rows × 8 columns</p>\n",
              "</div>"
            ],
            "text/plain": [
              "    qid  ...                                              query\n",
              "0     1  ...  applypipeline:off protect^0.035425290 anim^0.0...\n",
              "1     1  ...  applypipeline:off protect^0.035425290 anim^0.0...\n",
              "2     1  ...  applypipeline:off protect^0.035425290 anim^0.0...\n",
              "3     1  ...  applypipeline:off protect^0.035425290 anim^0.0...\n",
              "4     1  ...  applypipeline:off protect^0.035425290 anim^0.0...\n",
              "..   ..  ...                                                ...\n",
              "995   1  ...  applypipeline:off protect^0.035425290 anim^0.0...\n",
              "996   1  ...  applypipeline:off protect^0.035425290 anim^0.0...\n",
              "997   1  ...  applypipeline:off protect^0.035425290 anim^0.0...\n",
              "998   1  ...  applypipeline:off protect^0.035425290 anim^0.0...\n",
              "999   1  ...  applypipeline:off protect^0.035425290 anim^0.0...\n",
              "\n",
              "[1000 rows x 8 columns]"
            ]
          },
          "metadata": {
            "tags": []
          },
          "execution_count": 85
        }
      ]
    },
    {
      "cell_type": "code",
      "metadata": {
        "id": "T7MnLu0gSU7Z"
      },
      "source": [
        "from sklearn.feature_extraction.text import CountVectorizer, TfidfTransformer\n",
        "from sklearn.compose import ColumnTransformer\n",
        "from sklearn.pipeline import Pipeline\n",
        "# from sklearn.ensemble import RandomForestClassifier\n",
        "from sklearn.linear_model import LogisticRegression"
      ],
      "execution_count": 65,
      "outputs": []
    },
    {
      "cell_type": "code",
      "metadata": {
        "id": "j25R-v5NNpV9",
        "outputId": "33984bde-529b-456a-d4a3-443f2494a95b",
        "colab": {
          "base_uri": "https://localhost:8080/"
        }
      },
      "source": [
        "n_top = 10\n",
        "n_bottom = 100 # TODO should actually get 0 score documents? how to do this in pyterrier?\n",
        "\n",
        "col_text = 'abstract'\n",
        "\n",
        "df_relevant = df_out.sort_values(\"rank\").loc[0:n_top, [\"docid\", \"abstract\"]]\n",
        "df_relevant[\"label\"] = 1\n",
        "\n",
        "df_not_relevant = df_out.sort_values(\"rank\", ascending=False).reset_index(drop=True).loc[0:n_bottom, [\"docid\", \"abstract\"]]\n",
        "df_not_relevant[\"label\"] = 0\n",
        "\n",
        "df_train = pd.concat([df_relevant, df_not_relevant])\n",
        "\n",
        "text_transformer = Pipeline([\n",
        "    ('bow', CountVectorizer()),\n",
        "    ('tfidf', TfidfTransformer()),\n",
        "])\n",
        "\n",
        "preprocessor = ColumnTransformer(\n",
        "    transformers=[\n",
        "        # ('num', num_transformer, col_num),\n",
        "        # ('cat', cat_transformer, col_cat),\n",
        "        ('text', text_transformer, col_text)\n",
        "    ]\n",
        ")\n",
        "\n",
        "crf = Pipeline(steps=[\n",
        "    ('preprocessor', preprocessor),\n",
        "    ('classifier', LogisticRegression())\n",
        "])\n",
        "\n",
        "X_train = df_train.loc[:, [\"docid\", \"abstract\"]]\n",
        "y_train = df_train[\"label\"]\n",
        "\n",
        "crf.fit(X_train, y_train) #;"
      ],
      "execution_count": 66,
      "outputs": [
        {
          "output_type": "execute_result",
          "data": {
            "text/plain": [
              "Pipeline(memory=None,\n",
              "         steps=[('preprocessor',\n",
              "                 ColumnTransformer(n_jobs=None, remainder='drop',\n",
              "                                   sparse_threshold=0.3,\n",
              "                                   transformer_weights=None,\n",
              "                                   transformers=[('text',\n",
              "                                                  Pipeline(memory=None,\n",
              "                                                           steps=[('bow',\n",
              "                                                                   CountVectorizer(analyzer='word',\n",
              "                                                                                   binary=False,\n",
              "                                                                                   decode_error='strict',\n",
              "                                                                                   dtype=<class 'numpy.int64'>,\n",
              "                                                                                   encoding='utf-8',\n",
              "                                                                                   input='content',\n",
              "                                                                                   lowercase=True,\n",
              "                                                                                   max_df=1.0,\n",
              "                                                                                   max...\n",
              "                                                                                    smooth_idf=True,\n",
              "                                                                                    sublinear_tf=False,\n",
              "                                                                                    use_idf=True))],\n",
              "                                                           verbose=False),\n",
              "                                                  'abstract')],\n",
              "                                   verbose=False)),\n",
              "                ('classifier',\n",
              "                 LogisticRegression(C=1.0, class_weight=None, dual=False,\n",
              "                                    fit_intercept=True, intercept_scaling=1,\n",
              "                                    l1_ratio=None, max_iter=100,\n",
              "                                    multi_class='auto', n_jobs=None,\n",
              "                                    penalty='l2', random_state=None,\n",
              "                                    solver='lbfgs', tol=0.0001, verbose=0,\n",
              "                                    warm_start=False))],\n",
              "         verbose=False)"
            ]
          },
          "metadata": {
            "tags": []
          },
          "execution_count": 66
        }
      ]
    },
    {
      "cell_type": "code",
      "metadata": {
        "id": "PC2-ILrQS2ZG",
        "outputId": "ec409898-1124-4cf6-b141-2fa52014771d",
        "colab": {
          "base_uri": "https://localhost:8080/",
          "height": 424
        }
      },
      "source": [
        "preds = crf.predict_proba(df_sort.loc[:, [\"docid\", \"abstract\"]])\n",
        "\n",
        "df_out[\"score\"] = preds[:, 1] # True class first?\n",
        "df_out.sort_values(\"score\", ascending=False, inplace=True)\n",
        "df_out.reset_index(drop=True, inplace=True)\n",
        "df_out[\"rank\"] = df_out.index\n",
        "df_out"
      ],
      "execution_count": 67,
      "outputs": [
        {
          "output_type": "execute_result",
          "data": {
            "text/html": [
              "<div>\n",
              "<style scoped>\n",
              "    .dataframe tbody tr th:only-of-type {\n",
              "        vertical-align: middle;\n",
              "    }\n",
              "\n",
              "    .dataframe tbody tr th {\n",
              "        vertical-align: top;\n",
              "    }\n",
              "\n",
              "    .dataframe thead th {\n",
              "        text-align: right;\n",
              "    }\n",
              "</style>\n",
              "<table border=\"1\" class=\"dataframe\">\n",
              "  <thead>\n",
              "    <tr style=\"text-align: right;\">\n",
              "      <th></th>\n",
              "      <th>qid</th>\n",
              "      <th>docid</th>\n",
              "      <th>docno</th>\n",
              "      <th>abstract</th>\n",
              "      <th>rank</th>\n",
              "      <th>score</th>\n",
              "      <th>query_0</th>\n",
              "      <th>query</th>\n",
              "    </tr>\n",
              "  </thead>\n",
              "  <tbody>\n",
              "    <tr>\n",
              "      <th>0</th>\n",
              "      <td>1</td>\n",
              "      <td>2257</td>\n",
              "      <td>8y24j34j</td>\n",
              "      <td>Middle East respiratory syndrome coronavirus i...</td>\n",
              "      <td>0</td>\n",
              "      <td>0.208616</td>\n",
              "      <td>coronavirus origin</td>\n",
              "      <td>applypipeline:off protect^0.035425290 anim^0.0...</td>\n",
              "    </tr>\n",
              "    <tr>\n",
              "      <th>1</th>\n",
              "      <td>1</td>\n",
              "      <td>1616</td>\n",
              "      <td>hp5x637c</td>\n",
              "      <td>BACKGROUND: In 2007, a novel bunyavirus was fo...</td>\n",
              "      <td>1</td>\n",
              "      <td>0.206782</td>\n",
              "      <td>coronavirus origin</td>\n",
              "      <td>applypipeline:off protect^0.035425290 anim^0.0...</td>\n",
              "    </tr>\n",
              "    <tr>\n",
              "      <th>2</th>\n",
              "      <td>1</td>\n",
              "      <td>5200</td>\n",
              "      <td>6io5yxgo</td>\n",
              "      <td>Many emerging infectious diseases in human pop...</td>\n",
              "      <td>2</td>\n",
              "      <td>0.204686</td>\n",
              "      <td>coronavirus origin</td>\n",
              "      <td>applypipeline:off protect^0.035425290 anim^0.0...</td>\n",
              "    </tr>\n",
              "    <tr>\n",
              "      <th>3</th>\n",
              "      <td>1</td>\n",
              "      <td>3012</td>\n",
              "      <td>6eb2jgl7</td>\n",
              "      <td>Norovirus infection, a highly prevalent condit...</td>\n",
              "      <td>3</td>\n",
              "      <td>0.204143</td>\n",
              "      <td>coronavirus origin</td>\n",
              "      <td>applypipeline:off protect^0.035425290 anim^0.0...</td>\n",
              "    </tr>\n",
              "    <tr>\n",
              "      <th>4</th>\n",
              "      <td>1</td>\n",
              "      <td>1574</td>\n",
              "      <td>ey5xmb8a</td>\n",
              "      <td>Passive immunity (PI), acquired through colost...</td>\n",
              "      <td>4</td>\n",
              "      <td>0.203095</td>\n",
              "      <td>coronavirus origin</td>\n",
              "      <td>applypipeline:off protect^0.035425290 anim^0.0...</td>\n",
              "    </tr>\n",
              "    <tr>\n",
              "      <th>...</th>\n",
              "      <td>...</td>\n",
              "      <td>...</td>\n",
              "      <td>...</td>\n",
              "      <td>...</td>\n",
              "      <td>...</td>\n",
              "      <td>...</td>\n",
              "      <td>...</td>\n",
              "      <td>...</td>\n",
              "    </tr>\n",
              "    <tr>\n",
              "      <th>995</th>\n",
              "      <td>1</td>\n",
              "      <td>747</td>\n",
              "      <td>ocp6yodg</td>\n",
              "      <td>BACKGROUND: During the initial containment pha...</td>\n",
              "      <td>995</td>\n",
              "      <td>0.080233</td>\n",
              "      <td>coronavirus origin</td>\n",
              "      <td>applypipeline:off protect^0.035425290 anim^0.0...</td>\n",
              "    </tr>\n",
              "    <tr>\n",
              "      <th>996</th>\n",
              "      <td>1</td>\n",
              "      <td>5841</td>\n",
              "      <td>pzhi491i</td>\n",
              "      <td>The remarkable transition of biological scienc...</td>\n",
              "      <td>996</td>\n",
              "      <td>0.079512</td>\n",
              "      <td>coronavirus origin</td>\n",
              "      <td>applypipeline:off protect^0.035425290 anim^0.0...</td>\n",
              "    </tr>\n",
              "    <tr>\n",
              "      <th>997</th>\n",
              "      <td>1</td>\n",
              "      <td>4904</td>\n",
              "      <td>qote5nx2</td>\n",
              "      <td>The genetically selected high antibody respond...</td>\n",
              "      <td>997</td>\n",
              "      <td>0.079462</td>\n",
              "      <td>coronavirus origin</td>\n",
              "      <td>applypipeline:off protect^0.035425290 anim^0.0...</td>\n",
              "    </tr>\n",
              "    <tr>\n",
              "      <th>998</th>\n",
              "      <td>1</td>\n",
              "      <td>156</td>\n",
              "      <td>iy4c7404</td>\n",
              "      <td>In networks, nodes may preferentially contact ...</td>\n",
              "      <td>998</td>\n",
              "      <td>0.079132</td>\n",
              "      <td>coronavirus origin</td>\n",
              "      <td>applypipeline:off protect^0.035425290 anim^0.0...</td>\n",
              "    </tr>\n",
              "    <tr>\n",
              "      <th>999</th>\n",
              "      <td>1</td>\n",
              "      <td>4223</td>\n",
              "      <td>q4p77ukw</td>\n",
              "      <td>Porcine epidemic diarrhea (PED) is a highly co...</td>\n",
              "      <td>999</td>\n",
              "      <td>0.076117</td>\n",
              "      <td>coronavirus origin</td>\n",
              "      <td>applypipeline:off protect^0.035425290 anim^0.0...</td>\n",
              "    </tr>\n",
              "  </tbody>\n",
              "</table>\n",
              "<p>1000 rows × 8 columns</p>\n",
              "</div>"
            ],
            "text/plain": [
              "    qid  ...                                              query\n",
              "0     1  ...  applypipeline:off protect^0.035425290 anim^0.0...\n",
              "1     1  ...  applypipeline:off protect^0.035425290 anim^0.0...\n",
              "2     1  ...  applypipeline:off protect^0.035425290 anim^0.0...\n",
              "3     1  ...  applypipeline:off protect^0.035425290 anim^0.0...\n",
              "4     1  ...  applypipeline:off protect^0.035425290 anim^0.0...\n",
              "..   ..  ...                                                ...\n",
              "995   1  ...  applypipeline:off protect^0.035425290 anim^0.0...\n",
              "996   1  ...  applypipeline:off protect^0.035425290 anim^0.0...\n",
              "997   1  ...  applypipeline:off protect^0.035425290 anim^0.0...\n",
              "998   1  ...  applypipeline:off protect^0.035425290 anim^0.0...\n",
              "999   1  ...  applypipeline:off protect^0.035425290 anim^0.0...\n",
              "\n",
              "[1000 rows x 8 columns]"
            ]
          },
          "metadata": {
            "tags": []
          },
          "execution_count": 67
        }
      ]
    },
    {
      "cell_type": "code",
      "metadata": {
        "id": "dWInLV_aXxzN"
      },
      "source": [
        "def pr_linear_reranker(\n",
        "    df,\n",
        "    *,\n",
        "    n_top = 10,\n",
        "    n_bottom = 100, # TODO should actually get 0 score documents? how to do this in pyterrier?\n",
        "    col_text = 'abstract'\n",
        "):\n",
        "  df_tmp = df.copy()\n",
        "  df_relevant = df_tmp.sort_values(\"rank\").loc[0:n_top, [\"docid\", \"abstract\"]]\n",
        "  df_relevant[\"label\"] = 1\n",
        "\n",
        "  df_not_relevant = df_tmp.sort_values(\"rank\", ascending=False).reset_index(drop=True).loc[0:n_bottom, [\"docid\", \"abstract\"]]\n",
        "  df_not_relevant[\"label\"] = 0\n",
        "\n",
        "  df_train = pd.concat([df_relevant, df_not_relevant])\n",
        "\n",
        "  text_transformer = Pipeline([\n",
        "      ('bow', CountVectorizer()),\n",
        "      ('tfidf', TfidfTransformer()),\n",
        "  ])\n",
        "\n",
        "  preprocessor = ColumnTransformer(\n",
        "      transformers=[\n",
        "          # ('num', num_transformer, col_num),\n",
        "          # ('cat', cat_transformer, col_cat),\n",
        "          ('text', text_transformer, col_text)\n",
        "      ]\n",
        "  )\n",
        "\n",
        "  crf = Pipeline(steps=[\n",
        "      ('preprocessor', preprocessor),\n",
        "      ('classifier', LogisticRegression())\n",
        "  ])\n",
        "\n",
        "  X_train = df_train.loc[:, [\"docid\", \"abstract\"]]\n",
        "  y_train = df_train[\"label\"]\n",
        "\n",
        "  crf.fit(X_train, y_train);\n",
        "\n",
        "  preds = crf.predict_proba(df_tmp.loc[:, [\"docid\", \"abstract\"]])\n",
        "\n",
        "  df_tmp[\"score\"] = preds[:, 1] # True class first?\n",
        "  df_tmp.sort_values(\"score\", ascending=False, inplace=True)\n",
        "  df_tmp.reset_index(drop=True, inplace=True)\n",
        "  df_tmp[\"rank\"] = df_out.index\n",
        "  return df_tmp"
      ],
      "execution_count": 68,
      "outputs": []
    },
    {
      "cell_type": "code",
      "metadata": {
        "id": "Ojf-cyPiYjlM",
        "outputId": "6e621397-a6b5-4d57-e0f8-e9d03d612813",
        "colab": {
          "base_uri": "https://localhost:8080/",
          "height": 424
        }
      },
      "source": [
        "pr_linear_reranker(df_out)"
      ],
      "execution_count": 69,
      "outputs": [
        {
          "output_type": "execute_result",
          "data": {
            "text/html": [
              "<div>\n",
              "<style scoped>\n",
              "    .dataframe tbody tr th:only-of-type {\n",
              "        vertical-align: middle;\n",
              "    }\n",
              "\n",
              "    .dataframe tbody tr th {\n",
              "        vertical-align: top;\n",
              "    }\n",
              "\n",
              "    .dataframe thead th {\n",
              "        text-align: right;\n",
              "    }\n",
              "</style>\n",
              "<table border=\"1\" class=\"dataframe\">\n",
              "  <thead>\n",
              "    <tr style=\"text-align: right;\">\n",
              "      <th></th>\n",
              "      <th>qid</th>\n",
              "      <th>docid</th>\n",
              "      <th>docno</th>\n",
              "      <th>abstract</th>\n",
              "      <th>rank</th>\n",
              "      <th>score</th>\n",
              "      <th>query_0</th>\n",
              "      <th>query</th>\n",
              "    </tr>\n",
              "  </thead>\n",
              "  <tbody>\n",
              "    <tr>\n",
              "      <th>0</th>\n",
              "      <td>1</td>\n",
              "      <td>2257</td>\n",
              "      <td>8y24j34j</td>\n",
              "      <td>Middle East respiratory syndrome coronavirus i...</td>\n",
              "      <td>0</td>\n",
              "      <td>0.248143</td>\n",
              "      <td>coronavirus origin</td>\n",
              "      <td>applypipeline:off protect^0.035425290 anim^0.0...</td>\n",
              "    </tr>\n",
              "    <tr>\n",
              "      <th>1</th>\n",
              "      <td>1</td>\n",
              "      <td>1616</td>\n",
              "      <td>hp5x637c</td>\n",
              "      <td>BACKGROUND: In 2007, a novel bunyavirus was fo...</td>\n",
              "      <td>1</td>\n",
              "      <td>0.237354</td>\n",
              "      <td>coronavirus origin</td>\n",
              "      <td>applypipeline:off protect^0.035425290 anim^0.0...</td>\n",
              "    </tr>\n",
              "    <tr>\n",
              "      <th>2</th>\n",
              "      <td>1</td>\n",
              "      <td>1574</td>\n",
              "      <td>ey5xmb8a</td>\n",
              "      <td>Passive immunity (PI), acquired through colost...</td>\n",
              "      <td>2</td>\n",
              "      <td>0.236559</td>\n",
              "      <td>coronavirus origin</td>\n",
              "      <td>applypipeline:off protect^0.035425290 anim^0.0...</td>\n",
              "    </tr>\n",
              "    <tr>\n",
              "      <th>3</th>\n",
              "      <td>1</td>\n",
              "      <td>5200</td>\n",
              "      <td>6io5yxgo</td>\n",
              "      <td>Many emerging infectious diseases in human pop...</td>\n",
              "      <td>3</td>\n",
              "      <td>0.235666</td>\n",
              "      <td>coronavirus origin</td>\n",
              "      <td>applypipeline:off protect^0.035425290 anim^0.0...</td>\n",
              "    </tr>\n",
              "    <tr>\n",
              "      <th>4</th>\n",
              "      <td>1</td>\n",
              "      <td>3012</td>\n",
              "      <td>6eb2jgl7</td>\n",
              "      <td>Norovirus infection, a highly prevalent condit...</td>\n",
              "      <td>4</td>\n",
              "      <td>0.233275</td>\n",
              "      <td>coronavirus origin</td>\n",
              "      <td>applypipeline:off protect^0.035425290 anim^0.0...</td>\n",
              "    </tr>\n",
              "    <tr>\n",
              "      <th>...</th>\n",
              "      <td>...</td>\n",
              "      <td>...</td>\n",
              "      <td>...</td>\n",
              "      <td>...</td>\n",
              "      <td>...</td>\n",
              "      <td>...</td>\n",
              "      <td>...</td>\n",
              "      <td>...</td>\n",
              "    </tr>\n",
              "    <tr>\n",
              "      <th>995</th>\n",
              "      <td>1</td>\n",
              "      <td>4904</td>\n",
              "      <td>qote5nx2</td>\n",
              "      <td>The genetically selected high antibody respond...</td>\n",
              "      <td>995</td>\n",
              "      <td>0.079123</td>\n",
              "      <td>coronavirus origin</td>\n",
              "      <td>applypipeline:off protect^0.035425290 anim^0.0...</td>\n",
              "    </tr>\n",
              "    <tr>\n",
              "      <th>996</th>\n",
              "      <td>1</td>\n",
              "      <td>755</td>\n",
              "      <td>0qkzd2w4</td>\n",
              "      <td>Angiotensin (Ang)-(17) is now recognized as a ...</td>\n",
              "      <td>996</td>\n",
              "      <td>0.078087</td>\n",
              "      <td>coronavirus origin</td>\n",
              "      <td>applypipeline:off protect^0.035425290 anim^0.0...</td>\n",
              "    </tr>\n",
              "    <tr>\n",
              "      <th>997</th>\n",
              "      <td>1</td>\n",
              "      <td>1524</td>\n",
              "      <td>mx4t6s6n</td>\n",
              "      <td>Hypertension is a major risk factor for stroke...</td>\n",
              "      <td>997</td>\n",
              "      <td>0.076945</td>\n",
              "      <td>coronavirus origin</td>\n",
              "      <td>applypipeline:off protect^0.035425290 anim^0.0...</td>\n",
              "    </tr>\n",
              "    <tr>\n",
              "      <th>998</th>\n",
              "      <td>1</td>\n",
              "      <td>2657</td>\n",
              "      <td>b0p1b4g8</td>\n",
              "      <td>An exacerbated immune response is one of the m...</td>\n",
              "      <td>998</td>\n",
              "      <td>0.076342</td>\n",
              "      <td>coronavirus origin</td>\n",
              "      <td>applypipeline:off protect^0.035425290 anim^0.0...</td>\n",
              "    </tr>\n",
              "    <tr>\n",
              "      <th>999</th>\n",
              "      <td>1</td>\n",
              "      <td>1401</td>\n",
              "      <td>7s25wc6p</td>\n",
              "      <td>The renin-angiotensin system (RAS) plays a maj...</td>\n",
              "      <td>999</td>\n",
              "      <td>0.074117</td>\n",
              "      <td>coronavirus origin</td>\n",
              "      <td>applypipeline:off protect^0.035425290 anim^0.0...</td>\n",
              "    </tr>\n",
              "  </tbody>\n",
              "</table>\n",
              "<p>1000 rows × 8 columns</p>\n",
              "</div>"
            ],
            "text/plain": [
              "    qid  ...                                              query\n",
              "0     1  ...  applypipeline:off protect^0.035425290 anim^0.0...\n",
              "1     1  ...  applypipeline:off protect^0.035425290 anim^0.0...\n",
              "2     1  ...  applypipeline:off protect^0.035425290 anim^0.0...\n",
              "3     1  ...  applypipeline:off protect^0.035425290 anim^0.0...\n",
              "4     1  ...  applypipeline:off protect^0.035425290 anim^0.0...\n",
              "..   ..  ...                                                ...\n",
              "995   1  ...  applypipeline:off protect^0.035425290 anim^0.0...\n",
              "996   1  ...  applypipeline:off protect^0.035425290 anim^0.0...\n",
              "997   1  ...  applypipeline:off protect^0.035425290 anim^0.0...\n",
              "998   1  ...  applypipeline:off protect^0.035425290 anim^0.0...\n",
              "999   1  ...  applypipeline:off protect^0.035425290 anim^0.0...\n",
              "\n",
              "[1000 rows x 8 columns]"
            ]
          },
          "metadata": {
            "tags": []
          },
          "execution_count": 69
        }
      ]
    },
    {
      "cell_type": "code",
      "metadata": {
        "id": "X5130hS4YyD4"
      },
      "source": [
        "# TODO scale RM3 and PR_linear"
      ],
      "execution_count": null,
      "outputs": []
    },
    {
      "cell_type": "code",
      "metadata": {
        "id": "K9D8F8xlNgyQ"
      },
      "source": [
        "pt.apply.by_query()"
      ],
      "execution_count": null,
      "outputs": []
    },
    {
      "cell_type": "code",
      "metadata": {
        "colab": {
          "base_uri": "https://localhost:8080/",
          "height": 112
        },
        "id": "F4X9oANxGSiH",
        "outputId": "8db423be-7ed4-44dc-a746-d4660e5426fb"
      },
      "source": [
        "# NOTE indeed/actually a function\n",
        "pt.Experiment(\n",
        "    retr_systems=[bm25, rm3_pipe],\n",
        "    names=[\"BM25\", \"BM25-RM3-BM25\",],\n",
        "    topics=queries,\n",
        "    qrels=dataset.get_qrels(), # TODO figure out cord19 qrels\n",
        "    eval_metrics=[\"map\"]\n",
        "              )"
      ],
      "execution_count": null,
      "outputs": [
        {
          "output_type": "execute_result",
          "data": {
            "text/html": [
              "<div>\n",
              "<style scoped>\n",
              "    .dataframe tbody tr th:only-of-type {\n",
              "        vertical-align: middle;\n",
              "    }\n",
              "\n",
              "    .dataframe tbody tr th {\n",
              "        vertical-align: top;\n",
              "    }\n",
              "\n",
              "    .dataframe thead th {\n",
              "        text-align: right;\n",
              "    }\n",
              "</style>\n",
              "<table border=\"1\" class=\"dataframe\">\n",
              "  <thead>\n",
              "    <tr style=\"text-align: right;\">\n",
              "      <th></th>\n",
              "      <th>name</th>\n",
              "      <th>map</th>\n",
              "    </tr>\n",
              "  </thead>\n",
              "  <tbody>\n",
              "    <tr>\n",
              "      <th>0</th>\n",
              "      <td>BM25</td>\n",
              "      <td>0.000020</td>\n",
              "    </tr>\n",
              "    <tr>\n",
              "      <th>1</th>\n",
              "      <td>BM25-RM3-BM25</td>\n",
              "      <td>0.000018</td>\n",
              "    </tr>\n",
              "  </tbody>\n",
              "</table>\n",
              "</div>"
            ],
            "text/plain": [
              "            name       map\n",
              "0           BM25  0.000020\n",
              "1  BM25-RM3-BM25  0.000018"
            ]
          },
          "metadata": {
            "tags": []
          },
          "execution_count": 12
        }
      ]
    },
    {
      "cell_type": "code",
      "metadata": {
        "id": "f8mXH5E-IEEX"
      },
      "source": [
        ""
      ],
      "execution_count": null,
      "outputs": []
    }
  ]
}