{
  "nbformat": 4,
  "nbformat_minor": 0,
  "metadata": {
    "colab": {
      "name": "Untitled2.ipynb",
      "provenance": [],
      "authorship_tag": "ABX9TyMfOB8jmh7n/M+xRI8i6jh6",
      "include_colab_link": true
    },
    "kernelspec": {
      "name": "python3",
      "display_name": "Python 3"
    },
    "language_info": {
      "name": "python"
    },
    "widgets": {
      "application/vnd.jupyter.widget-state+json": {
        "8c2dcb7fcb8045238944e4e0b5037251": {
          "model_module": "@jupyter-widgets/controls",
          "model_name": "HBoxModel",
          "state": {
            "_view_name": "HBoxView",
            "_dom_classes": [],
            "_model_name": "HBoxModel",
            "_view_module": "@jupyter-widgets/controls",
            "_model_module_version": "1.5.0",
            "_view_count": null,
            "_view_module_version": "1.5.0",
            "box_style": "",
            "layout": "IPY_MODEL_e8719cac12174b3795a0f5853b12a317",
            "_model_module": "@jupyter-widgets/controls",
            "children": [
              "IPY_MODEL_f11323c7b21d41898f03426125824f3d",
              "IPY_MODEL_bebc418f2c3247b48c66d7ab8337f4df"
            ]
          }
        },
        "e8719cac12174b3795a0f5853b12a317": {
          "model_module": "@jupyter-widgets/base",
          "model_name": "LayoutModel",
          "state": {
            "_view_name": "LayoutView",
            "grid_template_rows": null,
            "right": null,
            "justify_content": null,
            "_view_module": "@jupyter-widgets/base",
            "overflow": null,
            "_model_module_version": "1.2.0",
            "_view_count": null,
            "flex_flow": null,
            "width": null,
            "min_width": null,
            "border": null,
            "align_items": null,
            "bottom": null,
            "_model_module": "@jupyter-widgets/base",
            "top": null,
            "grid_column": null,
            "overflow_y": null,
            "overflow_x": null,
            "grid_auto_flow": null,
            "grid_area": null,
            "grid_template_columns": null,
            "flex": null,
            "_model_name": "LayoutModel",
            "justify_items": null,
            "grid_row": null,
            "max_height": null,
            "align_content": null,
            "visibility": null,
            "align_self": null,
            "height": null,
            "min_height": null,
            "padding": null,
            "grid_auto_rows": null,
            "grid_gap": null,
            "max_width": null,
            "order": null,
            "_view_module_version": "1.2.0",
            "grid_template_areas": null,
            "object_position": null,
            "object_fit": null,
            "grid_auto_columns": null,
            "margin": null,
            "display": null,
            "left": null
          }
        },
        "f11323c7b21d41898f03426125824f3d": {
          "model_module": "@jupyter-widgets/controls",
          "model_name": "FloatProgressModel",
          "state": {
            "_view_name": "ProgressView",
            "style": "IPY_MODEL_76c41c30fea44a1bb920c0fe805d287a",
            "_dom_classes": [],
            "description": "cord19/trec-covid documents:   0%",
            "_model_name": "FloatProgressModel",
            "bar_style": "danger",
            "max": 192509,
            "_view_module": "@jupyter-widgets/controls",
            "_model_module_version": "1.5.0",
            "value": 0,
            "_view_count": null,
            "_view_module_version": "1.5.0",
            "orientation": "horizontal",
            "min": 0,
            "description_tooltip": null,
            "_model_module": "@jupyter-widgets/controls",
            "layout": "IPY_MODEL_7ec4107fb09346fdaac986d7d05de293"
          }
        },
        "bebc418f2c3247b48c66d7ab8337f4df": {
          "model_module": "@jupyter-widgets/controls",
          "model_name": "HTMLModel",
          "state": {
            "_view_name": "HTMLView",
            "style": "IPY_MODEL_eb0ef4d92ab047d49105676588ea98fb",
            "_dom_classes": [],
            "description": "",
            "_model_name": "HTMLModel",
            "placeholder": "​",
            "_view_module": "@jupyter-widgets/controls",
            "_model_module_version": "1.5.0",
            "value": " 0/192509 [00:00&lt;?, ?it/s]",
            "_view_count": null,
            "_view_module_version": "1.5.0",
            "description_tooltip": null,
            "_model_module": "@jupyter-widgets/controls",
            "layout": "IPY_MODEL_b5374f423b8c4023a021d47453d7cc78"
          }
        },
        "76c41c30fea44a1bb920c0fe805d287a": {
          "model_module": "@jupyter-widgets/controls",
          "model_name": "ProgressStyleModel",
          "state": {
            "_view_name": "StyleView",
            "_model_name": "ProgressStyleModel",
            "description_width": "initial",
            "_view_module": "@jupyter-widgets/base",
            "_model_module_version": "1.5.0",
            "_view_count": null,
            "_view_module_version": "1.2.0",
            "bar_color": null,
            "_model_module": "@jupyter-widgets/controls"
          }
        },
        "7ec4107fb09346fdaac986d7d05de293": {
          "model_module": "@jupyter-widgets/base",
          "model_name": "LayoutModel",
          "state": {
            "_view_name": "LayoutView",
            "grid_template_rows": null,
            "right": null,
            "justify_content": null,
            "_view_module": "@jupyter-widgets/base",
            "overflow": null,
            "_model_module_version": "1.2.0",
            "_view_count": null,
            "flex_flow": null,
            "width": null,
            "min_width": null,
            "border": null,
            "align_items": null,
            "bottom": null,
            "_model_module": "@jupyter-widgets/base",
            "top": null,
            "grid_column": null,
            "overflow_y": null,
            "overflow_x": null,
            "grid_auto_flow": null,
            "grid_area": null,
            "grid_template_columns": null,
            "flex": null,
            "_model_name": "LayoutModel",
            "justify_items": null,
            "grid_row": null,
            "max_height": null,
            "align_content": null,
            "visibility": null,
            "align_self": null,
            "height": null,
            "min_height": null,
            "padding": null,
            "grid_auto_rows": null,
            "grid_gap": null,
            "max_width": null,
            "order": null,
            "_view_module_version": "1.2.0",
            "grid_template_areas": null,
            "object_position": null,
            "object_fit": null,
            "grid_auto_columns": null,
            "margin": null,
            "display": null,
            "left": null
          }
        },
        "eb0ef4d92ab047d49105676588ea98fb": {
          "model_module": "@jupyter-widgets/controls",
          "model_name": "DescriptionStyleModel",
          "state": {
            "_view_name": "StyleView",
            "_model_name": "DescriptionStyleModel",
            "description_width": "",
            "_view_module": "@jupyter-widgets/base",
            "_model_module_version": "1.5.0",
            "_view_count": null,
            "_view_module_version": "1.2.0",
            "_model_module": "@jupyter-widgets/controls"
          }
        },
        "b5374f423b8c4023a021d47453d7cc78": {
          "model_module": "@jupyter-widgets/base",
          "model_name": "LayoutModel",
          "state": {
            "_view_name": "LayoutView",
            "grid_template_rows": null,
            "right": null,
            "justify_content": null,
            "_view_module": "@jupyter-widgets/base",
            "overflow": null,
            "_model_module_version": "1.2.0",
            "_view_count": null,
            "flex_flow": null,
            "width": null,
            "min_width": null,
            "border": null,
            "align_items": null,
            "bottom": null,
            "_model_module": "@jupyter-widgets/base",
            "top": null,
            "grid_column": null,
            "overflow_y": null,
            "overflow_x": null,
            "grid_auto_flow": null,
            "grid_area": null,
            "grid_template_columns": null,
            "flex": null,
            "_model_name": "LayoutModel",
            "justify_items": null,
            "grid_row": null,
            "max_height": null,
            "align_content": null,
            "visibility": null,
            "align_self": null,
            "height": null,
            "min_height": null,
            "padding": null,
            "grid_auto_rows": null,
            "grid_gap": null,
            "max_width": null,
            "order": null,
            "_view_module_version": "1.2.0",
            "grid_template_areas": null,
            "object_position": null,
            "object_fit": null,
            "grid_auto_columns": null,
            "margin": null,
            "display": null,
            "left": null
          }
        },
        "1675b0fece6249c993b57d6443f22455": {
          "model_module": "@jupyter-widgets/controls",
          "model_name": "HBoxModel",
          "state": {
            "_view_name": "HBoxView",
            "_dom_classes": [],
            "_model_name": "HBoxModel",
            "_view_module": "@jupyter-widgets/controls",
            "_model_module_version": "1.5.0",
            "_view_count": null,
            "_view_module_version": "1.5.0",
            "box_style": "",
            "layout": "IPY_MODEL_30704c31e0224661958a9d36fccc79ea",
            "_model_module": "@jupyter-widgets/controls",
            "children": [
              "IPY_MODEL_45349a9dfa0143e8816b63022a73c8dd",
              "IPY_MODEL_1d4099b712f14f9c90c14ee6153afaa6"
            ]
          }
        },
        "30704c31e0224661958a9d36fccc79ea": {
          "model_module": "@jupyter-widgets/base",
          "model_name": "LayoutModel",
          "state": {
            "_view_name": "LayoutView",
            "grid_template_rows": null,
            "right": null,
            "justify_content": null,
            "_view_module": "@jupyter-widgets/base",
            "overflow": null,
            "_model_module_version": "1.2.0",
            "_view_count": null,
            "flex_flow": null,
            "width": null,
            "min_width": null,
            "border": null,
            "align_items": null,
            "bottom": null,
            "_model_module": "@jupyter-widgets/base",
            "top": null,
            "grid_column": null,
            "overflow_y": null,
            "overflow_x": null,
            "grid_auto_flow": null,
            "grid_area": null,
            "grid_template_columns": null,
            "flex": null,
            "_model_name": "LayoutModel",
            "justify_items": null,
            "grid_row": null,
            "max_height": null,
            "align_content": null,
            "visibility": null,
            "align_self": null,
            "height": null,
            "min_height": null,
            "padding": null,
            "grid_auto_rows": null,
            "grid_gap": null,
            "max_width": null,
            "order": null,
            "_view_module_version": "1.2.0",
            "grid_template_areas": null,
            "object_position": null,
            "object_fit": null,
            "grid_auto_columns": null,
            "margin": null,
            "display": null,
            "left": null
          }
        },
        "45349a9dfa0143e8816b63022a73c8dd": {
          "model_module": "@jupyter-widgets/controls",
          "model_name": "FloatProgressModel",
          "state": {
            "_view_name": "ProgressView",
            "style": "IPY_MODEL_84803532b24c4adfa72f5cb34f4f64e2",
            "_dom_classes": [],
            "description": "cord19/trec-covid documents: 100%",
            "_model_name": "FloatProgressModel",
            "bar_style": "success",
            "max": 192509,
            "_view_module": "@jupyter-widgets/controls",
            "_model_module_version": "1.5.0",
            "value": 192509,
            "_view_count": null,
            "_view_module_version": "1.5.0",
            "orientation": "horizontal",
            "min": 0,
            "description_tooltip": null,
            "_model_module": "@jupyter-widgets/controls",
            "layout": "IPY_MODEL_b9242454aaf649579ad5fd3745df238a"
          }
        },
        "1d4099b712f14f9c90c14ee6153afaa6": {
          "model_module": "@jupyter-widgets/controls",
          "model_name": "HTMLModel",
          "state": {
            "_view_name": "HTMLView",
            "style": "IPY_MODEL_e47c9f49dec84173bc2c0c4573286180",
            "_dom_classes": [],
            "description": "",
            "_model_name": "HTMLModel",
            "placeholder": "​",
            "_view_module": "@jupyter-widgets/controls",
            "_model_module_version": "1.5.0",
            "value": " 192509/192509 [00:20&lt;00:00, 9515.24it/s]",
            "_view_count": null,
            "_view_module_version": "1.5.0",
            "description_tooltip": null,
            "_model_module": "@jupyter-widgets/controls",
            "layout": "IPY_MODEL_01e72d06856a4654bdef73b4d95481fc"
          }
        },
        "84803532b24c4adfa72f5cb34f4f64e2": {
          "model_module": "@jupyter-widgets/controls",
          "model_name": "ProgressStyleModel",
          "state": {
            "_view_name": "StyleView",
            "_model_name": "ProgressStyleModel",
            "description_width": "initial",
            "_view_module": "@jupyter-widgets/base",
            "_model_module_version": "1.5.0",
            "_view_count": null,
            "_view_module_version": "1.2.0",
            "bar_color": null,
            "_model_module": "@jupyter-widgets/controls"
          }
        },
        "b9242454aaf649579ad5fd3745df238a": {
          "model_module": "@jupyter-widgets/base",
          "model_name": "LayoutModel",
          "state": {
            "_view_name": "LayoutView",
            "grid_template_rows": null,
            "right": null,
            "justify_content": null,
            "_view_module": "@jupyter-widgets/base",
            "overflow": null,
            "_model_module_version": "1.2.0",
            "_view_count": null,
            "flex_flow": null,
            "width": null,
            "min_width": null,
            "border": null,
            "align_items": null,
            "bottom": null,
            "_model_module": "@jupyter-widgets/base",
            "top": null,
            "grid_column": null,
            "overflow_y": null,
            "overflow_x": null,
            "grid_auto_flow": null,
            "grid_area": null,
            "grid_template_columns": null,
            "flex": null,
            "_model_name": "LayoutModel",
            "justify_items": null,
            "grid_row": null,
            "max_height": null,
            "align_content": null,
            "visibility": null,
            "align_self": null,
            "height": null,
            "min_height": null,
            "padding": null,
            "grid_auto_rows": null,
            "grid_gap": null,
            "max_width": null,
            "order": null,
            "_view_module_version": "1.2.0",
            "grid_template_areas": null,
            "object_position": null,
            "object_fit": null,
            "grid_auto_columns": null,
            "margin": null,
            "display": null,
            "left": null
          }
        },
        "e47c9f49dec84173bc2c0c4573286180": {
          "model_module": "@jupyter-widgets/controls",
          "model_name": "DescriptionStyleModel",
          "state": {
            "_view_name": "StyleView",
            "_model_name": "DescriptionStyleModel",
            "description_width": "",
            "_view_module": "@jupyter-widgets/base",
            "_model_module_version": "1.5.0",
            "_view_count": null,
            "_view_module_version": "1.2.0",
            "_model_module": "@jupyter-widgets/controls"
          }
        },
        "01e72d06856a4654bdef73b4d95481fc": {
          "model_module": "@jupyter-widgets/base",
          "model_name": "LayoutModel",
          "state": {
            "_view_name": "LayoutView",
            "grid_template_rows": null,
            "right": null,
            "justify_content": null,
            "_view_module": "@jupyter-widgets/base",
            "overflow": null,
            "_model_module_version": "1.2.0",
            "_view_count": null,
            "flex_flow": null,
            "width": null,
            "min_width": null,
            "border": null,
            "align_items": null,
            "bottom": null,
            "_model_module": "@jupyter-widgets/base",
            "top": null,
            "grid_column": null,
            "overflow_y": null,
            "overflow_x": null,
            "grid_auto_flow": null,
            "grid_area": null,
            "grid_template_columns": null,
            "flex": null,
            "_model_name": "LayoutModel",
            "justify_items": null,
            "grid_row": null,
            "max_height": null,
            "align_content": null,
            "visibility": null,
            "align_self": null,
            "height": null,
            "min_height": null,
            "padding": null,
            "grid_auto_rows": null,
            "grid_gap": null,
            "max_width": null,
            "order": null,
            "_view_module_version": "1.2.0",
            "grid_template_areas": null,
            "object_position": null,
            "object_fit": null,
            "grid_auto_columns": null,
            "margin": null,
            "display": null,
            "left": null
          }
        }
      }
    }
  },
  "cells": [
    {
      "cell_type": "markdown",
      "metadata": {
        "id": "view-in-github",
        "colab_type": "text"
      },
      "source": [
        "<a href=\"https://colab.research.google.com/github/DayalStrub/ecir2021tutorial/blob/main/other/2-simplest-thing.ipynb\" target=\"_parent\"><img src=\"https://colab.research.google.com/assets/colab-badge.svg\" alt=\"Open In Colab\"/></a>"
      ]
    },
    {
      "cell_type": "code",
      "metadata": {
        "colab": {
          "base_uri": "https://localhost:8080/"
        },
        "id": "_AKKN1edGB07",
        "outputId": "edde49ff-987d-4aad-ab43-4ba81475be8d"
      },
      "source": [
        "# !pip install -q python-terrier\n",
        "!pip install -q git+https://github.com/terrier-org/pyterrier.git"
      ],
      "execution_count": 1,
      "outputs": [
        {
          "output_type": "stream",
          "text": [
            "  Building wheel for python-terrier (setup.py) ... \u001b[?25l\u001b[?25hdone\n"
          ],
          "name": "stdout"
        }
      ]
    },
    {
      "cell_type": "code",
      "metadata": {
        "id": "oMCOAzqFO3L5"
      },
      "source": [
        "import pandas as pd\n",
        "\n",
        "from sklearn.feature_extraction.text import CountVectorizer, TfidfTransformer\n",
        "from sklearn.compose import ColumnTransformer\n",
        "from sklearn.pipeline import Pipeline\n",
        "# from sklearn.ensemble import RandomForestClassifier\n",
        "from sklearn.linear_model import LogisticRegression\n",
        "from sklearn.preprocessing import normalize"
      ],
      "execution_count": 2,
      "outputs": []
    },
    {
      "cell_type": "code",
      "metadata": {
        "colab": {
          "base_uri": "https://localhost:8080/"
        },
        "id": "5PwYpg1xF7Mf",
        "outputId": "cad38a01-1c53-43f0-854c-0c0d461bfc2e"
      },
      "source": [
        "import pyterrier as pt\n",
        "pt.init(boot_packages=[\"com.github.terrierteam:terrier-prf:-SNAPSHOT\"])"
      ],
      "execution_count": 3,
      "outputs": [
        {
          "output_type": "stream",
          "text": [
            "/usr/local/lib/python3.7/dist-packages/tqdm/std.py:658: FutureWarning: The Panel class is removed from pandas. Accessing it from the top-level namespace will also be removed in the next version\n",
            "  from pandas import Panel\n"
          ],
          "name": "stderr"
        },
        {
          "output_type": "stream",
          "text": [
            "PyTerrier 0.5.0 has loaded Terrier 5.4 (built by craigm on 2021-01-16 14:17)\n"
          ],
          "name": "stdout"
        }
      ]
    },
    {
      "cell_type": "code",
      "metadata": {
        "id": "Cwgw-Eh_Qo1_"
      },
      "source": [
        "dataset = pt.datasets.get_dataset('irds:cord19/trec-covid')"
      ],
      "execution_count": 4,
      "outputs": []
    },
    {
      "cell_type": "code",
      "metadata": {
        "id": "ScBsia3OQoRW",
        "colab": {
          "base_uri": "https://localhost:8080/",
          "height": 191,
          "referenced_widgets": [
            "8c2dcb7fcb8045238944e4e0b5037251",
            "e8719cac12174b3795a0f5853b12a317",
            "f11323c7b21d41898f03426125824f3d",
            "bebc418f2c3247b48c66d7ab8337f4df",
            "76c41c30fea44a1bb920c0fe805d287a",
            "7ec4107fb09346fdaac986d7d05de293",
            "eb0ef4d92ab047d49105676588ea98fb",
            "b5374f423b8c4023a021d47453d7cc78"
          ]
        },
        "outputId": "e1add1cb-16fd-49f7-a8f0-0fa663564033"
      },
      "source": [
        "next(iter(dataset.get_corpus_iter()))"
      ],
      "execution_count": 5,
      "outputs": [
        {
          "output_type": "display_data",
          "data": {
            "application/vnd.jupyter.widget-view+json": {
              "model_id": "8c2dcb7fcb8045238944e4e0b5037251",
              "version_minor": 0,
              "version_major": 2
            },
            "text/plain": [
              "HBox(children=(FloatProgress(value=0.0, description='cord19/trec-covid documents', max=192509.0, style=Progres…"
            ]
          },
          "metadata": {
            "tags": []
          }
        },
        {
          "output_type": "execute_result",
          "data": {
            "text/plain": [
              "OrderedDict([('title',\n",
              "              'Clinical features of culture-proven Mycoplasma pneumoniae infections at King Abdulaziz University Hospital, Jeddah, Saudi Arabia'),\n",
              "             ('doi', '10.1186/1471-2334-1-6'),\n",
              "             ('date', '2001-07-04'),\n",
              "             ('abstract',\n",
              "              'OBJECTIVE: This retrospective chart review describes the epidemiology and clinical features of 40 patients with culture-proven Mycoplasma pneumoniae infections at King Abdulaziz University Hospital, Jeddah, Saudi Arabia. METHODS: Patients with positive M. pneumoniae cultures from respiratory specimens from January 1997 through December 1998 were identified through the Microbiology records. Charts of patients were reviewed. RESULTS: 40 patients were identified, 33 (82.5%) of whom required admission. Most infections (92.5%) were community-acquired. The infection affected all age groups but was most common in infants (32.5%) and pre-school children (22.5%). It occurred year-round but was most common in the fall (35%) and spring (30%). More than three-quarters of patients (77.5%) had comorbidities. Twenty-four isolates (60%) were associated with pneumonia, 14 (35%) with upper respiratory tract infections, and 2 (5%) with bronchiolitis. Cough (82.5%), fever (75%), and malaise (58.8%) were the most common symptoms, and crepitations (60%), and wheezes (40%) were the most common signs. Most patients with pneumonia had crepitations (79.2%) but only 25% had bronchial breathing. Immunocompromised patients were more likely than non-immunocompromised patients to present with pneumonia (8/9 versus 16/31, P = 0.05). Of the 24 patients with pneumonia, 14 (58.3%) had uneventful recovery, 4 (16.7%) recovered following some complications, 3 (12.5%) died because of M pneumoniae infection, and 3 (12.5%) died due to underlying comorbidities. The 3 patients who died of M pneumoniae pneumonia had other comorbidities. CONCLUSION: our results were similar to published data except for the finding that infections were more common in infants and preschool children and that the mortality rate of pneumonia in patients with comorbidities was high.'),\n",
              "             ('docno', 'ug7v899j')])"
            ]
          },
          "metadata": {
            "tags": []
          },
          "execution_count": 5
        }
      ]
    },
    {
      "cell_type": "code",
      "metadata": {
        "id": "Om3klADKQoFG",
        "colab": {
          "base_uri": "https://localhost:8080/",
          "height": 118,
          "referenced_widgets": [
            "1675b0fece6249c993b57d6443f22455",
            "30704c31e0224661958a9d36fccc79ea",
            "45349a9dfa0143e8816b63022a73c8dd",
            "1d4099b712f14f9c90c14ee6153afaa6",
            "84803532b24c4adfa72f5cb34f4f64e2",
            "b9242454aaf649579ad5fd3745df238a",
            "e47c9f49dec84173bc2c0c4573286180",
            "01e72d06856a4654bdef73b4d95481fc"
          ]
        },
        "outputId": "4697c656-e1a8-4537-e277-532d593117a2"
      },
      "source": [
        "N = 10_000\n",
        "\n",
        "pt_index_path = './index_cord19'\n",
        "\n",
        "# create the index, using the IterDictIndexer indexer \n",
        "indexer = pt.index.IterDictIndexer(pt_index_path, overwrite=True) # , blocks=True\n",
        "\n",
        "# we give the dataset get_corpus_iter() directly to the indexer\n",
        "# while specifying the fields to index and the metadata to record\n",
        "index_ref = indexer.index(\n",
        "    (datum for i, datum in enumerate(dataset.get_corpus_iter()) if i < N),\n",
        "    fields=('abstract',), # TODO should this be a list?\n",
        "    # meta={'docno' : 26, 'text' : 2048, 'abstract' : 2048}\n",
        "    meta=['docno','abstract'],\n",
        "    )\n",
        "\n",
        "index = pt.IndexFactory.of(index_ref)"
      ],
      "execution_count": 6,
      "outputs": [
        {
          "output_type": "display_data",
          "data": {
            "application/vnd.jupyter.widget-view+json": {
              "model_id": "1675b0fece6249c993b57d6443f22455",
              "version_minor": 0,
              "version_major": 2
            },
            "text/plain": [
              "HBox(children=(FloatProgress(value=0.0, description='cord19/trec-covid documents', max=192509.0, style=Progres…"
            ]
          },
          "metadata": {
            "tags": []
          }
        },
        {
          "output_type": "stream",
          "text": [
            "\n",
            "07:37:09.757 [ForkJoinPool-1-worker-3] WARN  o.t.structures.indexing.Indexer - Adding an empty document to the index (6iu1dtyl) - further warnings are suppressed\n",
            "\n",
            "07:37:22.572 [ForkJoinPool-1-worker-3] WARN  o.t.structures.indexing.Indexer - Indexed 2143 empty documents\n"
          ],
          "name": "stdout"
        }
      ]
    },
    {
      "cell_type": "code",
      "metadata": {
        "id": "ZV436ACnol_f",
        "colab": {
          "base_uri": "https://localhost:8080/"
        },
        "outputId": "8569aad8-7db8-45a5-e37c-4a11130a7061"
      },
      "source": [
        "print(index.getCollectionStatistics().toString())"
      ],
      "execution_count": 7,
      "outputs": [
        {
          "output_type": "stream",
          "text": [
            "Number of documents: 10000\n",
            "Number of terms: 36191\n",
            "Number of postings: 673758\n",
            "Number of fields: 1\n",
            "Number of tokens: 1040094\n",
            "Field names: [abstract]\n",
            "Positions:   false\n",
            "\n"
          ],
          "name": "stdout"
        }
      ]
    },
    {
      "cell_type": "code",
      "metadata": {
        "colab": {
          "base_uri": "https://localhost:8080/",
          "height": 143
        },
        "id": "MyYsasfaGYFt",
        "outputId": "70442081-9765-49b3-f08b-c38c5e65bcb4"
      },
      "source": [
        "queries = dataset.get_topics(variant='title').head(3)\n",
        "queries.head()"
      ],
      "execution_count": 8,
      "outputs": [
        {
          "output_type": "execute_result",
          "data": {
            "text/html": [
              "<div>\n",
              "<style scoped>\n",
              "    .dataframe tbody tr th:only-of-type {\n",
              "        vertical-align: middle;\n",
              "    }\n",
              "\n",
              "    .dataframe tbody tr th {\n",
              "        vertical-align: top;\n",
              "    }\n",
              "\n",
              "    .dataframe thead th {\n",
              "        text-align: right;\n",
              "    }\n",
              "</style>\n",
              "<table border=\"1\" class=\"dataframe\">\n",
              "  <thead>\n",
              "    <tr style=\"text-align: right;\">\n",
              "      <th></th>\n",
              "      <th>qid</th>\n",
              "      <th>query</th>\n",
              "    </tr>\n",
              "  </thead>\n",
              "  <tbody>\n",
              "    <tr>\n",
              "      <th>0</th>\n",
              "      <td>1</td>\n",
              "      <td>coronavirus origin</td>\n",
              "    </tr>\n",
              "    <tr>\n",
              "      <th>1</th>\n",
              "      <td>2</td>\n",
              "      <td>coronavirus response to weather changes</td>\n",
              "    </tr>\n",
              "    <tr>\n",
              "      <th>2</th>\n",
              "      <td>3</td>\n",
              "      <td>coronavirus immunity</td>\n",
              "    </tr>\n",
              "  </tbody>\n",
              "</table>\n",
              "</div>"
            ],
            "text/plain": [
              "  qid                                    query\n",
              "0   1                       coronavirus origin\n",
              "1   2  coronavirus response to weather changes\n",
              "2   3                     coronavirus immunity"
            ]
          },
          "metadata": {
            "tags": []
          },
          "execution_count": 8
        }
      ]
    },
    {
      "cell_type": "code",
      "metadata": {
        "id": "UVpaOHP6GC30"
      },
      "source": [
        "M = 1002 # TODO is 1000 the max ever returned? Probably bug\n",
        "\n",
        "bm25 = pt.BatchRetrieve(index, wmodel=\"BM25\", num_results=M)\n",
        "rm3 = pt.rewrite.RM3(index)\n",
        "bm25_text = pt.BatchRetrieve(index, wmodel=\"BM25\", metadata=[\"docno\", \"abstract\"], num_results=M)\n",
        "\n",
        "rm3_pipe = bm25 >> rm3 >> bm25_text >> pt.apply.rename({'abstract':'text'})"
      ],
      "execution_count": 9,
      "outputs": []
    },
    {
      "cell_type": "code",
      "metadata": {
        "id": "Lt0DO6F2RY2u"
      },
      "source": [
        "# TODO Question: in rm3_pipe, is final bm25 just reranking initial bm25 results, or does it re-consider all docs?"
      ],
      "execution_count": 10,
      "outputs": []
    },
    {
      "cell_type": "code",
      "metadata": {
        "id": "l3lk-NnPoxen",
        "colab": {
          "base_uri": "https://localhost:8080/",
          "height": 424
        },
        "outputId": "ae812e46-7d48-4d50-9b7e-7034eebca842"
      },
      "source": [
        "df_out = rm3_pipe.transform(queries)\n",
        "df_out # .loc[df_out[\"qid\"] == \"1\", :]"
      ],
      "execution_count": 11,
      "outputs": [
        {
          "output_type": "execute_result",
          "data": {
            "text/html": [
              "<div>\n",
              "<style scoped>\n",
              "    .dataframe tbody tr th:only-of-type {\n",
              "        vertical-align: middle;\n",
              "    }\n",
              "\n",
              "    .dataframe tbody tr th {\n",
              "        vertical-align: top;\n",
              "    }\n",
              "\n",
              "    .dataframe thead th {\n",
              "        text-align: right;\n",
              "    }\n",
              "</style>\n",
              "<table border=\"1\" class=\"dataframe\">\n",
              "  <thead>\n",
              "    <tr style=\"text-align: right;\">\n",
              "      <th></th>\n",
              "      <th>qid</th>\n",
              "      <th>docid</th>\n",
              "      <th>docno</th>\n",
              "      <th>text</th>\n",
              "      <th>rank</th>\n",
              "      <th>score</th>\n",
              "      <th>query_0</th>\n",
              "      <th>query</th>\n",
              "    </tr>\n",
              "  </thead>\n",
              "  <tbody>\n",
              "    <tr>\n",
              "      <th>0</th>\n",
              "      <td>1</td>\n",
              "      <td>2257</td>\n",
              "      <td>8y24j34j</td>\n",
              "      <td>Middle East respiratory syndrome coronavirus i...</td>\n",
              "      <td>0</td>\n",
              "      <td>19.049835</td>\n",
              "      <td>coronavirus origin</td>\n",
              "      <td>applypipeline:off protect^0.035425290 anim^0.0...</td>\n",
              "    </tr>\n",
              "    <tr>\n",
              "      <th>1</th>\n",
              "      <td>1</td>\n",
              "      <td>4582</td>\n",
              "      <td>2jq626ye</td>\n",
              "      <td>A novel coronavirus (2019-nCoV) originating in...</td>\n",
              "      <td>1</td>\n",
              "      <td>13.717366</td>\n",
              "      <td>coronavirus origin</td>\n",
              "      <td>applypipeline:off protect^0.035425290 anim^0.0...</td>\n",
              "    </tr>\n",
              "    <tr>\n",
              "      <th>2</th>\n",
              "      <td>1</td>\n",
              "      <td>1394</td>\n",
              "      <td>vnafx1ng</td>\n",
              "      <td>The phosphoprotein (P) gene of most Paramyxovi...</td>\n",
              "      <td>2</td>\n",
              "      <td>11.114468</td>\n",
              "      <td>coronavirus origin</td>\n",
              "      <td>applypipeline:off protect^0.035425290 anim^0.0...</td>\n",
              "    </tr>\n",
              "    <tr>\n",
              "      <th>3</th>\n",
              "      <td>1</td>\n",
              "      <td>1616</td>\n",
              "      <td>hp5x637c</td>\n",
              "      <td>BACKGROUND: In 2007, a novel bunyavirus was fo...</td>\n",
              "      <td>3</td>\n",
              "      <td>8.417806</td>\n",
              "      <td>coronavirus origin</td>\n",
              "      <td>applypipeline:off protect^0.035425290 anim^0.0...</td>\n",
              "    </tr>\n",
              "    <tr>\n",
              "      <th>4</th>\n",
              "      <td>1</td>\n",
              "      <td>4936</td>\n",
              "      <td>41ui4lqc</td>\n",
              "      <td>Emerging viruses represent a continuous threat...</td>\n",
              "      <td>4</td>\n",
              "      <td>8.340423</td>\n",
              "      <td>coronavirus origin</td>\n",
              "      <td>applypipeline:off protect^0.035425290 anim^0.0...</td>\n",
              "    </tr>\n",
              "    <tr>\n",
              "      <th>...</th>\n",
              "      <td>...</td>\n",
              "      <td>...</td>\n",
              "      <td>...</td>\n",
              "      <td>...</td>\n",
              "      <td>...</td>\n",
              "      <td>...</td>\n",
              "      <td>...</td>\n",
              "      <td>...</td>\n",
              "    </tr>\n",
              "    <tr>\n",
              "      <th>2995</th>\n",
              "      <td>3</td>\n",
              "      <td>4382</td>\n",
              "      <td>r2s0gks8</td>\n",
              "      <td>BACKGROUND: In endemic areas, pregnant women a...</td>\n",
              "      <td>995</td>\n",
              "      <td>2.851963</td>\n",
              "      <td>coronavirus immunity</td>\n",
              "      <td>applypipeline:off network^0.029360194 step^0.0...</td>\n",
              "    </tr>\n",
              "    <tr>\n",
              "      <th>2996</th>\n",
              "      <td>3</td>\n",
              "      <td>673</td>\n",
              "      <td>x5ardo5j</td>\n",
              "      <td>In all vertebrate animals, CD8(+) cytotoxic T ...</td>\n",
              "      <td>996</td>\n",
              "      <td>2.851936</td>\n",
              "      <td>coronavirus immunity</td>\n",
              "      <td>applypipeline:off network^0.029360194 step^0.0...</td>\n",
              "    </tr>\n",
              "    <tr>\n",
              "      <th>2997</th>\n",
              "      <td>3</td>\n",
              "      <td>1567</td>\n",
              "      <td>y1nr8y25</td>\n",
              "      <td>OBJECTIVES: The emergence of the pandemic infl...</td>\n",
              "      <td>997</td>\n",
              "      <td>2.849012</td>\n",
              "      <td>coronavirus immunity</td>\n",
              "      <td>applypipeline:off network^0.029360194 step^0.0...</td>\n",
              "    </tr>\n",
              "    <tr>\n",
              "      <th>2998</th>\n",
              "      <td>3</td>\n",
              "      <td>4147</td>\n",
              "      <td>mrfvdpmk</td>\n",
              "      <td>As a response to a diverse array of external s...</td>\n",
              "      <td>998</td>\n",
              "      <td>2.848665</td>\n",
              "      <td>coronavirus immunity</td>\n",
              "      <td>applypipeline:off network^0.029360194 step^0.0...</td>\n",
              "    </tr>\n",
              "    <tr>\n",
              "      <th>2999</th>\n",
              "      <td>3</td>\n",
              "      <td>1524</td>\n",
              "      <td>mx4t6s6n</td>\n",
              "      <td>Hypertension is a major risk factor for stroke...</td>\n",
              "      <td>999</td>\n",
              "      <td>2.847783</td>\n",
              "      <td>coronavirus immunity</td>\n",
              "      <td>applypipeline:off network^0.029360194 step^0.0...</td>\n",
              "    </tr>\n",
              "  </tbody>\n",
              "</table>\n",
              "<p>3000 rows × 8 columns</p>\n",
              "</div>"
            ],
            "text/plain": [
              "     qid  ...                                              query\n",
              "0      1  ...  applypipeline:off protect^0.035425290 anim^0.0...\n",
              "1      1  ...  applypipeline:off protect^0.035425290 anim^0.0...\n",
              "2      1  ...  applypipeline:off protect^0.035425290 anim^0.0...\n",
              "3      1  ...  applypipeline:off protect^0.035425290 anim^0.0...\n",
              "4      1  ...  applypipeline:off protect^0.035425290 anim^0.0...\n",
              "...   ..  ...                                                ...\n",
              "2995   3  ...  applypipeline:off network^0.029360194 step^0.0...\n",
              "2996   3  ...  applypipeline:off network^0.029360194 step^0.0...\n",
              "2997   3  ...  applypipeline:off network^0.029360194 step^0.0...\n",
              "2998   3  ...  applypipeline:off network^0.029360194 step^0.0...\n",
              "2999   3  ...  applypipeline:off network^0.029360194 step^0.0...\n",
              "\n",
              "[3000 rows x 8 columns]"
            ]
          },
          "metadata": {
            "tags": []
          },
          "execution_count": 11
        }
      ]
    },
    {
      "cell_type": "code",
      "metadata": {
        "id": "iFCm1tHv6vf1",
        "colab": {
          "base_uri": "https://localhost:8080/",
          "height": 175
        },
        "outputId": "b1a3d547-d8aa-41f9-ba54-2df61ca49c96"
      },
      "source": [
        "df_out.loc[:, [\"qid\", \"docid\"]].groupby(\"qid\").count()"
      ],
      "execution_count": 12,
      "outputs": [
        {
          "output_type": "execute_result",
          "data": {
            "text/html": [
              "<div>\n",
              "<style scoped>\n",
              "    .dataframe tbody tr th:only-of-type {\n",
              "        vertical-align: middle;\n",
              "    }\n",
              "\n",
              "    .dataframe tbody tr th {\n",
              "        vertical-align: top;\n",
              "    }\n",
              "\n",
              "    .dataframe thead th {\n",
              "        text-align: right;\n",
              "    }\n",
              "</style>\n",
              "<table border=\"1\" class=\"dataframe\">\n",
              "  <thead>\n",
              "    <tr style=\"text-align: right;\">\n",
              "      <th></th>\n",
              "      <th>docid</th>\n",
              "    </tr>\n",
              "    <tr>\n",
              "      <th>qid</th>\n",
              "      <th></th>\n",
              "    </tr>\n",
              "  </thead>\n",
              "  <tbody>\n",
              "    <tr>\n",
              "      <th>1</th>\n",
              "      <td>1000</td>\n",
              "    </tr>\n",
              "    <tr>\n",
              "      <th>2</th>\n",
              "      <td>1000</td>\n",
              "    </tr>\n",
              "    <tr>\n",
              "      <th>3</th>\n",
              "      <td>1000</td>\n",
              "    </tr>\n",
              "  </tbody>\n",
              "</table>\n",
              "</div>"
            ],
            "text/plain": [
              "     docid\n",
              "qid       \n",
              "1     1000\n",
              "2     1000\n",
              "3     1000"
            ]
          },
          "metadata": {
            "tags": []
          },
          "execution_count": 12
        }
      ]
    },
    {
      "cell_type": "code",
      "metadata": {
        "id": "dWInLV_aXxzN"
      },
      "source": [
        "def pr_linear_reranker(\n",
        "    df,\n",
        "    *,\n",
        "    n_top = 10,\n",
        "    n_bottom = 100, # TODO should actually get 0 score documents? how to do this in pyterrier?\n",
        "    col_text = 'text'\n",
        "):\n",
        "  df_tmp = df # .copy()\n",
        "  df_relevant = df_tmp.sort_values(\"rank\").reset_index(drop=True).loc[0:n_top, [\"docid\", col_text]]\n",
        "  df_relevant[\"label\"] = 1\n",
        "\n",
        "  df_not_relevant = df_tmp.sort_values(\"rank\", ascending=False).reset_index(drop=True).loc[0:n_bottom, [\"docid\", col_text]]\n",
        "  df_not_relevant[\"label\"] = 0\n",
        "\n",
        "  df_train = pd.concat([df_relevant, df_not_relevant])\n",
        "\n",
        "  text_transformer = Pipeline([\n",
        "      ('bow', CountVectorizer()),\n",
        "      ('tfidf', TfidfTransformer()),\n",
        "  ])\n",
        "\n",
        "  preprocessor = ColumnTransformer(\n",
        "      transformers=[\n",
        "          # ('num', num_transformer, col_num),\n",
        "          # ('cat', cat_transformer, col_cat),\n",
        "          ('text', text_transformer, col_text)\n",
        "      ]\n",
        "  )\n",
        "\n",
        "  crf = Pipeline(steps=[\n",
        "      ('preprocessor', preprocessor),\n",
        "      ('classifier', LogisticRegression())\n",
        "  ])\n",
        "\n",
        "  X_train = df_train.loc[:, [\"docid\", col_text]]\n",
        "  y_train = df_train[\"label\"]\n",
        "\n",
        "  crf.fit(X_train, y_train);\n",
        "\n",
        "  preds = crf.predict_proba(df_tmp.loc[:, [\"docid\", col_text]])\n",
        "\n",
        "  df_tmp[\"score\"] = preds[:, 1] # True class second?\n",
        "  df_tmp.sort_values(\"score\", ascending=False, inplace=True)\n",
        "  df_tmp.reset_index(drop=True, inplace=True)\n",
        "  df_tmp[\"rank\"] = df_tmp.index\n",
        "  return df_tmp"
      ],
      "execution_count": 13,
      "outputs": []
    },
    {
      "cell_type": "code",
      "metadata": {
        "id": "wfaFp9dGD4xW"
      },
      "source": [
        "def normalise_score(df, norm=\"max\"):\n",
        "  normalized_data = normalize(df[\"score\"].to_numpy().reshape(1, -1), norm=norm)[0]\n",
        "  df[\"score\"] = normalized_data\n",
        "  return df"
      ],
      "execution_count": 14,
      "outputs": []
    },
    {
      "cell_type": "code",
      "metadata": {
        "id": "Ojf-cyPiYjlM",
        "colab": {
          "base_uri": "https://localhost:8080/",
          "height": 424
        },
        "outputId": "a15ead95-31a7-427b-e6a7-c815436e48db"
      },
      "source": [
        "df_eg = df_out.copy().loc[df_out[\"qid\"] == \"2\", :].reset_index(drop=True)\n",
        "\n",
        "pr_linear_reranker(df_eg)"
      ],
      "execution_count": 15,
      "outputs": [
        {
          "output_type": "execute_result",
          "data": {
            "text/html": [
              "<div>\n",
              "<style scoped>\n",
              "    .dataframe tbody tr th:only-of-type {\n",
              "        vertical-align: middle;\n",
              "    }\n",
              "\n",
              "    .dataframe tbody tr th {\n",
              "        vertical-align: top;\n",
              "    }\n",
              "\n",
              "    .dataframe thead th {\n",
              "        text-align: right;\n",
              "    }\n",
              "</style>\n",
              "<table border=\"1\" class=\"dataframe\">\n",
              "  <thead>\n",
              "    <tr style=\"text-align: right;\">\n",
              "      <th></th>\n",
              "      <th>qid</th>\n",
              "      <th>docid</th>\n",
              "      <th>docno</th>\n",
              "      <th>text</th>\n",
              "      <th>rank</th>\n",
              "      <th>score</th>\n",
              "      <th>query_0</th>\n",
              "      <th>query</th>\n",
              "    </tr>\n",
              "  </thead>\n",
              "  <tbody>\n",
              "    <tr>\n",
              "      <th>0</th>\n",
              "      <td>2</td>\n",
              "      <td>2773</td>\n",
              "      <td>r9scxa76</td>\n",
              "      <td>Infectious diseases attributable to unsafe wat...</td>\n",
              "      <td>0</td>\n",
              "      <td>0.254186</td>\n",
              "      <td>coronavirus response to weather changes</td>\n",
              "      <td>applypipeline:off respons^0.150000006 forecast...</td>\n",
              "    </tr>\n",
              "    <tr>\n",
              "      <th>1</th>\n",
              "      <td>2</td>\n",
              "      <td>1099</td>\n",
              "      <td>exqza1kg</td>\n",
              "      <td>Global climate change is expected to affect th...</td>\n",
              "      <td>1</td>\n",
              "      <td>0.237984</td>\n",
              "      <td>coronavirus response to weather changes</td>\n",
              "      <td>applypipeline:off respons^0.150000006 forecast...</td>\n",
              "    </tr>\n",
              "    <tr>\n",
              "      <th>2</th>\n",
              "      <td>2</td>\n",
              "      <td>5340</td>\n",
              "      <td>js33q9lp</td>\n",
              "      <td>Humans, animals and plants suffer from similar...</td>\n",
              "      <td>2</td>\n",
              "      <td>0.221248</td>\n",
              "      <td>coronavirus response to weather changes</td>\n",
              "      <td>applypipeline:off respons^0.150000006 forecast...</td>\n",
              "    </tr>\n",
              "    <tr>\n",
              "      <th>3</th>\n",
              "      <td>2</td>\n",
              "      <td>3258</td>\n",
              "      <td>qm8kalyt</td>\n",
              "      <td>Bangladesh is one of the worlds most vulnerabl...</td>\n",
              "      <td>3</td>\n",
              "      <td>0.213264</td>\n",
              "      <td>coronavirus response to weather changes</td>\n",
              "      <td>applypipeline:off respons^0.150000006 forecast...</td>\n",
              "    </tr>\n",
              "    <tr>\n",
              "      <th>4</th>\n",
              "      <td>2</td>\n",
              "      <td>326</td>\n",
              "      <td>gbdaad4l</td>\n",
              "      <td>BACKGROUND: Streptococcus pneumoniae is a comm...</td>\n",
              "      <td>4</td>\n",
              "      <td>0.202487</td>\n",
              "      <td>coronavirus response to weather changes</td>\n",
              "      <td>applypipeline:off respons^0.150000006 forecast...</td>\n",
              "    </tr>\n",
              "    <tr>\n",
              "      <th>...</th>\n",
              "      <td>...</td>\n",
              "      <td>...</td>\n",
              "      <td>...</td>\n",
              "      <td>...</td>\n",
              "      <td>...</td>\n",
              "      <td>...</td>\n",
              "      <td>...</td>\n",
              "      <td>...</td>\n",
              "    </tr>\n",
              "    <tr>\n",
              "      <th>995</th>\n",
              "      <td>2</td>\n",
              "      <td>780</td>\n",
              "      <td>vtp4cwvt</td>\n",
              "      <td>Alveolar macrophages (AM) are one of the key c...</td>\n",
              "      <td>995</td>\n",
              "      <td>0.073564</td>\n",
              "      <td>coronavirus response to weather changes</td>\n",
              "      <td>applypipeline:off respons^0.150000006 forecast...</td>\n",
              "    </tr>\n",
              "    <tr>\n",
              "      <th>996</th>\n",
              "      <td>2</td>\n",
              "      <td>343</td>\n",
              "      <td>094d0rn6</td>\n",
              "      <td>The innate immune response is essential for co...</td>\n",
              "      <td>996</td>\n",
              "      <td>0.072940</td>\n",
              "      <td>coronavirus response to weather changes</td>\n",
              "      <td>applypipeline:off respons^0.150000006 forecast...</td>\n",
              "    </tr>\n",
              "    <tr>\n",
              "      <th>997</th>\n",
              "      <td>2</td>\n",
              "      <td>2529</td>\n",
              "      <td>o4o4bzna</td>\n",
              "      <td>Avian leucosis virus subgroup J (ALV-J) can ca...</td>\n",
              "      <td>997</td>\n",
              "      <td>0.072854</td>\n",
              "      <td>coronavirus response to weather changes</td>\n",
              "      <td>applypipeline:off respons^0.150000006 forecast...</td>\n",
              "    </tr>\n",
              "    <tr>\n",
              "      <th>998</th>\n",
              "      <td>2</td>\n",
              "      <td>1544</td>\n",
              "      <td>c1uom5f7</td>\n",
              "      <td>Airway epithelial cells are the first line of ...</td>\n",
              "      <td>998</td>\n",
              "      <td>0.072816</td>\n",
              "      <td>coronavirus response to weather changes</td>\n",
              "      <td>applypipeline:off respons^0.150000006 forecast...</td>\n",
              "    </tr>\n",
              "    <tr>\n",
              "      <th>999</th>\n",
              "      <td>2</td>\n",
              "      <td>1862</td>\n",
              "      <td>68y733y3</td>\n",
              "      <td>Influenza viruses present major challenges to ...</td>\n",
              "      <td>999</td>\n",
              "      <td>0.072062</td>\n",
              "      <td>coronavirus response to weather changes</td>\n",
              "      <td>applypipeline:off respons^0.150000006 forecast...</td>\n",
              "    </tr>\n",
              "  </tbody>\n",
              "</table>\n",
              "<p>1000 rows × 8 columns</p>\n",
              "</div>"
            ],
            "text/plain": [
              "    qid  ...                                              query\n",
              "0     2  ...  applypipeline:off respons^0.150000006 forecast...\n",
              "1     2  ...  applypipeline:off respons^0.150000006 forecast...\n",
              "2     2  ...  applypipeline:off respons^0.150000006 forecast...\n",
              "3     2  ...  applypipeline:off respons^0.150000006 forecast...\n",
              "4     2  ...  applypipeline:off respons^0.150000006 forecast...\n",
              "..   ..  ...                                                ...\n",
              "995   2  ...  applypipeline:off respons^0.150000006 forecast...\n",
              "996   2  ...  applypipeline:off respons^0.150000006 forecast...\n",
              "997   2  ...  applypipeline:off respons^0.150000006 forecast...\n",
              "998   2  ...  applypipeline:off respons^0.150000006 forecast...\n",
              "999   2  ...  applypipeline:off respons^0.150000006 forecast...\n",
              "\n",
              "[1000 rows x 8 columns]"
            ]
          },
          "metadata": {
            "tags": []
          },
          "execution_count": 15
        }
      ]
    },
    {
      "cell_type": "code",
      "metadata": {
        "id": "K9D8F8xlNgyQ",
        "colab": {
          "base_uri": "https://localhost:8080/",
          "height": 424
        },
        "outputId": "f60195ff-e9db-447c-cb7e-35f47dd3a711"
      },
      "source": [
        "pr_pipe = rm3_pipe >> pt.apply.by_query(pr_linear_reranker) >> pt.apply.by_query(normalise_score)\n",
        "\n",
        "df_out_2 = pr_pipe.transform(queries)\n",
        "df_out_2.loc[df_out_2[\"qid\"] == \"2\", :]"
      ],
      "execution_count": 17,
      "outputs": [
        {
          "output_type": "execute_result",
          "data": {
            "text/html": [
              "<div>\n",
              "<style scoped>\n",
              "    .dataframe tbody tr th:only-of-type {\n",
              "        vertical-align: middle;\n",
              "    }\n",
              "\n",
              "    .dataframe tbody tr th {\n",
              "        vertical-align: top;\n",
              "    }\n",
              "\n",
              "    .dataframe thead th {\n",
              "        text-align: right;\n",
              "    }\n",
              "</style>\n",
              "<table border=\"1\" class=\"dataframe\">\n",
              "  <thead>\n",
              "    <tr style=\"text-align: right;\">\n",
              "      <th></th>\n",
              "      <th>qid</th>\n",
              "      <th>docid</th>\n",
              "      <th>docno</th>\n",
              "      <th>text</th>\n",
              "      <th>score</th>\n",
              "      <th>query_0</th>\n",
              "      <th>query</th>\n",
              "      <th>rank</th>\n",
              "    </tr>\n",
              "  </thead>\n",
              "  <tbody>\n",
              "    <tr>\n",
              "      <th>0</th>\n",
              "      <td>2</td>\n",
              "      <td>2773</td>\n",
              "      <td>r9scxa76</td>\n",
              "      <td>Infectious diseases attributable to unsafe wat...</td>\n",
              "      <td>1.000000</td>\n",
              "      <td>coronavirus response to weather changes</td>\n",
              "      <td>applypipeline:off respons^0.150000006 forecast...</td>\n",
              "      <td>0</td>\n",
              "    </tr>\n",
              "    <tr>\n",
              "      <th>1</th>\n",
              "      <td>2</td>\n",
              "      <td>1099</td>\n",
              "      <td>exqza1kg</td>\n",
              "      <td>Global climate change is expected to affect th...</td>\n",
              "      <td>0.936262</td>\n",
              "      <td>coronavirus response to weather changes</td>\n",
              "      <td>applypipeline:off respons^0.150000006 forecast...</td>\n",
              "      <td>1</td>\n",
              "    </tr>\n",
              "    <tr>\n",
              "      <th>2</th>\n",
              "      <td>2</td>\n",
              "      <td>5340</td>\n",
              "      <td>js33q9lp</td>\n",
              "      <td>Humans, animals and plants suffer from similar...</td>\n",
              "      <td>0.870420</td>\n",
              "      <td>coronavirus response to weather changes</td>\n",
              "      <td>applypipeline:off respons^0.150000006 forecast...</td>\n",
              "      <td>2</td>\n",
              "    </tr>\n",
              "    <tr>\n",
              "      <th>3</th>\n",
              "      <td>2</td>\n",
              "      <td>3258</td>\n",
              "      <td>qm8kalyt</td>\n",
              "      <td>Bangladesh is one of the worlds most vulnerabl...</td>\n",
              "      <td>0.839010</td>\n",
              "      <td>coronavirus response to weather changes</td>\n",
              "      <td>applypipeline:off respons^0.150000006 forecast...</td>\n",
              "      <td>3</td>\n",
              "    </tr>\n",
              "    <tr>\n",
              "      <th>4</th>\n",
              "      <td>2</td>\n",
              "      <td>326</td>\n",
              "      <td>gbdaad4l</td>\n",
              "      <td>BACKGROUND: Streptococcus pneumoniae is a comm...</td>\n",
              "      <td>0.796611</td>\n",
              "      <td>coronavirus response to weather changes</td>\n",
              "      <td>applypipeline:off respons^0.150000006 forecast...</td>\n",
              "      <td>4</td>\n",
              "    </tr>\n",
              "    <tr>\n",
              "      <th>...</th>\n",
              "      <td>...</td>\n",
              "      <td>...</td>\n",
              "      <td>...</td>\n",
              "      <td>...</td>\n",
              "      <td>...</td>\n",
              "      <td>...</td>\n",
              "      <td>...</td>\n",
              "      <td>...</td>\n",
              "    </tr>\n",
              "    <tr>\n",
              "      <th>995</th>\n",
              "      <td>2</td>\n",
              "      <td>780</td>\n",
              "      <td>vtp4cwvt</td>\n",
              "      <td>Alveolar macrophages (AM) are one of the key c...</td>\n",
              "      <td>0.289412</td>\n",
              "      <td>coronavirus response to weather changes</td>\n",
              "      <td>applypipeline:off respons^0.150000006 forecast...</td>\n",
              "      <td>995</td>\n",
              "    </tr>\n",
              "    <tr>\n",
              "      <th>996</th>\n",
              "      <td>2</td>\n",
              "      <td>343</td>\n",
              "      <td>094d0rn6</td>\n",
              "      <td>The innate immune response is essential for co...</td>\n",
              "      <td>0.286954</td>\n",
              "      <td>coronavirus response to weather changes</td>\n",
              "      <td>applypipeline:off respons^0.150000006 forecast...</td>\n",
              "      <td>996</td>\n",
              "    </tr>\n",
              "    <tr>\n",
              "      <th>997</th>\n",
              "      <td>2</td>\n",
              "      <td>2529</td>\n",
              "      <td>o4o4bzna</td>\n",
              "      <td>Avian leucosis virus subgroup J (ALV-J) can ca...</td>\n",
              "      <td>0.286617</td>\n",
              "      <td>coronavirus response to weather changes</td>\n",
              "      <td>applypipeline:off respons^0.150000006 forecast...</td>\n",
              "      <td>997</td>\n",
              "    </tr>\n",
              "    <tr>\n",
              "      <th>998</th>\n",
              "      <td>2</td>\n",
              "      <td>1544</td>\n",
              "      <td>c1uom5f7</td>\n",
              "      <td>Airway epithelial cells are the first line of ...</td>\n",
              "      <td>0.286468</td>\n",
              "      <td>coronavirus response to weather changes</td>\n",
              "      <td>applypipeline:off respons^0.150000006 forecast...</td>\n",
              "      <td>998</td>\n",
              "    </tr>\n",
              "    <tr>\n",
              "      <th>999</th>\n",
              "      <td>2</td>\n",
              "      <td>1862</td>\n",
              "      <td>68y733y3</td>\n",
              "      <td>Influenza viruses present major challenges to ...</td>\n",
              "      <td>0.283503</td>\n",
              "      <td>coronavirus response to weather changes</td>\n",
              "      <td>applypipeline:off respons^0.150000006 forecast...</td>\n",
              "      <td>999</td>\n",
              "    </tr>\n",
              "  </tbody>\n",
              "</table>\n",
              "<p>1000 rows × 8 columns</p>\n",
              "</div>"
            ],
            "text/plain": [
              "    qid  docid  ...                                              query rank\n",
              "0     2   2773  ...  applypipeline:off respons^0.150000006 forecast...    0\n",
              "1     2   1099  ...  applypipeline:off respons^0.150000006 forecast...    1\n",
              "2     2   5340  ...  applypipeline:off respons^0.150000006 forecast...    2\n",
              "3     2   3258  ...  applypipeline:off respons^0.150000006 forecast...    3\n",
              "4     2    326  ...  applypipeline:off respons^0.150000006 forecast...    4\n",
              "..   ..    ...  ...                                                ...  ...\n",
              "995   2    780  ...  applypipeline:off respons^0.150000006 forecast...  995\n",
              "996   2    343  ...  applypipeline:off respons^0.150000006 forecast...  996\n",
              "997   2   2529  ...  applypipeline:off respons^0.150000006 forecast...  997\n",
              "998   2   1544  ...  applypipeline:off respons^0.150000006 forecast...  998\n",
              "999   2   1862  ...  applypipeline:off respons^0.150000006 forecast...  999\n",
              "\n",
              "[1000 rows x 8 columns]"
            ]
          },
          "metadata": {
            "tags": []
          },
          "execution_count": 17
        }
      ]
    },
    {
      "cell_type": "code",
      "metadata": {
        "id": "f-XF4I0NE_-V"
      },
      "source": [
        "# TODO how to run rm3_pipe only once? CHECK caching\n",
        "\n",
        "alpha = 0.5\n",
        "\n",
        "pipe = alpha * rm3_pipe + (1 - alpha) * pr_pipe"
      ],
      "execution_count": 18,
      "outputs": []
    },
    {
      "cell_type": "code",
      "metadata": {
        "colab": {
          "base_uri": "https://localhost:8080/",
          "height": 227
        },
        "id": "F4X9oANxGSiH",
        "outputId": "958fb1e1-844a-4692-822a-9c475856c200"
      },
      "source": [
        "# NOTE Experiment is indeed/actually a function\n",
        "pt.Experiment(\n",
        "    retr_systems=[bm25, rm3_pipe, pr_pipe, pipe],\n",
        "    names=[\"BM25\", \"BM25-RM3-BM25\", \"BM25-RM3-BM25-PRlog\", \"simplest\"],\n",
        "    topics=queries,\n",
        "    qrels=dataset.get_qrels(), # TODO figure out cord19 qrels\n",
        "    eval_metrics=[\"map\"]\n",
        "              )"
      ],
      "execution_count": 19,
      "outputs": [
        {
          "output_type": "stream",
          "text": [
            "[INFO] If you have a local copy of https://ir.nist.gov/covidSubmit/data/qrels-covid_d5_j0.5-5.txt, you can symlink it here to avoid downloading it again: /root/.ir_datasets/downloads/8138424a59daea0aba751c8a891e5f54\n",
            "[INFO] [starting] https://ir.nist.gov/covidSubmit/data/qrels-covid_d5_j0.5-5.txt\n",
            "[INFO] [finished] https://ir.nist.gov/covidSubmit/data/qrels-covid_d5_j0.5-5.txt: [00:00] [1.14MB] [6.06MB/s]\n"
          ],
          "name": "stderr"
        },
        {
          "output_type": "execute_result",
          "data": {
            "text/html": [
              "<div>\n",
              "<style scoped>\n",
              "    .dataframe tbody tr th:only-of-type {\n",
              "        vertical-align: middle;\n",
              "    }\n",
              "\n",
              "    .dataframe tbody tr th {\n",
              "        vertical-align: top;\n",
              "    }\n",
              "\n",
              "    .dataframe thead th {\n",
              "        text-align: right;\n",
              "    }\n",
              "</style>\n",
              "<table border=\"1\" class=\"dataframe\">\n",
              "  <thead>\n",
              "    <tr style=\"text-align: right;\">\n",
              "      <th></th>\n",
              "      <th>name</th>\n",
              "      <th>map</th>\n",
              "    </tr>\n",
              "  </thead>\n",
              "  <tbody>\n",
              "    <tr>\n",
              "      <th>0</th>\n",
              "      <td>BM25</td>\n",
              "      <td>0.000389</td>\n",
              "    </tr>\n",
              "    <tr>\n",
              "      <th>1</th>\n",
              "      <td>BM25-RM3-BM25</td>\n",
              "      <td>0.000386</td>\n",
              "    </tr>\n",
              "    <tr>\n",
              "      <th>2</th>\n",
              "      <td>BM25-RM3-BM25-PRlog</td>\n",
              "      <td>0.000928</td>\n",
              "    </tr>\n",
              "    <tr>\n",
              "      <th>3</th>\n",
              "      <td>simplest</td>\n",
              "      <td>0.000390</td>\n",
              "    </tr>\n",
              "  </tbody>\n",
              "</table>\n",
              "</div>"
            ],
            "text/plain": [
              "                  name       map\n",
              "0                 BM25  0.000389\n",
              "1        BM25-RM3-BM25  0.000386\n",
              "2  BM25-RM3-BM25-PRlog  0.000928\n",
              "3             simplest  0.000390"
            ]
          },
          "metadata": {
            "tags": []
          },
          "execution_count": 19
        }
      ]
    },
    {
      "cell_type": "code",
      "metadata": {
        "id": "f8mXH5E-IEEX"
      },
      "source": [
        ""
      ],
      "execution_count": 19,
      "outputs": []
    }
  ]
}