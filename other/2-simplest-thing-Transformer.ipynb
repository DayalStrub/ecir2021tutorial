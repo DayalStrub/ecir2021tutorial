{
  "nbformat": 4,
  "nbformat_minor": 0,
  "metadata": {
    "colab": {
      "name": "Untitled2.ipynb",
      "provenance": [],
      "authorship_tag": "ABX9TyMNKIPCeRFjOzQ0q6PGDW0C",
      "include_colab_link": true
    },
    "kernelspec": {
      "name": "python3",
      "display_name": "Python 3"
    },
    "language_info": {
      "name": "python"
    },
    "widgets": {
      "application/vnd.jupyter.widget-state+json": {
        "f83847cbad10403da559c8af832902c9": {
          "model_module": "@jupyter-widgets/controls",
          "model_name": "HBoxModel",
          "state": {
            "_view_name": "HBoxView",
            "_dom_classes": [],
            "_model_name": "HBoxModel",
            "_view_module": "@jupyter-widgets/controls",
            "_model_module_version": "1.5.0",
            "_view_count": null,
            "_view_module_version": "1.5.0",
            "box_style": "",
            "layout": "IPY_MODEL_cbdd132067e14346a60d8a6736670e34",
            "_model_module": "@jupyter-widgets/controls",
            "children": [
              "IPY_MODEL_2f3b33e05128406a859c40631c71d2c0",
              "IPY_MODEL_7f99750950774c3f8618fa7a0df10d9b"
            ]
          }
        },
        "cbdd132067e14346a60d8a6736670e34": {
          "model_module": "@jupyter-widgets/base",
          "model_name": "LayoutModel",
          "state": {
            "_view_name": "LayoutView",
            "grid_template_rows": null,
            "right": null,
            "justify_content": null,
            "_view_module": "@jupyter-widgets/base",
            "overflow": null,
            "_model_module_version": "1.2.0",
            "_view_count": null,
            "flex_flow": null,
            "width": null,
            "min_width": null,
            "border": null,
            "align_items": null,
            "bottom": null,
            "_model_module": "@jupyter-widgets/base",
            "top": null,
            "grid_column": null,
            "overflow_y": null,
            "overflow_x": null,
            "grid_auto_flow": null,
            "grid_area": null,
            "grid_template_columns": null,
            "flex": null,
            "_model_name": "LayoutModel",
            "justify_items": null,
            "grid_row": null,
            "max_height": null,
            "align_content": null,
            "visibility": null,
            "align_self": null,
            "height": null,
            "min_height": null,
            "padding": null,
            "grid_auto_rows": null,
            "grid_gap": null,
            "max_width": null,
            "order": null,
            "_view_module_version": "1.2.0",
            "grid_template_areas": null,
            "object_position": null,
            "object_fit": null,
            "grid_auto_columns": null,
            "margin": null,
            "display": null,
            "left": null
          }
        },
        "2f3b33e05128406a859c40631c71d2c0": {
          "model_module": "@jupyter-widgets/controls",
          "model_name": "FloatProgressModel",
          "state": {
            "_view_name": "ProgressView",
            "style": "IPY_MODEL_51d585efa8f449eda0e684df5afe9e2d",
            "_dom_classes": [],
            "description": "cord19/trec-covid documents:   0%",
            "_model_name": "FloatProgressModel",
            "bar_style": "danger",
            "max": 192509,
            "_view_module": "@jupyter-widgets/controls",
            "_model_module_version": "1.5.0",
            "value": 0,
            "_view_count": null,
            "_view_module_version": "1.5.0",
            "orientation": "horizontal",
            "min": 0,
            "description_tooltip": null,
            "_model_module": "@jupyter-widgets/controls",
            "layout": "IPY_MODEL_e6e8b03f25184359945710e7dd47c3fb"
          }
        },
        "7f99750950774c3f8618fa7a0df10d9b": {
          "model_module": "@jupyter-widgets/controls",
          "model_name": "HTMLModel",
          "state": {
            "_view_name": "HTMLView",
            "style": "IPY_MODEL_6c2afb576ac04c1593f069b53fe2cf74",
            "_dom_classes": [],
            "description": "",
            "_model_name": "HTMLModel",
            "placeholder": "​",
            "_view_module": "@jupyter-widgets/controls",
            "_model_module_version": "1.5.0",
            "value": " 0/192509 [00:05&lt;?, ?it/s]",
            "_view_count": null,
            "_view_module_version": "1.5.0",
            "description_tooltip": null,
            "_model_module": "@jupyter-widgets/controls",
            "layout": "IPY_MODEL_12520162d2da4b789b3752dd974cf981"
          }
        },
        "51d585efa8f449eda0e684df5afe9e2d": {
          "model_module": "@jupyter-widgets/controls",
          "model_name": "ProgressStyleModel",
          "state": {
            "_view_name": "StyleView",
            "_model_name": "ProgressStyleModel",
            "description_width": "initial",
            "_view_module": "@jupyter-widgets/base",
            "_model_module_version": "1.5.0",
            "_view_count": null,
            "_view_module_version": "1.2.0",
            "bar_color": null,
            "_model_module": "@jupyter-widgets/controls"
          }
        },
        "e6e8b03f25184359945710e7dd47c3fb": {
          "model_module": "@jupyter-widgets/base",
          "model_name": "LayoutModel",
          "state": {
            "_view_name": "LayoutView",
            "grid_template_rows": null,
            "right": null,
            "justify_content": null,
            "_view_module": "@jupyter-widgets/base",
            "overflow": null,
            "_model_module_version": "1.2.0",
            "_view_count": null,
            "flex_flow": null,
            "width": null,
            "min_width": null,
            "border": null,
            "align_items": null,
            "bottom": null,
            "_model_module": "@jupyter-widgets/base",
            "top": null,
            "grid_column": null,
            "overflow_y": null,
            "overflow_x": null,
            "grid_auto_flow": null,
            "grid_area": null,
            "grid_template_columns": null,
            "flex": null,
            "_model_name": "LayoutModel",
            "justify_items": null,
            "grid_row": null,
            "max_height": null,
            "align_content": null,
            "visibility": null,
            "align_self": null,
            "height": null,
            "min_height": null,
            "padding": null,
            "grid_auto_rows": null,
            "grid_gap": null,
            "max_width": null,
            "order": null,
            "_view_module_version": "1.2.0",
            "grid_template_areas": null,
            "object_position": null,
            "object_fit": null,
            "grid_auto_columns": null,
            "margin": null,
            "display": null,
            "left": null
          }
        },
        "6c2afb576ac04c1593f069b53fe2cf74": {
          "model_module": "@jupyter-widgets/controls",
          "model_name": "DescriptionStyleModel",
          "state": {
            "_view_name": "StyleView",
            "_model_name": "DescriptionStyleModel",
            "description_width": "",
            "_view_module": "@jupyter-widgets/base",
            "_model_module_version": "1.5.0",
            "_view_count": null,
            "_view_module_version": "1.2.0",
            "_model_module": "@jupyter-widgets/controls"
          }
        },
        "12520162d2da4b789b3752dd974cf981": {
          "model_module": "@jupyter-widgets/base",
          "model_name": "LayoutModel",
          "state": {
            "_view_name": "LayoutView",
            "grid_template_rows": null,
            "right": null,
            "justify_content": null,
            "_view_module": "@jupyter-widgets/base",
            "overflow": null,
            "_model_module_version": "1.2.0",
            "_view_count": null,
            "flex_flow": null,
            "width": null,
            "min_width": null,
            "border": null,
            "align_items": null,
            "bottom": null,
            "_model_module": "@jupyter-widgets/base",
            "top": null,
            "grid_column": null,
            "overflow_y": null,
            "overflow_x": null,
            "grid_auto_flow": null,
            "grid_area": null,
            "grid_template_columns": null,
            "flex": null,
            "_model_name": "LayoutModel",
            "justify_items": null,
            "grid_row": null,
            "max_height": null,
            "align_content": null,
            "visibility": null,
            "align_self": null,
            "height": null,
            "min_height": null,
            "padding": null,
            "grid_auto_rows": null,
            "grid_gap": null,
            "max_width": null,
            "order": null,
            "_view_module_version": "1.2.0",
            "grid_template_areas": null,
            "object_position": null,
            "object_fit": null,
            "grid_auto_columns": null,
            "margin": null,
            "display": null,
            "left": null
          }
        },
        "c44682d2950849bf84f27ca29b1353eb": {
          "model_module": "@jupyter-widgets/controls",
          "model_name": "HBoxModel",
          "state": {
            "_view_name": "HBoxView",
            "_dom_classes": [],
            "_model_name": "HBoxModel",
            "_view_module": "@jupyter-widgets/controls",
            "_model_module_version": "1.5.0",
            "_view_count": null,
            "_view_module_version": "1.5.0",
            "box_style": "",
            "layout": "IPY_MODEL_04e340a23b8848409276ba06661815f9",
            "_model_module": "@jupyter-widgets/controls",
            "children": [
              "IPY_MODEL_b160fbcc11a94a1498d8633402cb1894",
              "IPY_MODEL_29b4d109813b4bca85ae838ced194742"
            ]
          }
        },
        "04e340a23b8848409276ba06661815f9": {
          "model_module": "@jupyter-widgets/base",
          "model_name": "LayoutModel",
          "state": {
            "_view_name": "LayoutView",
            "grid_template_rows": null,
            "right": null,
            "justify_content": null,
            "_view_module": "@jupyter-widgets/base",
            "overflow": null,
            "_model_module_version": "1.2.0",
            "_view_count": null,
            "flex_flow": null,
            "width": null,
            "min_width": null,
            "border": null,
            "align_items": null,
            "bottom": null,
            "_model_module": "@jupyter-widgets/base",
            "top": null,
            "grid_column": null,
            "overflow_y": null,
            "overflow_x": null,
            "grid_auto_flow": null,
            "grid_area": null,
            "grid_template_columns": null,
            "flex": null,
            "_model_name": "LayoutModel",
            "justify_items": null,
            "grid_row": null,
            "max_height": null,
            "align_content": null,
            "visibility": null,
            "align_self": null,
            "height": null,
            "min_height": null,
            "padding": null,
            "grid_auto_rows": null,
            "grid_gap": null,
            "max_width": null,
            "order": null,
            "_view_module_version": "1.2.0",
            "grid_template_areas": null,
            "object_position": null,
            "object_fit": null,
            "grid_auto_columns": null,
            "margin": null,
            "display": null,
            "left": null
          }
        },
        "b160fbcc11a94a1498d8633402cb1894": {
          "model_module": "@jupyter-widgets/controls",
          "model_name": "FloatProgressModel",
          "state": {
            "_view_name": "ProgressView",
            "style": "IPY_MODEL_8d948de4da834031ba81fb01f2adc462",
            "_dom_classes": [],
            "description": "cord19/trec-covid documents: 100%",
            "_model_name": "FloatProgressModel",
            "bar_style": "success",
            "max": 192509,
            "_view_module": "@jupyter-widgets/controls",
            "_model_module_version": "1.5.0",
            "value": 192509,
            "_view_count": null,
            "_view_module_version": "1.5.0",
            "orientation": "horizontal",
            "min": 0,
            "description_tooltip": null,
            "_model_module": "@jupyter-widgets/controls",
            "layout": "IPY_MODEL_e232eb5424284a918b00aef4264bbd94"
          }
        },
        "29b4d109813b4bca85ae838ced194742": {
          "model_module": "@jupyter-widgets/controls",
          "model_name": "HTMLModel",
          "state": {
            "_view_name": "HTMLView",
            "style": "IPY_MODEL_59fede3d34b64043a820e3923e842655",
            "_dom_classes": [],
            "description": "",
            "_model_name": "HTMLModel",
            "placeholder": "​",
            "_view_module": "@jupyter-widgets/controls",
            "_model_module_version": "1.5.0",
            "value": " 192509/192509 [03:09&lt;00:00, 1016.58it/s]",
            "_view_count": null,
            "_view_module_version": "1.5.0",
            "description_tooltip": null,
            "_model_module": "@jupyter-widgets/controls",
            "layout": "IPY_MODEL_7b84096ec2644c8bb8b9a4edf969fb38"
          }
        },
        "8d948de4da834031ba81fb01f2adc462": {
          "model_module": "@jupyter-widgets/controls",
          "model_name": "ProgressStyleModel",
          "state": {
            "_view_name": "StyleView",
            "_model_name": "ProgressStyleModel",
            "description_width": "initial",
            "_view_module": "@jupyter-widgets/base",
            "_model_module_version": "1.5.0",
            "_view_count": null,
            "_view_module_version": "1.2.0",
            "bar_color": null,
            "_model_module": "@jupyter-widgets/controls"
          }
        },
        "e232eb5424284a918b00aef4264bbd94": {
          "model_module": "@jupyter-widgets/base",
          "model_name": "LayoutModel",
          "state": {
            "_view_name": "LayoutView",
            "grid_template_rows": null,
            "right": null,
            "justify_content": null,
            "_view_module": "@jupyter-widgets/base",
            "overflow": null,
            "_model_module_version": "1.2.0",
            "_view_count": null,
            "flex_flow": null,
            "width": null,
            "min_width": null,
            "border": null,
            "align_items": null,
            "bottom": null,
            "_model_module": "@jupyter-widgets/base",
            "top": null,
            "grid_column": null,
            "overflow_y": null,
            "overflow_x": null,
            "grid_auto_flow": null,
            "grid_area": null,
            "grid_template_columns": null,
            "flex": null,
            "_model_name": "LayoutModel",
            "justify_items": null,
            "grid_row": null,
            "max_height": null,
            "align_content": null,
            "visibility": null,
            "align_self": null,
            "height": null,
            "min_height": null,
            "padding": null,
            "grid_auto_rows": null,
            "grid_gap": null,
            "max_width": null,
            "order": null,
            "_view_module_version": "1.2.0",
            "grid_template_areas": null,
            "object_position": null,
            "object_fit": null,
            "grid_auto_columns": null,
            "margin": null,
            "display": null,
            "left": null
          }
        },
        "59fede3d34b64043a820e3923e842655": {
          "model_module": "@jupyter-widgets/controls",
          "model_name": "DescriptionStyleModel",
          "state": {
            "_view_name": "StyleView",
            "_model_name": "DescriptionStyleModel",
            "description_width": "",
            "_view_module": "@jupyter-widgets/base",
            "_model_module_version": "1.5.0",
            "_view_count": null,
            "_view_module_version": "1.2.0",
            "_model_module": "@jupyter-widgets/controls"
          }
        },
        "7b84096ec2644c8bb8b9a4edf969fb38": {
          "model_module": "@jupyter-widgets/base",
          "model_name": "LayoutModel",
          "state": {
            "_view_name": "LayoutView",
            "grid_template_rows": null,
            "right": null,
            "justify_content": null,
            "_view_module": "@jupyter-widgets/base",
            "overflow": null,
            "_model_module_version": "1.2.0",
            "_view_count": null,
            "flex_flow": null,
            "width": null,
            "min_width": null,
            "border": null,
            "align_items": null,
            "bottom": null,
            "_model_module": "@jupyter-widgets/base",
            "top": null,
            "grid_column": null,
            "overflow_y": null,
            "overflow_x": null,
            "grid_auto_flow": null,
            "grid_area": null,
            "grid_template_columns": null,
            "flex": null,
            "_model_name": "LayoutModel",
            "justify_items": null,
            "grid_row": null,
            "max_height": null,
            "align_content": null,
            "visibility": null,
            "align_self": null,
            "height": null,
            "min_height": null,
            "padding": null,
            "grid_auto_rows": null,
            "grid_gap": null,
            "max_width": null,
            "order": null,
            "_view_module_version": "1.2.0",
            "grid_template_areas": null,
            "object_position": null,
            "object_fit": null,
            "grid_auto_columns": null,
            "margin": null,
            "display": null,
            "left": null
          }
        }
      }
    }
  },
  "cells": [
    {
      "cell_type": "markdown",
      "metadata": {
        "id": "view-in-github",
        "colab_type": "text"
      },
      "source": [
        "<a href=\"https://colab.research.google.com/github/DayalStrub/ecir2021tutorial/blob/main/other/2-simplest-thing-Transformer.ipynb\" target=\"_parent\"><img src=\"https://colab.research.google.com/assets/colab-badge.svg\" alt=\"Open In Colab\"/></a>"
      ]
    },
    {
      "cell_type": "code",
      "metadata": {
        "colab": {
          "base_uri": "https://localhost:8080/"
        },
        "id": "_AKKN1edGB07",
        "outputId": "31b78800-36d2-411b-d345-4147de0e1af9"
      },
      "source": [
        "# !pip install -q python-terrier\n",
        "!pip install -q git+https://github.com/terrier-org/pyterrier.git"
      ],
      "execution_count": 1,
      "outputs": [
        {
          "output_type": "stream",
          "text": [
            "  Building wheel for python-terrier (setup.py) ... \u001b[?25l\u001b[?25hdone\n"
          ],
          "name": "stdout"
        }
      ]
    },
    {
      "cell_type": "code",
      "metadata": {
        "id": "oMCOAzqFO3L5"
      },
      "source": [
        "import pandas as pd\n",
        "from pandas.testing import assert_frame_equal\n",
        "\n",
        "from sklearn.feature_extraction.text import TfidfVectorizer\n",
        "from sklearn.compose import ColumnTransformer\n",
        "from sklearn.pipeline import Pipeline\n",
        "from sklearn.linear_model import LogisticRegression\n",
        "from sklearn.preprocessing import normalize"
      ],
      "execution_count": 2,
      "outputs": []
    },
    {
      "cell_type": "code",
      "metadata": {
        "colab": {
          "base_uri": "https://localhost:8080/"
        },
        "id": "5PwYpg1xF7Mf",
        "outputId": "e2a17f52-5694-4b52-e517-9d548fb1c229"
      },
      "source": [
        "import pyterrier as pt\n",
        "pt.init(boot_packages=[\"com.github.terrierteam:terrier-prf:-SNAPSHOT\"])"
      ],
      "execution_count": 3,
      "outputs": [
        {
          "output_type": "stream",
          "text": [
            "/usr/local/lib/python3.7/dist-packages/tqdm/std.py:658: FutureWarning: The Panel class is removed from pandas. Accessing it from the top-level namespace will also be removed in the next version\n",
            "  from pandas import Panel\n"
          ],
          "name": "stderr"
        },
        {
          "output_type": "stream",
          "text": [
            "PyTerrier 0.5.0 has loaded Terrier 5.4 (built by craigm on 2021-01-16 14:17)\n"
          ],
          "name": "stdout"
        }
      ]
    },
    {
      "cell_type": "code",
      "metadata": {
        "id": "Cwgw-Eh_Qo1_"
      },
      "source": [
        "dataset = pt.datasets.get_dataset('irds:cord19/trec-covid')"
      ],
      "execution_count": 4,
      "outputs": []
    },
    {
      "cell_type": "code",
      "metadata": {
        "id": "ScBsia3OQoRW",
        "colab": {
          "base_uri": "https://localhost:8080/",
          "height": 191,
          "referenced_widgets": [
            "f83847cbad10403da559c8af832902c9",
            "cbdd132067e14346a60d8a6736670e34",
            "2f3b33e05128406a859c40631c71d2c0",
            "7f99750950774c3f8618fa7a0df10d9b",
            "51d585efa8f449eda0e684df5afe9e2d",
            "e6e8b03f25184359945710e7dd47c3fb",
            "6c2afb576ac04c1593f069b53fe2cf74",
            "12520162d2da4b789b3752dd974cf981"
          ]
        },
        "outputId": "14f7227a-cf7f-4963-a20c-75b4db0d45cb"
      },
      "source": [
        "next(iter(dataset.get_corpus_iter()))"
      ],
      "execution_count": 5,
      "outputs": [
        {
          "output_type": "display_data",
          "data": {
            "application/vnd.jupyter.widget-view+json": {
              "model_id": "f83847cbad10403da559c8af832902c9",
              "version_minor": 0,
              "version_major": 2
            },
            "text/plain": [
              "HBox(children=(FloatProgress(value=0.0, description='cord19/trec-covid documents', max=192509.0, style=Progres…"
            ]
          },
          "metadata": {
            "tags": []
          }
        },
        {
          "output_type": "execute_result",
          "data": {
            "text/plain": [
              "OrderedDict([('title',\n",
              "              'Clinical features of culture-proven Mycoplasma pneumoniae infections at King Abdulaziz University Hospital, Jeddah, Saudi Arabia'),\n",
              "             ('doi', '10.1186/1471-2334-1-6'),\n",
              "             ('date', '2001-07-04'),\n",
              "             ('abstract',\n",
              "              'OBJECTIVE: This retrospective chart review describes the epidemiology and clinical features of 40 patients with culture-proven Mycoplasma pneumoniae infections at King Abdulaziz University Hospital, Jeddah, Saudi Arabia. METHODS: Patients with positive M. pneumoniae cultures from respiratory specimens from January 1997 through December 1998 were identified through the Microbiology records. Charts of patients were reviewed. RESULTS: 40 patients were identified, 33 (82.5%) of whom required admission. Most infections (92.5%) were community-acquired. The infection affected all age groups but was most common in infants (32.5%) and pre-school children (22.5%). It occurred year-round but was most common in the fall (35%) and spring (30%). More than three-quarters of patients (77.5%) had comorbidities. Twenty-four isolates (60%) were associated with pneumonia, 14 (35%) with upper respiratory tract infections, and 2 (5%) with bronchiolitis. Cough (82.5%), fever (75%), and malaise (58.8%) were the most common symptoms, and crepitations (60%), and wheezes (40%) were the most common signs. Most patients with pneumonia had crepitations (79.2%) but only 25% had bronchial breathing. Immunocompromised patients were more likely than non-immunocompromised patients to present with pneumonia (8/9 versus 16/31, P = 0.05). Of the 24 patients with pneumonia, 14 (58.3%) had uneventful recovery, 4 (16.7%) recovered following some complications, 3 (12.5%) died because of M pneumoniae infection, and 3 (12.5%) died due to underlying comorbidities. The 3 patients who died of M pneumoniae pneumonia had other comorbidities. CONCLUSION: our results were similar to published data except for the finding that infections were more common in infants and preschool children and that the mortality rate of pneumonia in patients with comorbidities was high.'),\n",
              "             ('docno', 'ug7v899j')])"
            ]
          },
          "metadata": {
            "tags": []
          },
          "execution_count": 5
        }
      ]
    },
    {
      "cell_type": "code",
      "metadata": {
        "id": "Om3klADKQoFG",
        "colab": {
          "base_uri": "https://localhost:8080/",
          "height": 118,
          "referenced_widgets": [
            "c44682d2950849bf84f27ca29b1353eb",
            "04e340a23b8848409276ba06661815f9",
            "b160fbcc11a94a1498d8633402cb1894",
            "29b4d109813b4bca85ae838ced194742",
            "8d948de4da834031ba81fb01f2adc462",
            "e232eb5424284a918b00aef4264bbd94",
            "59fede3d34b64043a820e3923e842655",
            "7b84096ec2644c8bb8b9a4edf969fb38"
          ]
        },
        "outputId": "dd9da109-8107-44ef-fe29-97017f528366"
      },
      "source": [
        "N = 10_000\n",
        "\n",
        "pt_index_path = './index_cord19'\n",
        "\n",
        "# create the index, using the IterDictIndexer indexer \n",
        "indexer = pt.index.IterDictIndexer(pt_index_path, overwrite=True) # , blocks=True\n",
        "\n",
        "# we give the dataset get_corpus_iter() directly to the indexer\n",
        "# while specifying the fields to index and the metadata to record\n",
        "index_ref = indexer.index(\n",
        "    (datum for i, datum in enumerate(dataset.get_corpus_iter()) if i < N),\n",
        "    fields=('abstract',), # TODO should this be a list?\n",
        "    # meta={'docno' : 26, 'text' : 2048, 'abstract' : 2048}\n",
        "    meta=['docno','abstract'],\n",
        "    )\n",
        "\n",
        "index = pt.IndexFactory.of(index_ref)"
      ],
      "execution_count": 6,
      "outputs": [
        {
          "output_type": "stream",
          "text": [
            "\n"
          ],
          "name": "stdout"
        },
        {
          "output_type": "display_data",
          "data": {
            "application/vnd.jupyter.widget-view+json": {
              "model_id": "c44682d2950849bf84f27ca29b1353eb",
              "version_minor": 0,
              "version_major": 2
            },
            "text/plain": [
              "HBox(children=(FloatProgress(value=0.0, description='cord19/trec-covid documents', max=192509.0, style=Progres…"
            ]
          },
          "metadata": {
            "tags": []
          }
        },
        {
          "output_type": "stream",
          "text": [
            "09:48:12.620 [ForkJoinPool-1-worker-3] WARN  o.t.structures.indexing.Indexer - Adding an empty document to the index (6iu1dtyl) - further warnings are suppressed\n",
            "\n",
            "09:48:24.821 [ForkJoinPool-1-worker-3] WARN  o.t.structures.indexing.Indexer - Indexed 2143 empty documents\n"
          ],
          "name": "stdout"
        }
      ]
    },
    {
      "cell_type": "code",
      "metadata": {
        "id": "ZV436ACnol_f",
        "colab": {
          "base_uri": "https://localhost:8080/"
        },
        "outputId": "e9b1737e-96e8-4ea8-e6f7-ab5da6e9b6b1"
      },
      "source": [
        "print(index.getCollectionStatistics().toString())"
      ],
      "execution_count": 7,
      "outputs": [
        {
          "output_type": "stream",
          "text": [
            "Number of documents: 10000\n",
            "Number of terms: 36191\n",
            "Number of postings: 673758\n",
            "Number of fields: 1\n",
            "Number of tokens: 1040094\n",
            "Field names: [abstract]\n",
            "Positions:   false\n",
            "\n"
          ],
          "name": "stdout"
        }
      ]
    },
    {
      "cell_type": "code",
      "metadata": {
        "colab": {
          "base_uri": "https://localhost:8080/",
          "height": 143
        },
        "id": "MyYsasfaGYFt",
        "outputId": "55b8df09-8a09-4d33-dd18-63cbefc010e6"
      },
      "source": [
        "queries = dataset.get_topics(variant='title').head(3)\n",
        "queries"
      ],
      "execution_count": 8,
      "outputs": [
        {
          "output_type": "execute_result",
          "data": {
            "text/html": [
              "<div>\n",
              "<style scoped>\n",
              "    .dataframe tbody tr th:only-of-type {\n",
              "        vertical-align: middle;\n",
              "    }\n",
              "\n",
              "    .dataframe tbody tr th {\n",
              "        vertical-align: top;\n",
              "    }\n",
              "\n",
              "    .dataframe thead th {\n",
              "        text-align: right;\n",
              "    }\n",
              "</style>\n",
              "<table border=\"1\" class=\"dataframe\">\n",
              "  <thead>\n",
              "    <tr style=\"text-align: right;\">\n",
              "      <th></th>\n",
              "      <th>qid</th>\n",
              "      <th>query</th>\n",
              "    </tr>\n",
              "  </thead>\n",
              "  <tbody>\n",
              "    <tr>\n",
              "      <th>0</th>\n",
              "      <td>1</td>\n",
              "      <td>coronavirus origin</td>\n",
              "    </tr>\n",
              "    <tr>\n",
              "      <th>1</th>\n",
              "      <td>2</td>\n",
              "      <td>coronavirus response to weather changes</td>\n",
              "    </tr>\n",
              "    <tr>\n",
              "      <th>2</th>\n",
              "      <td>3</td>\n",
              "      <td>coronavirus immunity</td>\n",
              "    </tr>\n",
              "  </tbody>\n",
              "</table>\n",
              "</div>"
            ],
            "text/plain": [
              "  qid                                    query\n",
              "0   1                       coronavirus origin\n",
              "1   2  coronavirus response to weather changes\n",
              "2   3                     coronavirus immunity"
            ]
          },
          "metadata": {
            "tags": []
          },
          "execution_count": 8
        }
      ]
    },
    {
      "cell_type": "code",
      "metadata": {
        "id": "UVpaOHP6GC30"
      },
      "source": [
        "M = 1002 # TODO is 1000 the max ever returned? Probably bug\n",
        "\n",
        "bm25 = pt.BatchRetrieve(index, wmodel=\"BM25\", num_results=M)\n",
        "rm3 = pt.rewrite.RM3(index)\n",
        "bm25_text = pt.BatchRetrieve(index, wmodel=\"BM25\", metadata=[\"docno\", \"abstract\"], num_results=M)\n",
        "\n",
        "rm3_pipe = bm25 >> rm3 >> bm25_text >> pt.apply.rename({'abstract':'text'})"
      ],
      "execution_count": 9,
      "outputs": []
    },
    {
      "cell_type": "code",
      "metadata": {
        "id": "Lt0DO6F2RY2u"
      },
      "source": [
        "# TODO Question: in rm3_pipe, is final bm25 just reranking initial bm25 results, or does it re-consider all docs?"
      ],
      "execution_count": 10,
      "outputs": []
    },
    {
      "cell_type": "code",
      "metadata": {
        "id": "nn2b7XgXg85n",
        "outputId": "909b4a95-8136-4284-e1a2-b0a2b32f7481",
        "colab": {
          "base_uri": "https://localhost:8080/",
          "height": 143
        }
      },
      "source": [
        "df_part = (bm25 >> rm3).transform(queries)\n",
        "df_part"
      ],
      "execution_count": 11,
      "outputs": [
        {
          "output_type": "execute_result",
          "data": {
            "text/html": [
              "<div>\n",
              "<style scoped>\n",
              "    .dataframe tbody tr th:only-of-type {\n",
              "        vertical-align: middle;\n",
              "    }\n",
              "\n",
              "    .dataframe tbody tr th {\n",
              "        vertical-align: top;\n",
              "    }\n",
              "\n",
              "    .dataframe thead th {\n",
              "        text-align: right;\n",
              "    }\n",
              "</style>\n",
              "<table border=\"1\" class=\"dataframe\">\n",
              "  <thead>\n",
              "    <tr style=\"text-align: right;\">\n",
              "      <th></th>\n",
              "      <th>qid</th>\n",
              "      <th>query_0</th>\n",
              "      <th>query</th>\n",
              "    </tr>\n",
              "  </thead>\n",
              "  <tbody>\n",
              "    <tr>\n",
              "      <th>0</th>\n",
              "      <td>1</td>\n",
              "      <td>coronavirus origin</td>\n",
              "      <td>applypipeline:off protect^0.035425290 anim^0.0...</td>\n",
              "    </tr>\n",
              "    <tr>\n",
              "      <th>1</th>\n",
              "      <td>2</td>\n",
              "      <td>coronavirus response to weather changes</td>\n",
              "      <td>applypipeline:off respons^0.150000006 forecast...</td>\n",
              "    </tr>\n",
              "    <tr>\n",
              "      <th>2</th>\n",
              "      <td>3</td>\n",
              "      <td>coronavirus immunity</td>\n",
              "      <td>applypipeline:off network^0.029360194 step^0.0...</td>\n",
              "    </tr>\n",
              "  </tbody>\n",
              "</table>\n",
              "</div>"
            ],
            "text/plain": [
              "  qid  ...                                              query\n",
              "0   1  ...  applypipeline:off protect^0.035425290 anim^0.0...\n",
              "1   2  ...  applypipeline:off respons^0.150000006 forecast...\n",
              "2   3  ...  applypipeline:off network^0.029360194 step^0.0...\n",
              "\n",
              "[3 rows x 3 columns]"
            ]
          },
          "metadata": {
            "tags": []
          },
          "execution_count": 11
        }
      ]
    },
    {
      "cell_type": "code",
      "metadata": {
        "id": "l3lk-NnPoxen",
        "outputId": "6c8381af-5015-413f-fae7-d5145ce9e573",
        "colab": {
          "base_uri": "https://localhost:8080/",
          "height": 424
        }
      },
      "source": [
        "df_out = rm3_pipe.transform(queries)\n",
        "df_out # .loc[df_out[\"qid\"] == \"1\", :]"
      ],
      "execution_count": 12,
      "outputs": [
        {
          "output_type": "execute_result",
          "data": {
            "text/html": [
              "<div>\n",
              "<style scoped>\n",
              "    .dataframe tbody tr th:only-of-type {\n",
              "        vertical-align: middle;\n",
              "    }\n",
              "\n",
              "    .dataframe tbody tr th {\n",
              "        vertical-align: top;\n",
              "    }\n",
              "\n",
              "    .dataframe thead th {\n",
              "        text-align: right;\n",
              "    }\n",
              "</style>\n",
              "<table border=\"1\" class=\"dataframe\">\n",
              "  <thead>\n",
              "    <tr style=\"text-align: right;\">\n",
              "      <th></th>\n",
              "      <th>qid</th>\n",
              "      <th>docid</th>\n",
              "      <th>docno</th>\n",
              "      <th>text</th>\n",
              "      <th>rank</th>\n",
              "      <th>score</th>\n",
              "      <th>query_0</th>\n",
              "      <th>query</th>\n",
              "    </tr>\n",
              "  </thead>\n",
              "  <tbody>\n",
              "    <tr>\n",
              "      <th>0</th>\n",
              "      <td>1</td>\n",
              "      <td>2257</td>\n",
              "      <td>8y24j34j</td>\n",
              "      <td>Middle East respiratory syndrome coronavirus i...</td>\n",
              "      <td>0</td>\n",
              "      <td>19.049835</td>\n",
              "      <td>coronavirus origin</td>\n",
              "      <td>applypipeline:off protect^0.035425290 anim^0.0...</td>\n",
              "    </tr>\n",
              "    <tr>\n",
              "      <th>1</th>\n",
              "      <td>1</td>\n",
              "      <td>4582</td>\n",
              "      <td>2jq626ye</td>\n",
              "      <td>A novel coronavirus (2019-nCoV) originating in...</td>\n",
              "      <td>1</td>\n",
              "      <td>13.717366</td>\n",
              "      <td>coronavirus origin</td>\n",
              "      <td>applypipeline:off protect^0.035425290 anim^0.0...</td>\n",
              "    </tr>\n",
              "    <tr>\n",
              "      <th>2</th>\n",
              "      <td>1</td>\n",
              "      <td>1394</td>\n",
              "      <td>vnafx1ng</td>\n",
              "      <td>The phosphoprotein (P) gene of most Paramyxovi...</td>\n",
              "      <td>2</td>\n",
              "      <td>11.114468</td>\n",
              "      <td>coronavirus origin</td>\n",
              "      <td>applypipeline:off protect^0.035425290 anim^0.0...</td>\n",
              "    </tr>\n",
              "    <tr>\n",
              "      <th>3</th>\n",
              "      <td>1</td>\n",
              "      <td>1616</td>\n",
              "      <td>hp5x637c</td>\n",
              "      <td>BACKGROUND: In 2007, a novel bunyavirus was fo...</td>\n",
              "      <td>3</td>\n",
              "      <td>8.417806</td>\n",
              "      <td>coronavirus origin</td>\n",
              "      <td>applypipeline:off protect^0.035425290 anim^0.0...</td>\n",
              "    </tr>\n",
              "    <tr>\n",
              "      <th>4</th>\n",
              "      <td>1</td>\n",
              "      <td>4936</td>\n",
              "      <td>41ui4lqc</td>\n",
              "      <td>Emerging viruses represent a continuous threat...</td>\n",
              "      <td>4</td>\n",
              "      <td>8.340423</td>\n",
              "      <td>coronavirus origin</td>\n",
              "      <td>applypipeline:off protect^0.035425290 anim^0.0...</td>\n",
              "    </tr>\n",
              "    <tr>\n",
              "      <th>...</th>\n",
              "      <td>...</td>\n",
              "      <td>...</td>\n",
              "      <td>...</td>\n",
              "      <td>...</td>\n",
              "      <td>...</td>\n",
              "      <td>...</td>\n",
              "      <td>...</td>\n",
              "      <td>...</td>\n",
              "    </tr>\n",
              "    <tr>\n",
              "      <th>2995</th>\n",
              "      <td>3</td>\n",
              "      <td>4382</td>\n",
              "      <td>r2s0gks8</td>\n",
              "      <td>BACKGROUND: In endemic areas, pregnant women a...</td>\n",
              "      <td>995</td>\n",
              "      <td>2.851963</td>\n",
              "      <td>coronavirus immunity</td>\n",
              "      <td>applypipeline:off network^0.029360194 step^0.0...</td>\n",
              "    </tr>\n",
              "    <tr>\n",
              "      <th>2996</th>\n",
              "      <td>3</td>\n",
              "      <td>673</td>\n",
              "      <td>x5ardo5j</td>\n",
              "      <td>In all vertebrate animals, CD8(+) cytotoxic T ...</td>\n",
              "      <td>996</td>\n",
              "      <td>2.851936</td>\n",
              "      <td>coronavirus immunity</td>\n",
              "      <td>applypipeline:off network^0.029360194 step^0.0...</td>\n",
              "    </tr>\n",
              "    <tr>\n",
              "      <th>2997</th>\n",
              "      <td>3</td>\n",
              "      <td>1567</td>\n",
              "      <td>y1nr8y25</td>\n",
              "      <td>OBJECTIVES: The emergence of the pandemic infl...</td>\n",
              "      <td>997</td>\n",
              "      <td>2.849012</td>\n",
              "      <td>coronavirus immunity</td>\n",
              "      <td>applypipeline:off network^0.029360194 step^0.0...</td>\n",
              "    </tr>\n",
              "    <tr>\n",
              "      <th>2998</th>\n",
              "      <td>3</td>\n",
              "      <td>4147</td>\n",
              "      <td>mrfvdpmk</td>\n",
              "      <td>As a response to a diverse array of external s...</td>\n",
              "      <td>998</td>\n",
              "      <td>2.848665</td>\n",
              "      <td>coronavirus immunity</td>\n",
              "      <td>applypipeline:off network^0.029360194 step^0.0...</td>\n",
              "    </tr>\n",
              "    <tr>\n",
              "      <th>2999</th>\n",
              "      <td>3</td>\n",
              "      <td>1524</td>\n",
              "      <td>mx4t6s6n</td>\n",
              "      <td>Hypertension is a major risk factor for stroke...</td>\n",
              "      <td>999</td>\n",
              "      <td>2.847783</td>\n",
              "      <td>coronavirus immunity</td>\n",
              "      <td>applypipeline:off network^0.029360194 step^0.0...</td>\n",
              "    </tr>\n",
              "  </tbody>\n",
              "</table>\n",
              "<p>3000 rows × 8 columns</p>\n",
              "</div>"
            ],
            "text/plain": [
              "     qid  ...                                              query\n",
              "0      1  ...  applypipeline:off protect^0.035425290 anim^0.0...\n",
              "1      1  ...  applypipeline:off protect^0.035425290 anim^0.0...\n",
              "2      1  ...  applypipeline:off protect^0.035425290 anim^0.0...\n",
              "3      1  ...  applypipeline:off protect^0.035425290 anim^0.0...\n",
              "4      1  ...  applypipeline:off protect^0.035425290 anim^0.0...\n",
              "...   ..  ...                                                ...\n",
              "2995   3  ...  applypipeline:off network^0.029360194 step^0.0...\n",
              "2996   3  ...  applypipeline:off network^0.029360194 step^0.0...\n",
              "2997   3  ...  applypipeline:off network^0.029360194 step^0.0...\n",
              "2998   3  ...  applypipeline:off network^0.029360194 step^0.0...\n",
              "2999   3  ...  applypipeline:off network^0.029360194 step^0.0...\n",
              "\n",
              "[3000 rows x 8 columns]"
            ]
          },
          "metadata": {
            "tags": []
          },
          "execution_count": 12
        }
      ]
    },
    {
      "cell_type": "code",
      "metadata": {
        "id": "E_Fj4OcGhB_H",
        "outputId": "28021a90-07c0-4d65-f2b8-b0a562afafea",
        "colab": {
          "base_uri": "https://localhost:8080/",
          "height": 424
        }
      },
      "source": [
        "df_bm = bm25.transform(queries)\n",
        "df_bm"
      ],
      "execution_count": 13,
      "outputs": [
        {
          "output_type": "execute_result",
          "data": {
            "text/html": [
              "<div>\n",
              "<style scoped>\n",
              "    .dataframe tbody tr th:only-of-type {\n",
              "        vertical-align: middle;\n",
              "    }\n",
              "\n",
              "    .dataframe tbody tr th {\n",
              "        vertical-align: top;\n",
              "    }\n",
              "\n",
              "    .dataframe thead th {\n",
              "        text-align: right;\n",
              "    }\n",
              "</style>\n",
              "<table border=\"1\" class=\"dataframe\">\n",
              "  <thead>\n",
              "    <tr style=\"text-align: right;\">\n",
              "      <th></th>\n",
              "      <th>qid</th>\n",
              "      <th>docid</th>\n",
              "      <th>docno</th>\n",
              "      <th>rank</th>\n",
              "      <th>score</th>\n",
              "      <th>query</th>\n",
              "    </tr>\n",
              "  </thead>\n",
              "  <tbody>\n",
              "    <tr>\n",
              "      <th>0</th>\n",
              "      <td>1</td>\n",
              "      <td>2257</td>\n",
              "      <td>8y24j34j</td>\n",
              "      <td>0</td>\n",
              "      <td>16.990326</td>\n",
              "      <td>coronavirus origin</td>\n",
              "    </tr>\n",
              "    <tr>\n",
              "      <th>1</th>\n",
              "      <td>1</td>\n",
              "      <td>4582</td>\n",
              "      <td>2jq626ye</td>\n",
              "      <td>1</td>\n",
              "      <td>12.327608</td>\n",
              "      <td>coronavirus origin</td>\n",
              "    </tr>\n",
              "    <tr>\n",
              "      <th>2</th>\n",
              "      <td>1</td>\n",
              "      <td>1394</td>\n",
              "      <td>vnafx1ng</td>\n",
              "      <td>2</td>\n",
              "      <td>8.248003</td>\n",
              "      <td>coronavirus origin</td>\n",
              "    </tr>\n",
              "    <tr>\n",
              "      <th>3</th>\n",
              "      <td>1</td>\n",
              "      <td>4980</td>\n",
              "      <td>cgby8bhz</td>\n",
              "      <td>3</td>\n",
              "      <td>7.913393</td>\n",
              "      <td>coronavirus origin</td>\n",
              "    </tr>\n",
              "    <tr>\n",
              "      <th>4</th>\n",
              "      <td>1</td>\n",
              "      <td>5341</td>\n",
              "      <td>qbt142yj</td>\n",
              "      <td>4</td>\n",
              "      <td>7.335607</td>\n",
              "      <td>coronavirus origin</td>\n",
              "    </tr>\n",
              "    <tr>\n",
              "      <th>...</th>\n",
              "      <td>...</td>\n",
              "      <td>...</td>\n",
              "      <td>...</td>\n",
              "      <td>...</td>\n",
              "      <td>...</td>\n",
              "      <td>...</td>\n",
              "    </tr>\n",
              "    <tr>\n",
              "      <th>2348</th>\n",
              "      <td>3</td>\n",
              "      <td>4220</td>\n",
              "      <td>5ckfmq6j</td>\n",
              "      <td>995</td>\n",
              "      <td>2.448816</td>\n",
              "      <td>coronavirus immunity</td>\n",
              "    </tr>\n",
              "    <tr>\n",
              "      <th>2349</th>\n",
              "      <td>3</td>\n",
              "      <td>5698</td>\n",
              "      <td>1gcubssd</td>\n",
              "      <td>996</td>\n",
              "      <td>2.448816</td>\n",
              "      <td>coronavirus immunity</td>\n",
              "    </tr>\n",
              "    <tr>\n",
              "      <th>2350</th>\n",
              "      <td>3</td>\n",
              "      <td>1997</td>\n",
              "      <td>m31mb2kr</td>\n",
              "      <td>997</td>\n",
              "      <td>2.448816</td>\n",
              "      <td>coronavirus immunity</td>\n",
              "    </tr>\n",
              "    <tr>\n",
              "      <th>2351</th>\n",
              "      <td>3</td>\n",
              "      <td>4014</td>\n",
              "      <td>3gt3vlev</td>\n",
              "      <td>998</td>\n",
              "      <td>2.448816</td>\n",
              "      <td>coronavirus immunity</td>\n",
              "    </tr>\n",
              "    <tr>\n",
              "      <th>2352</th>\n",
              "      <td>3</td>\n",
              "      <td>1160</td>\n",
              "      <td>tcmgsmsi</td>\n",
              "      <td>999</td>\n",
              "      <td>2.448816</td>\n",
              "      <td>coronavirus immunity</td>\n",
              "    </tr>\n",
              "  </tbody>\n",
              "</table>\n",
              "<p>2353 rows × 6 columns</p>\n",
              "</div>"
            ],
            "text/plain": [
              "     qid  docid     docno  rank      score                 query\n",
              "0      1   2257  8y24j34j     0  16.990326    coronavirus origin\n",
              "1      1   4582  2jq626ye     1  12.327608    coronavirus origin\n",
              "2      1   1394  vnafx1ng     2   8.248003    coronavirus origin\n",
              "3      1   4980  cgby8bhz     3   7.913393    coronavirus origin\n",
              "4      1   5341  qbt142yj     4   7.335607    coronavirus origin\n",
              "...   ..    ...       ...   ...        ...                   ...\n",
              "2348   3   4220  5ckfmq6j   995   2.448816  coronavirus immunity\n",
              "2349   3   5698  1gcubssd   996   2.448816  coronavirus immunity\n",
              "2350   3   1997  m31mb2kr   997   2.448816  coronavirus immunity\n",
              "2351   3   4014  3gt3vlev   998   2.448816  coronavirus immunity\n",
              "2352   3   1160  tcmgsmsi   999   2.448816  coronavirus immunity\n",
              "\n",
              "[2353 rows x 6 columns]"
            ]
          },
          "metadata": {
            "tags": []
          },
          "execution_count": 13
        }
      ]
    },
    {
      "cell_type": "code",
      "metadata": {
        "id": "xaV_spf8hBnc",
        "outputId": "9abbf046-4e6f-404f-c358-ffde65a5a31a",
        "colab": {
          "base_uri": "https://localhost:8080/",
          "height": 417
        }
      },
      "source": [
        "assert_frame_equal(df_bm, df_out)"
      ],
      "execution_count": 14,
      "outputs": [
        {
          "output_type": "error",
          "ename": "AssertionError",
          "evalue": "ignored",
          "traceback": [
            "\u001b[0;31m---------------------------------------------------------------------------\u001b[0m",
            "\u001b[0;31mAssertionError\u001b[0m                            Traceback (most recent call last)",
            "\u001b[0;32m<ipython-input-14-a789219521b5>\u001b[0m in \u001b[0;36m<module>\u001b[0;34m()\u001b[0m\n\u001b[1;32m      1\u001b[0m \u001b[0;32mfrom\u001b[0m \u001b[0mpandas\u001b[0m\u001b[0;34m.\u001b[0m\u001b[0mtesting\u001b[0m \u001b[0;32mimport\u001b[0m \u001b[0massert_frame_equal\u001b[0m\u001b[0;34m\u001b[0m\u001b[0;34m\u001b[0m\u001b[0m\n\u001b[1;32m      2\u001b[0m \u001b[0;34m\u001b[0m\u001b[0m\n\u001b[0;32m----> 3\u001b[0;31m \u001b[0massert_frame_equal\u001b[0m\u001b[0;34m(\u001b[0m\u001b[0mdf_bm\u001b[0m\u001b[0;34m,\u001b[0m \u001b[0mdf_out\u001b[0m\u001b[0;34m)\u001b[0m\u001b[0;34m\u001b[0m\u001b[0;34m\u001b[0m\u001b[0m\n\u001b[0m",
            "\u001b[0;32m/usr/local/lib/python3.7/dist-packages/pandas/_testing.py\u001b[0m in \u001b[0;36massert_frame_equal\u001b[0;34m(left, right, check_dtype, check_index_type, check_column_type, check_frame_type, check_less_precise, check_names, by_blocks, check_exact, check_datetimelike_compat, check_categorical, check_like, check_freq, rtol, atol, obj)\u001b[0m\n\u001b[1;32m   1560\u001b[0m     \u001b[0;32mif\u001b[0m \u001b[0mleft\u001b[0m\u001b[0;34m.\u001b[0m\u001b[0mshape\u001b[0m \u001b[0;34m!=\u001b[0m \u001b[0mright\u001b[0m\u001b[0;34m.\u001b[0m\u001b[0mshape\u001b[0m\u001b[0;34m:\u001b[0m\u001b[0;34m\u001b[0m\u001b[0;34m\u001b[0m\u001b[0m\n\u001b[1;32m   1561\u001b[0m         raise_assert_detail(\n\u001b[0;32m-> 1562\u001b[0;31m             \u001b[0mobj\u001b[0m\u001b[0;34m,\u001b[0m \u001b[0;34mf\"{obj} shape mismatch\"\u001b[0m\u001b[0;34m,\u001b[0m \u001b[0;34mf\"{repr(left.shape)}\"\u001b[0m\u001b[0;34m,\u001b[0m \u001b[0;34mf\"{repr(right.shape)}\"\u001b[0m\u001b[0;34m,\u001b[0m\u001b[0;34m\u001b[0m\u001b[0;34m\u001b[0m\u001b[0m\n\u001b[0m\u001b[1;32m   1563\u001b[0m         )\n\u001b[1;32m   1564\u001b[0m \u001b[0;34m\u001b[0m\u001b[0m\n",
            "\u001b[0;32m/usr/local/lib/python3.7/dist-packages/pandas/_testing.py\u001b[0m in \u001b[0;36mraise_assert_detail\u001b[0;34m(obj, message, left, right, diff, index_values)\u001b[0m\n\u001b[1;32m   1034\u001b[0m         \u001b[0mmsg\u001b[0m \u001b[0;34m+=\u001b[0m \u001b[0;34mf\"\\n[diff]: {diff}\"\u001b[0m\u001b[0;34m\u001b[0m\u001b[0;34m\u001b[0m\u001b[0m\n\u001b[1;32m   1035\u001b[0m \u001b[0;34m\u001b[0m\u001b[0m\n\u001b[0;32m-> 1036\u001b[0;31m     \u001b[0;32mraise\u001b[0m \u001b[0mAssertionError\u001b[0m\u001b[0;34m(\u001b[0m\u001b[0mmsg\u001b[0m\u001b[0;34m)\u001b[0m\u001b[0;34m\u001b[0m\u001b[0;34m\u001b[0m\u001b[0m\n\u001b[0m\u001b[1;32m   1037\u001b[0m \u001b[0;34m\u001b[0m\u001b[0m\n\u001b[1;32m   1038\u001b[0m \u001b[0;34m\u001b[0m\u001b[0m\n",
            "\u001b[0;31mAssertionError\u001b[0m: DataFrame are different\n\nDataFrame shape mismatch\n[left]:  (2353, 6)\n[right]: (3000, 8)"
          ]
        }
      ]
    },
    {
      "cell_type": "code",
      "metadata": {
        "id": "iFCm1tHv6vf1",
        "outputId": "c93ad727-3c2d-4dc3-8319-7fcb262a0623",
        "colab": {
          "base_uri": "https://localhost:8080/",
          "height": 175
        }
      },
      "source": [
        "df_out.loc[:, [\"qid\", \"docid\"]].groupby(\"qid\").count()"
      ],
      "execution_count": 15,
      "outputs": [
        {
          "output_type": "execute_result",
          "data": {
            "text/html": [
              "<div>\n",
              "<style scoped>\n",
              "    .dataframe tbody tr th:only-of-type {\n",
              "        vertical-align: middle;\n",
              "    }\n",
              "\n",
              "    .dataframe tbody tr th {\n",
              "        vertical-align: top;\n",
              "    }\n",
              "\n",
              "    .dataframe thead th {\n",
              "        text-align: right;\n",
              "    }\n",
              "</style>\n",
              "<table border=\"1\" class=\"dataframe\">\n",
              "  <thead>\n",
              "    <tr style=\"text-align: right;\">\n",
              "      <th></th>\n",
              "      <th>docid</th>\n",
              "    </tr>\n",
              "    <tr>\n",
              "      <th>qid</th>\n",
              "      <th></th>\n",
              "    </tr>\n",
              "  </thead>\n",
              "  <tbody>\n",
              "    <tr>\n",
              "      <th>1</th>\n",
              "      <td>1000</td>\n",
              "    </tr>\n",
              "    <tr>\n",
              "      <th>2</th>\n",
              "      <td>1000</td>\n",
              "    </tr>\n",
              "    <tr>\n",
              "      <th>3</th>\n",
              "      <td>1000</td>\n",
              "    </tr>\n",
              "  </tbody>\n",
              "</table>\n",
              "</div>"
            ],
            "text/plain": [
              "     docid\n",
              "qid       \n",
              "1     1000\n",
              "2     1000\n",
              "3     1000"
            ]
          },
          "metadata": {
            "tags": []
          },
          "execution_count": 15
        }
      ]
    },
    {
      "cell_type": "code",
      "metadata": {
        "id": "dWInLV_aXxzN"
      },
      "source": [
        "def pr_linear_reranker(\n",
        "    df,\n",
        "    *,\n",
        "    n_top = 10,\n",
        "    n_bottom = 100, # TODO should actually get 0 score documents? how to do this in pyterrier?\n",
        "    col_text = 'text'\n",
        "):\n",
        "  df_tmp = df.copy()\n",
        "  df_relevant = df_tmp.sort_values(\"rank\").reset_index(drop=True).loc[0:n_top, [\"docid\", col_text]]\n",
        "  df_relevant[\"label\"] = 1\n",
        "\n",
        "  df_not_relevant = df_tmp.sort_values(\"rank\", ascending=False).reset_index(drop=True).loc[0:n_bottom, [\"docid\", col_text]]\n",
        "  df_not_relevant[\"label\"] = 0\n",
        "\n",
        "  df_train = pd.concat([df_relevant, df_not_relevant])\n",
        "\n",
        "  text_transformer = Pipeline([\n",
        "      # ('bow', CountVectorizer()),\n",
        "      ('tfidf', TfidfVectorizer()),\n",
        "  ])\n",
        "\n",
        "  preprocessor = ColumnTransformer(\n",
        "      transformers=[\n",
        "          # ('num', num_transformer, col_num),\n",
        "          # ('cat', cat_transformer, col_cat),\n",
        "          ('text', text_transformer, col_text)\n",
        "      ]\n",
        "  )\n",
        "\n",
        "  clf = Pipeline(steps=[\n",
        "      ('preprocessor', preprocessor),\n",
        "      ('classifier', LogisticRegression(random_state=23))\n",
        "  ])\n",
        "\n",
        "  X_train = df_train.loc[:, [\"docid\", col_text]]\n",
        "  y_train = df_train[\"label\"]\n",
        "\n",
        "  clf.fit(X_train, y_train);\n",
        "\n",
        "  preds = clf.predict_proba(df_tmp.loc[:, [\"docid\", col_text]])\n",
        "\n",
        "  df_tmp[\"score\"] = preds[:, 1] # True class second?\n",
        "  df_tmp.sort_values(\"score\", ascending=False, inplace=True)\n",
        "  # df_tmp.reset_index(drop=True, inplace=True)\n",
        "  df_tmp[\"rank\"] = [*range(df_tmp.shape[0])] # df_tmp.index\n",
        "  return df_tmp"
      ],
      "execution_count": 16,
      "outputs": []
    },
    {
      "cell_type": "code",
      "metadata": {
        "id": "wfaFp9dGD4xW"
      },
      "source": [
        "def normalise_score(df, norm=\"max\"):\n",
        "  normalized_data = normalize(df[\"score\"].to_numpy().reshape(1, -1), norm=norm)[0]\n",
        "  df[\"score\"] = normalized_data\n",
        "  return df"
      ],
      "execution_count": 17,
      "outputs": []
    },
    {
      "cell_type": "code",
      "metadata": {
        "id": "PDdAqlR7aY_F"
      },
      "source": [
        "def full_simple(df):\n",
        "    df_score = pr_linear_reranker(df)\n",
        "    return normalise_score(df_score)"
      ],
      "execution_count": 18,
      "outputs": []
    },
    {
      "cell_type": "code",
      "metadata": {
        "id": "dWvuCsFkeIiV"
      },
      "source": [
        "class SimpleTransformer(pt.transformer.TransformerBase):\n",
        "  def transform(self, df, **kwargs):\n",
        "    return df.groupby(\"qid\").apply(full_simple).droplevel(0)"
      ],
      "execution_count": 22,
      "outputs": []
    },
    {
      "cell_type": "code",
      "metadata": {
        "id": "Ojf-cyPiYjlM"
      },
      "source": [
        "# df_eg = df_out.copy().loc[df_out[\"qid\"] == \"2\", :].reset_index(drop=True)\n",
        "\n",
        "# pr_linear_reranker(df_eg)"
      ],
      "execution_count": 23,
      "outputs": []
    },
    {
      "cell_type": "code",
      "metadata": {
        "id": "81kQZlMsYKG3"
      },
      "source": [
        "# df_eg[\"score\"].to_numpy().reshape(1, -1)\n",
        "# normalize(df_eg[\"score\"].to_numpy().reshape(1, -1), norm=\"max\")\n",
        "\n",
        "# df_new = df_out.groupby(\"qid\").apply(normalise_score)\n",
        "# df_new.loc[df_new[\"score\"] == 1, :]"
      ],
      "execution_count": 24,
      "outputs": []
    },
    {
      "cell_type": "code",
      "metadata": {
        "id": "9G3paVIuSzRF"
      },
      "source": [
        "qid = \"0\"\n",
        "docno = \"r9scxa76\""
      ],
      "execution_count": 25,
      "outputs": []
    },
    {
      "cell_type": "code",
      "metadata": {
        "id": "SqhaFZTKaCRz"
      },
      "source": [
        "rm3_pipe = bm25 >> rm3 >> bm25_text >> pt.apply.rename({'abstract':'text'})"
      ],
      "execution_count": 26,
      "outputs": []
    },
    {
      "cell_type": "code",
      "metadata": {
        "id": "K9D8F8xlNgyQ",
        "outputId": "bd94e75d-1f8d-4953-c626-c948353bc01d",
        "colab": {
          "base_uri": "https://localhost:8080/",
          "height": 424
        }
      },
      "source": [
        "# pr_pipe = rm3_pipe >> pt.apply.by_query(full_simple)\n",
        "pr_pipe = rm3_pipe >> pt.apply.by_query(pr_linear_reranker) >> pt.apply.by_query(normalise_score)\n",
        "\n",
        "df_out_st = pr_pipe.transform(queries) # .loc[:0, :])\n",
        "df_out_st # .loc[(df_out_st[\"qid\"] == qid) & (df_out_st[\"docno\"] == docno), :]"
      ],
      "execution_count": 27,
      "outputs": [
        {
          "output_type": "execute_result",
          "data": {
            "text/html": [
              "<div>\n",
              "<style scoped>\n",
              "    .dataframe tbody tr th:only-of-type {\n",
              "        vertical-align: middle;\n",
              "    }\n",
              "\n",
              "    .dataframe tbody tr th {\n",
              "        vertical-align: top;\n",
              "    }\n",
              "\n",
              "    .dataframe thead th {\n",
              "        text-align: right;\n",
              "    }\n",
              "</style>\n",
              "<table border=\"1\" class=\"dataframe\">\n",
              "  <thead>\n",
              "    <tr style=\"text-align: right;\">\n",
              "      <th></th>\n",
              "      <th>qid</th>\n",
              "      <th>docid</th>\n",
              "      <th>docno</th>\n",
              "      <th>text</th>\n",
              "      <th>score</th>\n",
              "      <th>query_0</th>\n",
              "      <th>query</th>\n",
              "      <th>rank</th>\n",
              "    </tr>\n",
              "  </thead>\n",
              "  <tbody>\n",
              "    <tr>\n",
              "      <th>0</th>\n",
              "      <td>1</td>\n",
              "      <td>2257</td>\n",
              "      <td>8y24j34j</td>\n",
              "      <td>Middle East respiratory syndrome coronavirus i...</td>\n",
              "      <td>1.000000</td>\n",
              "      <td>coronavirus origin</td>\n",
              "      <td>applypipeline:off protect^0.035425290 anim^0.0...</td>\n",
              "      <td>0</td>\n",
              "    </tr>\n",
              "    <tr>\n",
              "      <th>3</th>\n",
              "      <td>1</td>\n",
              "      <td>1616</td>\n",
              "      <td>hp5x637c</td>\n",
              "      <td>BACKGROUND: In 2007, a novel bunyavirus was fo...</td>\n",
              "      <td>0.991208</td>\n",
              "      <td>coronavirus origin</td>\n",
              "      <td>applypipeline:off protect^0.035425290 anim^0.0...</td>\n",
              "      <td>1</td>\n",
              "    </tr>\n",
              "    <tr>\n",
              "      <th>10</th>\n",
              "      <td>1</td>\n",
              "      <td>5200</td>\n",
              "      <td>6io5yxgo</td>\n",
              "      <td>Many emerging infectious diseases in human pop...</td>\n",
              "      <td>0.981163</td>\n",
              "      <td>coronavirus origin</td>\n",
              "      <td>applypipeline:off protect^0.035425290 anim^0.0...</td>\n",
              "      <td>2</td>\n",
              "    </tr>\n",
              "    <tr>\n",
              "      <th>7</th>\n",
              "      <td>1</td>\n",
              "      <td>3012</td>\n",
              "      <td>6eb2jgl7</td>\n",
              "      <td>Norovirus infection, a highly prevalent condit...</td>\n",
              "      <td>0.978558</td>\n",
              "      <td>coronavirus origin</td>\n",
              "      <td>applypipeline:off protect^0.035425290 anim^0.0...</td>\n",
              "      <td>3</td>\n",
              "    </tr>\n",
              "    <tr>\n",
              "      <th>6</th>\n",
              "      <td>1</td>\n",
              "      <td>1574</td>\n",
              "      <td>ey5xmb8a</td>\n",
              "      <td>Passive immunity (PI), acquired through colost...</td>\n",
              "      <td>0.973537</td>\n",
              "      <td>coronavirus origin</td>\n",
              "      <td>applypipeline:off protect^0.035425290 anim^0.0...</td>\n",
              "      <td>4</td>\n",
              "    </tr>\n",
              "    <tr>\n",
              "      <th>...</th>\n",
              "      <td>...</td>\n",
              "      <td>...</td>\n",
              "      <td>...</td>\n",
              "      <td>...</td>\n",
              "      <td>...</td>\n",
              "      <td>...</td>\n",
              "      <td>...</td>\n",
              "      <td>...</td>\n",
              "    </tr>\n",
              "    <tr>\n",
              "      <th>2411</th>\n",
              "      <td>3</td>\n",
              "      <td>5887</td>\n",
              "      <td>n4xv247l</td>\n",
              "      <td>Objective: This study was undertaken to examin...</td>\n",
              "      <td>0.331039</td>\n",
              "      <td>coronavirus immunity</td>\n",
              "      <td>applypipeline:off network^0.029360194 step^0.0...</td>\n",
              "      <td>995</td>\n",
              "    </tr>\n",
              "    <tr>\n",
              "      <th>2363</th>\n",
              "      <td>3</td>\n",
              "      <td>2797</td>\n",
              "      <td>9pmg7l7h</td>\n",
              "      <td>Background: Influenza viruses are among the ma...</td>\n",
              "      <td>0.330660</td>\n",
              "      <td>coronavirus immunity</td>\n",
              "      <td>applypipeline:off network^0.029360194 step^0.0...</td>\n",
              "      <td>996</td>\n",
              "    </tr>\n",
              "    <tr>\n",
              "      <th>2667</th>\n",
              "      <td>3</td>\n",
              "      <td>7394</td>\n",
              "      <td>n6utuwwt</td>\n",
              "      <td>The proportion of diarrheal illnesses of unkno...</td>\n",
              "      <td>0.329061</td>\n",
              "      <td>coronavirus immunity</td>\n",
              "      <td>applypipeline:off network^0.029360194 step^0.0...</td>\n",
              "      <td>997</td>\n",
              "    </tr>\n",
              "    <tr>\n",
              "      <th>2743</th>\n",
              "      <td>3</td>\n",
              "      <td>1608</td>\n",
              "      <td>vhiwrhkb</td>\n",
              "      <td>BACKGROUND: Respiratory syncytial virus (RSV) ...</td>\n",
              "      <td>0.327481</td>\n",
              "      <td>coronavirus immunity</td>\n",
              "      <td>applypipeline:off network^0.029360194 step^0.0...</td>\n",
              "      <td>998</td>\n",
              "    </tr>\n",
              "    <tr>\n",
              "      <th>2937</th>\n",
              "      <td>3</td>\n",
              "      <td>780</td>\n",
              "      <td>vtp4cwvt</td>\n",
              "      <td>Alveolar macrophages (AM) are one of the key c...</td>\n",
              "      <td>0.312389</td>\n",
              "      <td>coronavirus immunity</td>\n",
              "      <td>applypipeline:off network^0.029360194 step^0.0...</td>\n",
              "      <td>999</td>\n",
              "    </tr>\n",
              "  </tbody>\n",
              "</table>\n",
              "<p>3000 rows × 8 columns</p>\n",
              "</div>"
            ],
            "text/plain": [
              "     qid  docid  ...                                              query rank\n",
              "0      1   2257  ...  applypipeline:off protect^0.035425290 anim^0.0...    0\n",
              "3      1   1616  ...  applypipeline:off protect^0.035425290 anim^0.0...    1\n",
              "10     1   5200  ...  applypipeline:off protect^0.035425290 anim^0.0...    2\n",
              "7      1   3012  ...  applypipeline:off protect^0.035425290 anim^0.0...    3\n",
              "6      1   1574  ...  applypipeline:off protect^0.035425290 anim^0.0...    4\n",
              "...   ..    ...  ...                                                ...  ...\n",
              "2411   3   5887  ...  applypipeline:off network^0.029360194 step^0.0...  995\n",
              "2363   3   2797  ...  applypipeline:off network^0.029360194 step^0.0...  996\n",
              "2667   3   7394  ...  applypipeline:off network^0.029360194 step^0.0...  997\n",
              "2743   3   1608  ...  applypipeline:off network^0.029360194 step^0.0...  998\n",
              "2937   3    780  ...  applypipeline:off network^0.029360194 step^0.0...  999\n",
              "\n",
              "[3000 rows x 8 columns]"
            ]
          },
          "metadata": {
            "tags": []
          },
          "execution_count": 27
        }
      ]
    },
    {
      "cell_type": "code",
      "metadata": {
        "id": "7PDg5zSBeP_R",
        "outputId": "231e4917-07f8-4c35-81e1-32c7931b683c",
        "colab": {
          "base_uri": "https://localhost:8080/"
        }
      },
      "source": [
        "len(df_out_st.index.unique())"
      ],
      "execution_count": 28,
      "outputs": [
        {
          "output_type": "execute_result",
          "data": {
            "text/plain": [
              "3000"
            ]
          },
          "metadata": {
            "tags": []
          },
          "execution_count": 28
        }
      ]
    },
    {
      "cell_type": "code",
      "metadata": {
        "id": "hIO896clZVQh",
        "outputId": "9fd11c34-f02e-4571-a5c1-f2e733688898",
        "colab": {
          "base_uri": "https://localhost:8080/"
        }
      },
      "source": [
        "df_out_st.shape"
      ],
      "execution_count": 29,
      "outputs": [
        {
          "output_type": "execute_result",
          "data": {
            "text/plain": [
              "(3000, 8)"
            ]
          },
          "metadata": {
            "tags": []
          },
          "execution_count": 29
        }
      ]
    },
    {
      "cell_type": "code",
      "metadata": {
        "id": "a-avYs81OWIj",
        "outputId": "4b7ee5bc-943f-4c2a-9c3c-1feaa409fe60",
        "colab": {
          "base_uri": "https://localhost:8080/",
          "height": 424
        }
      },
      "source": [
        "pr_pipe_tr = rm3_pipe >> SimpleTransformer()\n",
        "\n",
        "df_out_str = pr_pipe_tr.transform(queries) # .loc[:0, :])\n",
        "df_out_str # .loc[(df_out_str[\"qid\"] == qid) & (df_out_str[\"docno\"] == docno), :]"
      ],
      "execution_count": 30,
      "outputs": [
        {
          "output_type": "execute_result",
          "data": {
            "text/html": [
              "<div>\n",
              "<style scoped>\n",
              "    .dataframe tbody tr th:only-of-type {\n",
              "        vertical-align: middle;\n",
              "    }\n",
              "\n",
              "    .dataframe tbody tr th {\n",
              "        vertical-align: top;\n",
              "    }\n",
              "\n",
              "    .dataframe thead th {\n",
              "        text-align: right;\n",
              "    }\n",
              "</style>\n",
              "<table border=\"1\" class=\"dataframe\">\n",
              "  <thead>\n",
              "    <tr style=\"text-align: right;\">\n",
              "      <th></th>\n",
              "      <th>qid</th>\n",
              "      <th>docid</th>\n",
              "      <th>docno</th>\n",
              "      <th>text</th>\n",
              "      <th>rank</th>\n",
              "      <th>score</th>\n",
              "      <th>query_0</th>\n",
              "      <th>query</th>\n",
              "    </tr>\n",
              "  </thead>\n",
              "  <tbody>\n",
              "    <tr>\n",
              "      <th>0</th>\n",
              "      <td>1</td>\n",
              "      <td>2257</td>\n",
              "      <td>8y24j34j</td>\n",
              "      <td>Middle East respiratory syndrome coronavirus i...</td>\n",
              "      <td>0</td>\n",
              "      <td>1.000000</td>\n",
              "      <td>coronavirus origin</td>\n",
              "      <td>applypipeline:off protect^0.035425290 anim^0.0...</td>\n",
              "    </tr>\n",
              "    <tr>\n",
              "      <th>3</th>\n",
              "      <td>1</td>\n",
              "      <td>1616</td>\n",
              "      <td>hp5x637c</td>\n",
              "      <td>BACKGROUND: In 2007, a novel bunyavirus was fo...</td>\n",
              "      <td>1</td>\n",
              "      <td>0.991208</td>\n",
              "      <td>coronavirus origin</td>\n",
              "      <td>applypipeline:off protect^0.035425290 anim^0.0...</td>\n",
              "    </tr>\n",
              "    <tr>\n",
              "      <th>10</th>\n",
              "      <td>1</td>\n",
              "      <td>5200</td>\n",
              "      <td>6io5yxgo</td>\n",
              "      <td>Many emerging infectious diseases in human pop...</td>\n",
              "      <td>2</td>\n",
              "      <td>0.981163</td>\n",
              "      <td>coronavirus origin</td>\n",
              "      <td>applypipeline:off protect^0.035425290 anim^0.0...</td>\n",
              "    </tr>\n",
              "    <tr>\n",
              "      <th>7</th>\n",
              "      <td>1</td>\n",
              "      <td>3012</td>\n",
              "      <td>6eb2jgl7</td>\n",
              "      <td>Norovirus infection, a highly prevalent condit...</td>\n",
              "      <td>3</td>\n",
              "      <td>0.978558</td>\n",
              "      <td>coronavirus origin</td>\n",
              "      <td>applypipeline:off protect^0.035425290 anim^0.0...</td>\n",
              "    </tr>\n",
              "    <tr>\n",
              "      <th>6</th>\n",
              "      <td>1</td>\n",
              "      <td>1574</td>\n",
              "      <td>ey5xmb8a</td>\n",
              "      <td>Passive immunity (PI), acquired through colost...</td>\n",
              "      <td>4</td>\n",
              "      <td>0.973537</td>\n",
              "      <td>coronavirus origin</td>\n",
              "      <td>applypipeline:off protect^0.035425290 anim^0.0...</td>\n",
              "    </tr>\n",
              "    <tr>\n",
              "      <th>...</th>\n",
              "      <td>...</td>\n",
              "      <td>...</td>\n",
              "      <td>...</td>\n",
              "      <td>...</td>\n",
              "      <td>...</td>\n",
              "      <td>...</td>\n",
              "      <td>...</td>\n",
              "      <td>...</td>\n",
              "    </tr>\n",
              "    <tr>\n",
              "      <th>2411</th>\n",
              "      <td>3</td>\n",
              "      <td>5887</td>\n",
              "      <td>n4xv247l</td>\n",
              "      <td>Objective: This study was undertaken to examin...</td>\n",
              "      <td>995</td>\n",
              "      <td>0.331039</td>\n",
              "      <td>coronavirus immunity</td>\n",
              "      <td>applypipeline:off network^0.029360194 step^0.0...</td>\n",
              "    </tr>\n",
              "    <tr>\n",
              "      <th>2363</th>\n",
              "      <td>3</td>\n",
              "      <td>2797</td>\n",
              "      <td>9pmg7l7h</td>\n",
              "      <td>Background: Influenza viruses are among the ma...</td>\n",
              "      <td>996</td>\n",
              "      <td>0.330660</td>\n",
              "      <td>coronavirus immunity</td>\n",
              "      <td>applypipeline:off network^0.029360194 step^0.0...</td>\n",
              "    </tr>\n",
              "    <tr>\n",
              "      <th>2667</th>\n",
              "      <td>3</td>\n",
              "      <td>7394</td>\n",
              "      <td>n6utuwwt</td>\n",
              "      <td>The proportion of diarrheal illnesses of unkno...</td>\n",
              "      <td>997</td>\n",
              "      <td>0.329061</td>\n",
              "      <td>coronavirus immunity</td>\n",
              "      <td>applypipeline:off network^0.029360194 step^0.0...</td>\n",
              "    </tr>\n",
              "    <tr>\n",
              "      <th>2743</th>\n",
              "      <td>3</td>\n",
              "      <td>1608</td>\n",
              "      <td>vhiwrhkb</td>\n",
              "      <td>BACKGROUND: Respiratory syncytial virus (RSV) ...</td>\n",
              "      <td>998</td>\n",
              "      <td>0.327481</td>\n",
              "      <td>coronavirus immunity</td>\n",
              "      <td>applypipeline:off network^0.029360194 step^0.0...</td>\n",
              "    </tr>\n",
              "    <tr>\n",
              "      <th>2937</th>\n",
              "      <td>3</td>\n",
              "      <td>780</td>\n",
              "      <td>vtp4cwvt</td>\n",
              "      <td>Alveolar macrophages (AM) are one of the key c...</td>\n",
              "      <td>999</td>\n",
              "      <td>0.312389</td>\n",
              "      <td>coronavirus immunity</td>\n",
              "      <td>applypipeline:off network^0.029360194 step^0.0...</td>\n",
              "    </tr>\n",
              "  </tbody>\n",
              "</table>\n",
              "<p>3000 rows × 8 columns</p>\n",
              "</div>"
            ],
            "text/plain": [
              "     qid  ...                                              query\n",
              "0      1  ...  applypipeline:off protect^0.035425290 anim^0.0...\n",
              "3      1  ...  applypipeline:off protect^0.035425290 anim^0.0...\n",
              "10     1  ...  applypipeline:off protect^0.035425290 anim^0.0...\n",
              "7      1  ...  applypipeline:off protect^0.035425290 anim^0.0...\n",
              "6      1  ...  applypipeline:off protect^0.035425290 anim^0.0...\n",
              "...   ..  ...                                                ...\n",
              "2411   3  ...  applypipeline:off network^0.029360194 step^0.0...\n",
              "2363   3  ...  applypipeline:off network^0.029360194 step^0.0...\n",
              "2667   3  ...  applypipeline:off network^0.029360194 step^0.0...\n",
              "2743   3  ...  applypipeline:off network^0.029360194 step^0.0...\n",
              "2937   3  ...  applypipeline:off network^0.029360194 step^0.0...\n",
              "\n",
              "[3000 rows x 8 columns]"
            ]
          },
          "metadata": {
            "tags": []
          },
          "execution_count": 30
        }
      ]
    },
    {
      "cell_type": "code",
      "metadata": {
        "id": "N3awT8UdZVFT",
        "outputId": "416047b9-7f0a-4d65-fdc1-cd4ded811d53",
        "colab": {
          "base_uri": "https://localhost:8080/"
        }
      },
      "source": [
        "df_out_str.shape"
      ],
      "execution_count": 31,
      "outputs": [
        {
          "output_type": "execute_result",
          "data": {
            "text/plain": [
              "(3000, 8)"
            ]
          },
          "metadata": {
            "tags": []
          },
          "execution_count": 31
        }
      ]
    },
    {
      "cell_type": "code",
      "metadata": {
        "id": "uNZqNO3ZfcXJ",
        "outputId": "f3b517f8-fa4c-4b18-917c-d19bf5d1f4b8",
        "colab": {
          "base_uri": "https://localhost:8080/"
        }
      },
      "source": [
        "list(df_out_st.columns.values)"
      ],
      "execution_count": 32,
      "outputs": [
        {
          "output_type": "execute_result",
          "data": {
            "text/plain": [
              "['qid', 'docid', 'docno', 'text', 'score', 'query_0', 'query', 'rank']"
            ]
          },
          "metadata": {
            "tags": []
          },
          "execution_count": 32
        }
      ]
    },
    {
      "cell_type": "code",
      "metadata": {
        "id": "ARv-cYy4cMi3"
      },
      "source": [
        "# df_out_st.merge(df_out_str, how = \"inner\", on=[\"qid\", \"docid\", \"docno\", \"text\"]) # list(df_out_st.columns.values))"
      ],
      "execution_count": 346,
      "outputs": []
    },
    {
      "cell_type": "code",
      "metadata": {
        "id": "CgpHzrC1R54b"
      },
      "source": [
        "assert_frame_equal(df_out_st, df_out_str.loc[:, df_out_st.columns]) # .query(\"qid=='1'\")"
      ],
      "execution_count": 33,
      "outputs": []
    },
    {
      "cell_type": "code",
      "metadata": {
        "id": "f-XF4I0NE_-V"
      },
      "source": [
        "# TODO how to run rm3_pipe only once? CHECK caching\n",
        "\n",
        "alpha = 0.5\n",
        "\n",
        "pipe = alpha * rm3_pipe + (1 - alpha) * pr_pipe"
      ],
      "execution_count": 34,
      "outputs": []
    },
    {
      "cell_type": "code",
      "metadata": {
        "id": "F4X9oANxGSiH",
        "outputId": "9555584f-ae73-461f-cb9e-7d1657471383",
        "colab": {
          "base_uri": "https://localhost:8080/",
          "height": 175
        }
      },
      "source": [
        "# NOTE Experiment is indeed/actually a function\n",
        "pt.Experiment(\n",
        "    retr_systems=[bm25, rm3_pipe, pr_pipe, pipe],\n",
        "    names=[\"BM25\", \"simplest_a_1\", \"simplest_a_0\", \"simplest_a_05\"],\n",
        "    topics=queries,\n",
        "    qrels=dataset.get_qrels(), # TODO figure out cord19 qrels\n",
        "    eval_metrics=[\"map\"]\n",
        "              )"
      ],
      "execution_count": 36,
      "outputs": [
        {
          "output_type": "execute_result",
          "data": {
            "text/html": [
              "<div>\n",
              "<style scoped>\n",
              "    .dataframe tbody tr th:only-of-type {\n",
              "        vertical-align: middle;\n",
              "    }\n",
              "\n",
              "    .dataframe tbody tr th {\n",
              "        vertical-align: top;\n",
              "    }\n",
              "\n",
              "    .dataframe thead th {\n",
              "        text-align: right;\n",
              "    }\n",
              "</style>\n",
              "<table border=\"1\" class=\"dataframe\">\n",
              "  <thead>\n",
              "    <tr style=\"text-align: right;\">\n",
              "      <th></th>\n",
              "      <th>name</th>\n",
              "      <th>map</th>\n",
              "    </tr>\n",
              "  </thead>\n",
              "  <tbody>\n",
              "    <tr>\n",
              "      <th>0</th>\n",
              "      <td>BM25</td>\n",
              "      <td>0.000389</td>\n",
              "    </tr>\n",
              "    <tr>\n",
              "      <th>1</th>\n",
              "      <td>simplest_a_1</td>\n",
              "      <td>0.000386</td>\n",
              "    </tr>\n",
              "    <tr>\n",
              "      <th>2</th>\n",
              "      <td>simplest_a_0</td>\n",
              "      <td>0.000928</td>\n",
              "    </tr>\n",
              "    <tr>\n",
              "      <th>3</th>\n",
              "      <td>simplest_a_05</td>\n",
              "      <td>0.000390</td>\n",
              "    </tr>\n",
              "  </tbody>\n",
              "</table>\n",
              "</div>"
            ],
            "text/plain": [
              "            name       map\n",
              "0           BM25  0.000389\n",
              "1   simplest_a_1  0.000386\n",
              "2   simplest_a_0  0.000928\n",
              "3  simplest_a_05  0.000390"
            ]
          },
          "metadata": {
            "tags": []
          },
          "execution_count": 36
        }
      ]
    },
    {
      "cell_type": "code",
      "metadata": {
        "id": "f8mXH5E-IEEX"
      },
      "source": [
        ""
      ],
      "execution_count": null,
      "outputs": []
    }
  ]
}