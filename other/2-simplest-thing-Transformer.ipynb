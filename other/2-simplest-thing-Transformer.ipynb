{
  "nbformat": 4,
  "nbformat_minor": 0,
  "metadata": {
    "colab": {
      "name": "Untitled2.ipynb",
      "provenance": [],
      "authorship_tag": "ABX9TyPXZ20fF4dEz2aliUMXeqSu",
      "include_colab_link": true
    },
    "kernelspec": {
      "name": "python3",
      "display_name": "Python 3"
    },
    "language_info": {
      "name": "python"
    },
    "widgets": {
      "application/vnd.jupyter.widget-state+json": {
        "42225df6607f4caf8fc9484419e07d48": {
          "model_module": "@jupyter-widgets/controls",
          "model_name": "HBoxModel",
          "state": {
            "_view_name": "HBoxView",
            "_dom_classes": [],
            "_model_name": "HBoxModel",
            "_view_module": "@jupyter-widgets/controls",
            "_model_module_version": "1.5.0",
            "_view_count": null,
            "_view_module_version": "1.5.0",
            "box_style": "",
            "layout": "IPY_MODEL_2c37005d5ab640f085841e9e5cf02e58",
            "_model_module": "@jupyter-widgets/controls",
            "children": [
              "IPY_MODEL_01816cb3320c49d7a0855b9290ed71c3",
              "IPY_MODEL_d59a5c7cb5a24e0aad710421a5be2638"
            ]
          }
        },
        "2c37005d5ab640f085841e9e5cf02e58": {
          "model_module": "@jupyter-widgets/base",
          "model_name": "LayoutModel",
          "state": {
            "_view_name": "LayoutView",
            "grid_template_rows": null,
            "right": null,
            "justify_content": null,
            "_view_module": "@jupyter-widgets/base",
            "overflow": null,
            "_model_module_version": "1.2.0",
            "_view_count": null,
            "flex_flow": null,
            "width": null,
            "min_width": null,
            "border": null,
            "align_items": null,
            "bottom": null,
            "_model_module": "@jupyter-widgets/base",
            "top": null,
            "grid_column": null,
            "overflow_y": null,
            "overflow_x": null,
            "grid_auto_flow": null,
            "grid_area": null,
            "grid_template_columns": null,
            "flex": null,
            "_model_name": "LayoutModel",
            "justify_items": null,
            "grid_row": null,
            "max_height": null,
            "align_content": null,
            "visibility": null,
            "align_self": null,
            "height": null,
            "min_height": null,
            "padding": null,
            "grid_auto_rows": null,
            "grid_gap": null,
            "max_width": null,
            "order": null,
            "_view_module_version": "1.2.0",
            "grid_template_areas": null,
            "object_position": null,
            "object_fit": null,
            "grid_auto_columns": null,
            "margin": null,
            "display": null,
            "left": null
          }
        },
        "01816cb3320c49d7a0855b9290ed71c3": {
          "model_module": "@jupyter-widgets/controls",
          "model_name": "FloatProgressModel",
          "state": {
            "_view_name": "ProgressView",
            "style": "IPY_MODEL_f797d5e9ac6c41aeb13bb5db4614c0b8",
            "_dom_classes": [],
            "description": "cord19/trec-covid documents:   0%",
            "_model_name": "FloatProgressModel",
            "bar_style": "danger",
            "max": 192509,
            "_view_module": "@jupyter-widgets/controls",
            "_model_module_version": "1.5.0",
            "value": 0,
            "_view_count": null,
            "_view_module_version": "1.5.0",
            "orientation": "horizontal",
            "min": 0,
            "description_tooltip": null,
            "_model_module": "@jupyter-widgets/controls",
            "layout": "IPY_MODEL_4858c1fc3c27495aa7a655655d3c9f80"
          }
        },
        "d59a5c7cb5a24e0aad710421a5be2638": {
          "model_module": "@jupyter-widgets/controls",
          "model_name": "HTMLModel",
          "state": {
            "_view_name": "HTMLView",
            "style": "IPY_MODEL_c3080ba2c9524992ac9d63fa86e1212f",
            "_dom_classes": [],
            "description": "",
            "_model_name": "HTMLModel",
            "placeholder": "​",
            "_view_module": "@jupyter-widgets/controls",
            "_model_module_version": "1.5.0",
            "value": " 0/192509 [00:02&lt;?, ?it/s]",
            "_view_count": null,
            "_view_module_version": "1.5.0",
            "description_tooltip": null,
            "_model_module": "@jupyter-widgets/controls",
            "layout": "IPY_MODEL_b3d0c004101a4379b28f384c6ac82853"
          }
        },
        "f797d5e9ac6c41aeb13bb5db4614c0b8": {
          "model_module": "@jupyter-widgets/controls",
          "model_name": "ProgressStyleModel",
          "state": {
            "_view_name": "StyleView",
            "_model_name": "ProgressStyleModel",
            "description_width": "initial",
            "_view_module": "@jupyter-widgets/base",
            "_model_module_version": "1.5.0",
            "_view_count": null,
            "_view_module_version": "1.2.0",
            "bar_color": null,
            "_model_module": "@jupyter-widgets/controls"
          }
        },
        "4858c1fc3c27495aa7a655655d3c9f80": {
          "model_module": "@jupyter-widgets/base",
          "model_name": "LayoutModel",
          "state": {
            "_view_name": "LayoutView",
            "grid_template_rows": null,
            "right": null,
            "justify_content": null,
            "_view_module": "@jupyter-widgets/base",
            "overflow": null,
            "_model_module_version": "1.2.0",
            "_view_count": null,
            "flex_flow": null,
            "width": null,
            "min_width": null,
            "border": null,
            "align_items": null,
            "bottom": null,
            "_model_module": "@jupyter-widgets/base",
            "top": null,
            "grid_column": null,
            "overflow_y": null,
            "overflow_x": null,
            "grid_auto_flow": null,
            "grid_area": null,
            "grid_template_columns": null,
            "flex": null,
            "_model_name": "LayoutModel",
            "justify_items": null,
            "grid_row": null,
            "max_height": null,
            "align_content": null,
            "visibility": null,
            "align_self": null,
            "height": null,
            "min_height": null,
            "padding": null,
            "grid_auto_rows": null,
            "grid_gap": null,
            "max_width": null,
            "order": null,
            "_view_module_version": "1.2.0",
            "grid_template_areas": null,
            "object_position": null,
            "object_fit": null,
            "grid_auto_columns": null,
            "margin": null,
            "display": null,
            "left": null
          }
        },
        "c3080ba2c9524992ac9d63fa86e1212f": {
          "model_module": "@jupyter-widgets/controls",
          "model_name": "DescriptionStyleModel",
          "state": {
            "_view_name": "StyleView",
            "_model_name": "DescriptionStyleModel",
            "description_width": "",
            "_view_module": "@jupyter-widgets/base",
            "_model_module_version": "1.5.0",
            "_view_count": null,
            "_view_module_version": "1.2.0",
            "_model_module": "@jupyter-widgets/controls"
          }
        },
        "b3d0c004101a4379b28f384c6ac82853": {
          "model_module": "@jupyter-widgets/base",
          "model_name": "LayoutModel",
          "state": {
            "_view_name": "LayoutView",
            "grid_template_rows": null,
            "right": null,
            "justify_content": null,
            "_view_module": "@jupyter-widgets/base",
            "overflow": null,
            "_model_module_version": "1.2.0",
            "_view_count": null,
            "flex_flow": null,
            "width": null,
            "min_width": null,
            "border": null,
            "align_items": null,
            "bottom": null,
            "_model_module": "@jupyter-widgets/base",
            "top": null,
            "grid_column": null,
            "overflow_y": null,
            "overflow_x": null,
            "grid_auto_flow": null,
            "grid_area": null,
            "grid_template_columns": null,
            "flex": null,
            "_model_name": "LayoutModel",
            "justify_items": null,
            "grid_row": null,
            "max_height": null,
            "align_content": null,
            "visibility": null,
            "align_self": null,
            "height": null,
            "min_height": null,
            "padding": null,
            "grid_auto_rows": null,
            "grid_gap": null,
            "max_width": null,
            "order": null,
            "_view_module_version": "1.2.0",
            "grid_template_areas": null,
            "object_position": null,
            "object_fit": null,
            "grid_auto_columns": null,
            "margin": null,
            "display": null,
            "left": null
          }
        },
        "f1637871e80b4f7eb344d5a6592e8d4c": {
          "model_module": "@jupyter-widgets/controls",
          "model_name": "HBoxModel",
          "state": {
            "_view_name": "HBoxView",
            "_dom_classes": [],
            "_model_name": "HBoxModel",
            "_view_module": "@jupyter-widgets/controls",
            "_model_module_version": "1.5.0",
            "_view_count": null,
            "_view_module_version": "1.5.0",
            "box_style": "",
            "layout": "IPY_MODEL_29ef099cc1124110b7a3e9906de4d713",
            "_model_module": "@jupyter-widgets/controls",
            "children": [
              "IPY_MODEL_a9c9fa118c8c4408bef7196c9ce8b0d4",
              "IPY_MODEL_58b0d190964f402db32bd731e4411564"
            ]
          }
        },
        "29ef099cc1124110b7a3e9906de4d713": {
          "model_module": "@jupyter-widgets/base",
          "model_name": "LayoutModel",
          "state": {
            "_view_name": "LayoutView",
            "grid_template_rows": null,
            "right": null,
            "justify_content": null,
            "_view_module": "@jupyter-widgets/base",
            "overflow": null,
            "_model_module_version": "1.2.0",
            "_view_count": null,
            "flex_flow": null,
            "width": null,
            "min_width": null,
            "border": null,
            "align_items": null,
            "bottom": null,
            "_model_module": "@jupyter-widgets/base",
            "top": null,
            "grid_column": null,
            "overflow_y": null,
            "overflow_x": null,
            "grid_auto_flow": null,
            "grid_area": null,
            "grid_template_columns": null,
            "flex": null,
            "_model_name": "LayoutModel",
            "justify_items": null,
            "grid_row": null,
            "max_height": null,
            "align_content": null,
            "visibility": null,
            "align_self": null,
            "height": null,
            "min_height": null,
            "padding": null,
            "grid_auto_rows": null,
            "grid_gap": null,
            "max_width": null,
            "order": null,
            "_view_module_version": "1.2.0",
            "grid_template_areas": null,
            "object_position": null,
            "object_fit": null,
            "grid_auto_columns": null,
            "margin": null,
            "display": null,
            "left": null
          }
        },
        "a9c9fa118c8c4408bef7196c9ce8b0d4": {
          "model_module": "@jupyter-widgets/controls",
          "model_name": "FloatProgressModel",
          "state": {
            "_view_name": "ProgressView",
            "style": "IPY_MODEL_9a6e842a3e434b908cd5dc152dd93156",
            "_dom_classes": [],
            "description": "cord19/trec-covid documents: 100%",
            "_model_name": "FloatProgressModel",
            "bar_style": "success",
            "max": 192509,
            "_view_module": "@jupyter-widgets/controls",
            "_model_module_version": "1.5.0",
            "value": 192509,
            "_view_count": null,
            "_view_module_version": "1.5.0",
            "orientation": "horizontal",
            "min": 0,
            "description_tooltip": null,
            "_model_module": "@jupyter-widgets/controls",
            "layout": "IPY_MODEL_2e95b350c4c9437eb8e7cf0f6d03f39e"
          }
        },
        "58b0d190964f402db32bd731e4411564": {
          "model_module": "@jupyter-widgets/controls",
          "model_name": "HTMLModel",
          "state": {
            "_view_name": "HTMLView",
            "style": "IPY_MODEL_636fd3c1a9924ac2872367ee8faecce0",
            "_dom_classes": [],
            "description": "",
            "_model_name": "HTMLModel",
            "placeholder": "​",
            "_view_module": "@jupyter-widgets/controls",
            "_model_module_version": "1.5.0",
            "value": " 192509/192509 [02:00&lt;00:00, 1600.69it/s]",
            "_view_count": null,
            "_view_module_version": "1.5.0",
            "description_tooltip": null,
            "_model_module": "@jupyter-widgets/controls",
            "layout": "IPY_MODEL_010520c3061847ceaa70976d39c2cd66"
          }
        },
        "9a6e842a3e434b908cd5dc152dd93156": {
          "model_module": "@jupyter-widgets/controls",
          "model_name": "ProgressStyleModel",
          "state": {
            "_view_name": "StyleView",
            "_model_name": "ProgressStyleModel",
            "description_width": "initial",
            "_view_module": "@jupyter-widgets/base",
            "_model_module_version": "1.5.0",
            "_view_count": null,
            "_view_module_version": "1.2.0",
            "bar_color": null,
            "_model_module": "@jupyter-widgets/controls"
          }
        },
        "2e95b350c4c9437eb8e7cf0f6d03f39e": {
          "model_module": "@jupyter-widgets/base",
          "model_name": "LayoutModel",
          "state": {
            "_view_name": "LayoutView",
            "grid_template_rows": null,
            "right": null,
            "justify_content": null,
            "_view_module": "@jupyter-widgets/base",
            "overflow": null,
            "_model_module_version": "1.2.0",
            "_view_count": null,
            "flex_flow": null,
            "width": null,
            "min_width": null,
            "border": null,
            "align_items": null,
            "bottom": null,
            "_model_module": "@jupyter-widgets/base",
            "top": null,
            "grid_column": null,
            "overflow_y": null,
            "overflow_x": null,
            "grid_auto_flow": null,
            "grid_area": null,
            "grid_template_columns": null,
            "flex": null,
            "_model_name": "LayoutModel",
            "justify_items": null,
            "grid_row": null,
            "max_height": null,
            "align_content": null,
            "visibility": null,
            "align_self": null,
            "height": null,
            "min_height": null,
            "padding": null,
            "grid_auto_rows": null,
            "grid_gap": null,
            "max_width": null,
            "order": null,
            "_view_module_version": "1.2.0",
            "grid_template_areas": null,
            "object_position": null,
            "object_fit": null,
            "grid_auto_columns": null,
            "margin": null,
            "display": null,
            "left": null
          }
        },
        "636fd3c1a9924ac2872367ee8faecce0": {
          "model_module": "@jupyter-widgets/controls",
          "model_name": "DescriptionStyleModel",
          "state": {
            "_view_name": "StyleView",
            "_model_name": "DescriptionStyleModel",
            "description_width": "",
            "_view_module": "@jupyter-widgets/base",
            "_model_module_version": "1.5.0",
            "_view_count": null,
            "_view_module_version": "1.2.0",
            "_model_module": "@jupyter-widgets/controls"
          }
        },
        "010520c3061847ceaa70976d39c2cd66": {
          "model_module": "@jupyter-widgets/base",
          "model_name": "LayoutModel",
          "state": {
            "_view_name": "LayoutView",
            "grid_template_rows": null,
            "right": null,
            "justify_content": null,
            "_view_module": "@jupyter-widgets/base",
            "overflow": null,
            "_model_module_version": "1.2.0",
            "_view_count": null,
            "flex_flow": null,
            "width": null,
            "min_width": null,
            "border": null,
            "align_items": null,
            "bottom": null,
            "_model_module": "@jupyter-widgets/base",
            "top": null,
            "grid_column": null,
            "overflow_y": null,
            "overflow_x": null,
            "grid_auto_flow": null,
            "grid_area": null,
            "grid_template_columns": null,
            "flex": null,
            "_model_name": "LayoutModel",
            "justify_items": null,
            "grid_row": null,
            "max_height": null,
            "align_content": null,
            "visibility": null,
            "align_self": null,
            "height": null,
            "min_height": null,
            "padding": null,
            "grid_auto_rows": null,
            "grid_gap": null,
            "max_width": null,
            "order": null,
            "_view_module_version": "1.2.0",
            "grid_template_areas": null,
            "object_position": null,
            "object_fit": null,
            "grid_auto_columns": null,
            "margin": null,
            "display": null,
            "left": null
          }
        }
      }
    }
  },
  "cells": [
    {
      "cell_type": "markdown",
      "metadata": {
        "id": "view-in-github",
        "colab_type": "text"
      },
      "source": [
        "<a href=\"https://colab.research.google.com/github/DayalStrub/ecir2021tutorial/blob/main/other/2-simplest-thing-Transformer.ipynb\" target=\"_parent\"><img src=\"https://colab.research.google.com/assets/colab-badge.svg\" alt=\"Open In Colab\"/></a>"
      ]
    },
    {
      "cell_type": "markdown",
      "metadata": {
        "id": "CdezACSaBA5O"
      },
      "source": [
        "## TODO\n",
        "\n",
        "* figure out whether can pass D or R df to BM25, etc to choose subset of docs from index\n",
        "* understand whether could easily/efficiently get tfidf from index rather than recompute w sk-learn\n",
        "* understand caching/compiling to not run RM3_pipe twice in simplest thing\n",
        "* try use Anserini back end?"
      ]
    },
    {
      "cell_type": "markdown",
      "metadata": {
        "id": "Nqm8RDJ6NQoC"
      },
      "source": [
        "## Set up"
      ]
    },
    {
      "cell_type": "code",
      "metadata": {
        "id": "7nvdm3UgR7WX"
      },
      "source": [
        "!pip install -q jupyter-autotime"
      ],
      "execution_count": 1,
      "outputs": []
    },
    {
      "cell_type": "code",
      "metadata": {
        "colab": {
          "base_uri": "https://localhost:8080/"
        },
        "id": "_AKKN1edGB07",
        "outputId": "21e2150b-b4c1-4b3d-94dc-57a28fb9b3bc"
      },
      "source": [
        "# !pip install -q python-terrier\n",
        "!pip install -q git+https://github.com/terrier-org/pyterrier.git"
      ],
      "execution_count": 2,
      "outputs": [
        {
          "output_type": "stream",
          "text": [
            "  Building wheel for python-terrier (setup.py) ... \u001b[?25l\u001b[?25hdone\n"
          ],
          "name": "stdout"
        }
      ]
    },
    {
      "cell_type": "code",
      "metadata": {
        "id": "oMCOAzqFO3L5"
      },
      "source": [
        "import pandas as pd\n",
        "from pandas.testing import assert_frame_equal\n",
        "\n",
        "from sklearn.feature_extraction.text import TfidfVectorizer\n",
        "from sklearn.compose import ColumnTransformer\n",
        "from sklearn.pipeline import Pipeline\n",
        "from sklearn.linear_model import LogisticRegression\n",
        "from sklearn.preprocessing import normalize"
      ],
      "execution_count": 3,
      "outputs": []
    },
    {
      "cell_type": "code",
      "metadata": {
        "colab": {
          "base_uri": "https://localhost:8080/"
        },
        "id": "5PwYpg1xF7Mf",
        "outputId": "dc605f5c-15e8-4e9d-d24a-a9f8796dbec9"
      },
      "source": [
        "import pyterrier as pt\n",
        "pt.init(boot_packages=[\"com.github.terrierteam:terrier-prf:-SNAPSHOT\"])"
      ],
      "execution_count": 4,
      "outputs": [
        {
          "output_type": "stream",
          "text": [
            "/usr/local/lib/python3.7/dist-packages/tqdm/std.py:658: FutureWarning: The Panel class is removed from pandas. Accessing it from the top-level namespace will also be removed in the next version\n",
            "  from pandas import Panel\n"
          ],
          "name": "stderr"
        },
        {
          "output_type": "stream",
          "text": [
            "PyTerrier 0.5.0 has loaded Terrier 5.4 (built by craigm on 2021-01-16 14:17)\n"
          ],
          "name": "stdout"
        }
      ]
    },
    {
      "cell_type": "code",
      "metadata": {
        "id": "Ru2qdr4rRwVg",
        "outputId": "330cb9d0-4756-45e9-9f6d-2aac3eb12bff",
        "colab": {
          "base_uri": "https://localhost:8080/",
          "height": 34
        }
      },
      "source": [
        "%load_ext autotime"
      ],
      "execution_count": 5,
      "outputs": [
        {
          "output_type": "display_data",
          "data": {
            "text/html": [
              "<pre>✔️ 619 µs (2021-05-03T17:30:54/2021-05-03T17:30:54)</pre>"
            ],
            "text/plain": [
              "<IPython.core.display.HTML object>"
            ]
          },
          "metadata": {
            "tags": []
          }
        }
      ]
    },
    {
      "cell_type": "markdown",
      "metadata": {
        "id": "vQdAw5QlNbGN"
      },
      "source": [
        "## Data & index"
      ]
    },
    {
      "cell_type": "code",
      "metadata": {
        "id": "Cwgw-Eh_Qo1_",
        "outputId": "e061a0a5-0fe6-42cb-e60e-e5f692fe0e56",
        "colab": {
          "base_uri": "https://localhost:8080/",
          "height": 34
        }
      },
      "source": [
        "dataset = pt.datasets.get_dataset('irds:cord19/trec-covid')"
      ],
      "execution_count": 6,
      "outputs": [
        {
          "output_type": "display_data",
          "data": {
            "text/html": [
              "<pre>✔️ 835 µs (2021-05-03T17:30:54/2021-05-03T17:30:54)</pre>"
            ],
            "text/plain": [
              "<IPython.core.display.HTML object>"
            ]
          },
          "metadata": {
            "tags": []
          }
        }
      ]
    },
    {
      "cell_type": "code",
      "metadata": {
        "id": "ScBsia3OQoRW",
        "colab": {
          "base_uri": "https://localhost:8080/",
          "height": 208,
          "referenced_widgets": [
            "42225df6607f4caf8fc9484419e07d48",
            "2c37005d5ab640f085841e9e5cf02e58",
            "01816cb3320c49d7a0855b9290ed71c3",
            "d59a5c7cb5a24e0aad710421a5be2638",
            "f797d5e9ac6c41aeb13bb5db4614c0b8",
            "4858c1fc3c27495aa7a655655d3c9f80",
            "c3080ba2c9524992ac9d63fa86e1212f",
            "b3d0c004101a4379b28f384c6ac82853"
          ]
        },
        "outputId": "1c0c9677-32a8-4627-e6f8-1b6a7ab7bce8"
      },
      "source": [
        "next(iter(dataset.get_corpus_iter()))"
      ],
      "execution_count": 7,
      "outputs": [
        {
          "output_type": "display_data",
          "data": {
            "text/html": [
              "<pre>✔️ 71 ms (2021-05-03T17:30:54/2021-05-03T17:30:54)</pre>"
            ],
            "text/plain": [
              "<IPython.core.display.HTML object>"
            ]
          },
          "metadata": {
            "tags": []
          }
        },
        {
          "output_type": "display_data",
          "data": {
            "application/vnd.jupyter.widget-view+json": {
              "model_id": "42225df6607f4caf8fc9484419e07d48",
              "version_minor": 0,
              "version_major": 2
            },
            "text/plain": [
              "HBox(children=(FloatProgress(value=0.0, description='cord19/trec-covid documents', max=192509.0, style=Progres…"
            ]
          },
          "metadata": {
            "tags": []
          }
        },
        {
          "output_type": "execute_result",
          "data": {
            "text/plain": [
              "OrderedDict([('title',\n",
              "              'Clinical features of culture-proven Mycoplasma pneumoniae infections at King Abdulaziz University Hospital, Jeddah, Saudi Arabia'),\n",
              "             ('doi', '10.1186/1471-2334-1-6'),\n",
              "             ('date', '2001-07-04'),\n",
              "             ('abstract',\n",
              "              'OBJECTIVE: This retrospective chart review describes the epidemiology and clinical features of 40 patients with culture-proven Mycoplasma pneumoniae infections at King Abdulaziz University Hospital, Jeddah, Saudi Arabia. METHODS: Patients with positive M. pneumoniae cultures from respiratory specimens from January 1997 through December 1998 were identified through the Microbiology records. Charts of patients were reviewed. RESULTS: 40 patients were identified, 33 (82.5%) of whom required admission. Most infections (92.5%) were community-acquired. The infection affected all age groups but was most common in infants (32.5%) and pre-school children (22.5%). It occurred year-round but was most common in the fall (35%) and spring (30%). More than three-quarters of patients (77.5%) had comorbidities. Twenty-four isolates (60%) were associated with pneumonia, 14 (35%) with upper respiratory tract infections, and 2 (5%) with bronchiolitis. Cough (82.5%), fever (75%), and malaise (58.8%) were the most common symptoms, and crepitations (60%), and wheezes (40%) were the most common signs. Most patients with pneumonia had crepitations (79.2%) but only 25% had bronchial breathing. Immunocompromised patients were more likely than non-immunocompromised patients to present with pneumonia (8/9 versus 16/31, P = 0.05). Of the 24 patients with pneumonia, 14 (58.3%) had uneventful recovery, 4 (16.7%) recovered following some complications, 3 (12.5%) died because of M pneumoniae infection, and 3 (12.5%) died due to underlying comorbidities. The 3 patients who died of M pneumoniae pneumonia had other comorbidities. CONCLUSION: our results were similar to published data except for the finding that infections were more common in infants and preschool children and that the mortality rate of pneumonia in patients with comorbidities was high.'),\n",
              "             ('docno', 'ug7v899j')])"
            ]
          },
          "metadata": {
            "tags": []
          },
          "execution_count": 7
        }
      ]
    },
    {
      "cell_type": "code",
      "metadata": {
        "id": "Om3klADKQoFG",
        "colab": {
          "base_uri": "https://localhost:8080/",
          "height": 136,
          "referenced_widgets": [
            "f1637871e80b4f7eb344d5a6592e8d4c",
            "29ef099cc1124110b7a3e9906de4d713",
            "a9c9fa118c8c4408bef7196c9ce8b0d4",
            "58b0d190964f402db32bd731e4411564",
            "9a6e842a3e434b908cd5dc152dd93156",
            "2e95b350c4c9437eb8e7cf0f6d03f39e",
            "636fd3c1a9924ac2872367ee8faecce0",
            "010520c3061847ceaa70976d39c2cd66"
          ]
        },
        "outputId": "528fc638-eb46-484f-f24b-94d76793eba4"
      },
      "source": [
        "N = 192509 # 10_000\n",
        "\n",
        "pt_index_path = './index_cord19'\n",
        "\n",
        "# create the index, using the IterDictIndexer indexer \n",
        "indexer = pt.index.IterDictIndexer(pt_index_path, overwrite=True) # , blocks=True\n",
        "\n",
        "# we give the dataset get_corpus_iter() directly to the indexer\n",
        "# while specifying the fields to index and the metadata to record\n",
        "index_ref = indexer.index(\n",
        "    (datum for i, datum in enumerate(dataset.get_corpus_iter()) if i < N),\n",
        "    fields=('abstract',), # TODO should this be a list?\n",
        "    # meta={'docno' : 26, 'text' : 2048, 'abstract' : 2048}\n",
        "    meta=['docno','abstract'],\n",
        "    )\n",
        "\n",
        "index = pt.IndexFactory.of(index_ref)"
      ],
      "execution_count": 8,
      "outputs": [
        {
          "output_type": "display_data",
          "data": {
            "text/html": [
              "<pre>✔️ 1 min 50 s (2021-05-03T17:30:54/2021-05-03T17:32:45)</pre>"
            ],
            "text/plain": [
              "<IPython.core.display.HTML object>"
            ]
          },
          "metadata": {
            "tags": []
          }
        },
        {
          "output_type": "display_data",
          "data": {
            "application/vnd.jupyter.widget-view+json": {
              "model_id": "f1637871e80b4f7eb344d5a6592e8d4c",
              "version_minor": 0,
              "version_major": 2
            },
            "text/plain": [
              "HBox(children=(FloatProgress(value=0.0, description='cord19/trec-covid documents', max=192509.0, style=Progres…"
            ]
          },
          "metadata": {
            "tags": []
          }
        },
        {
          "output_type": "stream",
          "text": [
            "17:30:56.221 [ForkJoinPool-1-worker-3] WARN  o.t.structures.indexing.Indexer - Adding an empty document to the index (6iu1dtyl) - further warnings are suppressed\n",
            "\n",
            "\n",
            "17:32:35.729 [ForkJoinPool-1-worker-3] WARN  o.t.structures.indexing.Indexer - Indexed 54937 empty documents\n"
          ],
          "name": "stdout"
        }
      ]
    },
    {
      "cell_type": "code",
      "metadata": {
        "id": "ZV436ACnol_f",
        "colab": {
          "base_uri": "https://localhost:8080/",
          "height": 173
        },
        "outputId": "56e7b071-f8a4-4ecb-a7da-d6b7bc03edc3"
      },
      "source": [
        "print(index.getCollectionStatistics().toString())"
      ],
      "execution_count": 9,
      "outputs": [
        {
          "output_type": "display_data",
          "data": {
            "text/html": [
              "<pre>✔️ 28.1 ms (2021-05-03T17:32:45/2021-05-03T17:32:45)</pre>"
            ],
            "text/plain": [
              "<IPython.core.display.HTML object>"
            ]
          },
          "metadata": {
            "tags": []
          }
        },
        {
          "output_type": "stream",
          "text": [
            "Number of documents: 192509\n",
            "Number of terms: 151235\n",
            "Number of postings: 11554033\n",
            "Number of fields: 1\n",
            "Number of tokens: 17728468\n",
            "Field names: [abstract]\n",
            "Positions:   false\n",
            "\n"
          ],
          "name": "stdout"
        }
      ]
    },
    {
      "cell_type": "code",
      "metadata": {
        "colab": {
          "base_uri": "https://localhost:8080/",
          "height": 161
        },
        "id": "MyYsasfaGYFt",
        "outputId": "f297f2ce-f885-45b9-ac85-9f518f8152b6"
      },
      "source": [
        "queries = dataset.get_topics(variant='title').head(3)\n",
        "queries"
      ],
      "execution_count": 10,
      "outputs": [
        {
          "output_type": "display_data",
          "data": {
            "text/html": [
              "<pre>✔️ 31 ms (2021-05-03T17:32:45/2021-05-03T17:32:45)</pre>"
            ],
            "text/plain": [
              "<IPython.core.display.HTML object>"
            ]
          },
          "metadata": {
            "tags": []
          }
        },
        {
          "output_type": "execute_result",
          "data": {
            "text/html": [
              "<div>\n",
              "<style scoped>\n",
              "    .dataframe tbody tr th:only-of-type {\n",
              "        vertical-align: middle;\n",
              "    }\n",
              "\n",
              "    .dataframe tbody tr th {\n",
              "        vertical-align: top;\n",
              "    }\n",
              "\n",
              "    .dataframe thead th {\n",
              "        text-align: right;\n",
              "    }\n",
              "</style>\n",
              "<table border=\"1\" class=\"dataframe\">\n",
              "  <thead>\n",
              "    <tr style=\"text-align: right;\">\n",
              "      <th></th>\n",
              "      <th>qid</th>\n",
              "      <th>query</th>\n",
              "    </tr>\n",
              "  </thead>\n",
              "  <tbody>\n",
              "    <tr>\n",
              "      <th>0</th>\n",
              "      <td>1</td>\n",
              "      <td>coronavirus origin</td>\n",
              "    </tr>\n",
              "    <tr>\n",
              "      <th>1</th>\n",
              "      <td>2</td>\n",
              "      <td>coronavirus response to weather changes</td>\n",
              "    </tr>\n",
              "    <tr>\n",
              "      <th>2</th>\n",
              "      <td>3</td>\n",
              "      <td>coronavirus immunity</td>\n",
              "    </tr>\n",
              "  </tbody>\n",
              "</table>\n",
              "</div>"
            ],
            "text/plain": [
              "  qid                                    query\n",
              "0   1                       coronavirus origin\n",
              "1   2  coronavirus response to weather changes\n",
              "2   3                     coronavirus immunity"
            ]
          },
          "metadata": {
            "tags": []
          },
          "execution_count": 10
        }
      ]
    },
    {
      "cell_type": "markdown",
      "metadata": {
        "id": "EZzMDMD4NrHb"
      },
      "source": [
        "## Retrieval"
      ]
    },
    {
      "cell_type": "markdown",
      "metadata": {
        "id": "imubz8V2N3va"
      },
      "source": [
        "### BM25"
      ]
    },
    {
      "cell_type": "code",
      "metadata": {
        "id": "G2NPTN04NjLp",
        "outputId": "4e793256-e3a2-41c8-f602-2ece3002ccc7",
        "colab": {
          "base_uri": "https://localhost:8080/",
          "height": 441
        }
      },
      "source": [
        "# NOTE num_results not working, but hackable, see\n",
        "# https://github.com/terrier-org/pyterrier/issues/140\n",
        "\n",
        "M = 1002\n",
        "\n",
        "bm25 = pt.BatchRetrieve(index, wmodel=\"BM25\", num_results=M)\n",
        "\n",
        "bm25.transform(queries)"
      ],
      "execution_count": 11,
      "outputs": [
        {
          "output_type": "display_data",
          "data": {
            "text/html": [
              "<pre>✔️ 1.73 s (2021-05-03T17:32:45/2021-05-03T17:32:47)</pre>"
            ],
            "text/plain": [
              "<IPython.core.display.HTML object>"
            ]
          },
          "metadata": {
            "tags": []
          }
        },
        {
          "output_type": "execute_result",
          "data": {
            "text/html": [
              "<div>\n",
              "<style scoped>\n",
              "    .dataframe tbody tr th:only-of-type {\n",
              "        vertical-align: middle;\n",
              "    }\n",
              "\n",
              "    .dataframe tbody tr th {\n",
              "        vertical-align: top;\n",
              "    }\n",
              "\n",
              "    .dataframe thead th {\n",
              "        text-align: right;\n",
              "    }\n",
              "</style>\n",
              "<table border=\"1\" class=\"dataframe\">\n",
              "  <thead>\n",
              "    <tr style=\"text-align: right;\">\n",
              "      <th></th>\n",
              "      <th>qid</th>\n",
              "      <th>docid</th>\n",
              "      <th>docno</th>\n",
              "      <th>rank</th>\n",
              "      <th>score</th>\n",
              "      <th>query</th>\n",
              "    </tr>\n",
              "  </thead>\n",
              "  <tbody>\n",
              "    <tr>\n",
              "      <th>0</th>\n",
              "      <td>1</td>\n",
              "      <td>175892</td>\n",
              "      <td>zy8qjaai</td>\n",
              "      <td>0</td>\n",
              "      <td>11.915479</td>\n",
              "      <td>coronavirus origin</td>\n",
              "    </tr>\n",
              "    <tr>\n",
              "      <th>1</th>\n",
              "      <td>1</td>\n",
              "      <td>82224</td>\n",
              "      <td>8ccl9aui</td>\n",
              "      <td>1</td>\n",
              "      <td>11.550953</td>\n",
              "      <td>coronavirus origin</td>\n",
              "    </tr>\n",
              "    <tr>\n",
              "      <th>2</th>\n",
              "      <td>1</td>\n",
              "      <td>135326</td>\n",
              "      <td>ne5r4d4b</td>\n",
              "      <td>2</td>\n",
              "      <td>11.268729</td>\n",
              "      <td>coronavirus origin</td>\n",
              "    </tr>\n",
              "    <tr>\n",
              "      <th>3</th>\n",
              "      <td>1</td>\n",
              "      <td>122806</td>\n",
              "      <td>4fb291hq</td>\n",
              "      <td>3</td>\n",
              "      <td>11.165944</td>\n",
              "      <td>coronavirus origin</td>\n",
              "    </tr>\n",
              "    <tr>\n",
              "      <th>4</th>\n",
              "      <td>1</td>\n",
              "      <td>122805</td>\n",
              "      <td>kn2z7lho</td>\n",
              "      <td>4</td>\n",
              "      <td>11.165944</td>\n",
              "      <td>coronavirus origin</td>\n",
              "    </tr>\n",
              "    <tr>\n",
              "      <th>...</th>\n",
              "      <td>...</td>\n",
              "      <td>...</td>\n",
              "      <td>...</td>\n",
              "      <td>...</td>\n",
              "      <td>...</td>\n",
              "      <td>...</td>\n",
              "    </tr>\n",
              "    <tr>\n",
              "      <th>2995</th>\n",
              "      <td>3</td>\n",
              "      <td>78633</td>\n",
              "      <td>8hrjgcas</td>\n",
              "      <td>995</td>\n",
              "      <td>7.195963</td>\n",
              "      <td>coronavirus immunity</td>\n",
              "    </tr>\n",
              "    <tr>\n",
              "      <th>2996</th>\n",
              "      <td>3</td>\n",
              "      <td>161122</td>\n",
              "      <td>bn9ny0k6</td>\n",
              "      <td>996</td>\n",
              "      <td>7.195963</td>\n",
              "      <td>coronavirus immunity</td>\n",
              "    </tr>\n",
              "    <tr>\n",
              "      <th>2997</th>\n",
              "      <td>3</td>\n",
              "      <td>91233</td>\n",
              "      <td>am67dg8a</td>\n",
              "      <td>997</td>\n",
              "      <td>7.195963</td>\n",
              "      <td>coronavirus immunity</td>\n",
              "    </tr>\n",
              "    <tr>\n",
              "      <th>2998</th>\n",
              "      <td>3</td>\n",
              "      <td>74904</td>\n",
              "      <td>intwv8g4</td>\n",
              "      <td>998</td>\n",
              "      <td>7.194310</td>\n",
              "      <td>coronavirus immunity</td>\n",
              "    </tr>\n",
              "    <tr>\n",
              "      <th>2999</th>\n",
              "      <td>3</td>\n",
              "      <td>80473</td>\n",
              "      <td>6se4faio</td>\n",
              "      <td>999</td>\n",
              "      <td>7.194217</td>\n",
              "      <td>coronavirus immunity</td>\n",
              "    </tr>\n",
              "  </tbody>\n",
              "</table>\n",
              "<p>3000 rows × 6 columns</p>\n",
              "</div>"
            ],
            "text/plain": [
              "     qid   docid     docno  rank      score                 query\n",
              "0      1  175892  zy8qjaai     0  11.915479    coronavirus origin\n",
              "1      1   82224  8ccl9aui     1  11.550953    coronavirus origin\n",
              "2      1  135326  ne5r4d4b     2  11.268729    coronavirus origin\n",
              "3      1  122806  4fb291hq     3  11.165944    coronavirus origin\n",
              "4      1  122805  kn2z7lho     4  11.165944    coronavirus origin\n",
              "...   ..     ...       ...   ...        ...                   ...\n",
              "2995   3   78633  8hrjgcas   995   7.195963  coronavirus immunity\n",
              "2996   3  161122  bn9ny0k6   996   7.195963  coronavirus immunity\n",
              "2997   3   91233  am67dg8a   997   7.195963  coronavirus immunity\n",
              "2998   3   74904  intwv8g4   998   7.194310  coronavirus immunity\n",
              "2999   3   80473  6se4faio   999   7.194217  coronavirus immunity\n",
              "\n",
              "[3000 rows x 6 columns]"
            ]
          },
          "metadata": {
            "tags": []
          },
          "execution_count": 11
        }
      ]
    },
    {
      "cell_type": "code",
      "metadata": {
        "id": "ceb9DdnIPGU1",
        "outputId": "a5029987-793d-4b1d-af33-2efc53f24b9c",
        "colab": {
          "base_uri": "https://localhost:8080/",
          "height": 34
        }
      },
      "source": [
        "# TODO can I pass D to bm25 to subset index and choose docs to rank?"
      ],
      "execution_count": 12,
      "outputs": [
        {
          "output_type": "display_data",
          "data": {
            "text/html": [
              "<pre>✔️ 600 µs (2021-05-03T17:32:47/2021-05-03T17:32:47)</pre>"
            ],
            "text/plain": [
              "<IPython.core.display.HTML object>"
            ]
          },
          "metadata": {
            "tags": []
          }
        }
      ]
    },
    {
      "cell_type": "markdown",
      "metadata": {
        "id": "byHX3HThOuMN"
      },
      "source": [
        "### RM3"
      ]
    },
    {
      "cell_type": "code",
      "metadata": {
        "id": "UVpaOHP6GC30",
        "outputId": "dbcd3d27-60a6-40ed-a35b-601afb75839c",
        "colab": {
          "base_uri": "https://localhost:8080/",
          "height": 161
        }
      },
      "source": [
        "rm3 = pt.rewrite.RM3(index)\n",
        "\n",
        "(bm25 >> rm3).transform(queries)"
      ],
      "execution_count": 13,
      "outputs": [
        {
          "output_type": "display_data",
          "data": {
            "text/html": [
              "<pre>✔️ 696 ms (2021-05-03T17:32:47/2021-05-03T17:32:48)</pre>"
            ],
            "text/plain": [
              "<IPython.core.display.HTML object>"
            ]
          },
          "metadata": {
            "tags": []
          }
        },
        {
          "output_type": "execute_result",
          "data": {
            "text/html": [
              "<div>\n",
              "<style scoped>\n",
              "    .dataframe tbody tr th:only-of-type {\n",
              "        vertical-align: middle;\n",
              "    }\n",
              "\n",
              "    .dataframe tbody tr th {\n",
              "        vertical-align: top;\n",
              "    }\n",
              "\n",
              "    .dataframe thead th {\n",
              "        text-align: right;\n",
              "    }\n",
              "</style>\n",
              "<table border=\"1\" class=\"dataframe\">\n",
              "  <thead>\n",
              "    <tr style=\"text-align: right;\">\n",
              "      <th></th>\n",
              "      <th>qid</th>\n",
              "      <th>query_0</th>\n",
              "      <th>query</th>\n",
              "    </tr>\n",
              "  </thead>\n",
              "  <tbody>\n",
              "    <tr>\n",
              "      <th>0</th>\n",
              "      <td>1</td>\n",
              "      <td>coronavirus origin</td>\n",
              "      <td>applypipeline:off coronavirus^0.035478260 anim...</td>\n",
              "    </tr>\n",
              "    <tr>\n",
              "      <th>1</th>\n",
              "      <td>2</td>\n",
              "      <td>coronavirus response to weather changes</td>\n",
              "      <td>applypipeline:off respons^0.150000006 action^0...</td>\n",
              "    </tr>\n",
              "    <tr>\n",
              "      <th>2</th>\n",
              "      <td>3</td>\n",
              "      <td>coronavirus immunity</td>\n",
              "      <td>applypipeline:off coronavirus^0.022062551 prot...</td>\n",
              "    </tr>\n",
              "  </tbody>\n",
              "</table>\n",
              "</div>"
            ],
            "text/plain": [
              "  qid  ...                                              query\n",
              "0   1  ...  applypipeline:off coronavirus^0.035478260 anim...\n",
              "1   2  ...  applypipeline:off respons^0.150000006 action^0...\n",
              "2   3  ...  applypipeline:off coronavirus^0.022062551 prot...\n",
              "\n",
              "[3 rows x 3 columns]"
            ]
          },
          "metadata": {
            "tags": []
          },
          "execution_count": 13
        }
      ]
    },
    {
      "cell_type": "code",
      "metadata": {
        "id": "RgAtv1oHOVzp",
        "outputId": "95441569-4428-4a0e-85b1-3bd03dea2220",
        "colab": {
          "base_uri": "https://localhost:8080/",
          "height": 34
        }
      },
      "source": [
        "bm25_text = pt.BatchRetrieve(index, wmodel=\"BM25\", metadata=[\"docno\", \"abstract\"], num_results=M)\n",
        "\n",
        "rm3_pipe = bm25 >> rm3 >> bm25_text >> pt.apply.rename({'abstract':'text'})"
      ],
      "execution_count": 14,
      "outputs": [
        {
          "output_type": "display_data",
          "data": {
            "text/html": [
              "<pre>✔️ 9.06 ms (2021-05-03T17:32:48/2021-05-03T17:32:48)</pre>"
            ],
            "text/plain": [
              "<IPython.core.display.HTML object>"
            ]
          },
          "metadata": {
            "tags": []
          }
        }
      ]
    },
    {
      "cell_type": "code",
      "metadata": {
        "id": "l3lk-NnPoxen",
        "colab": {
          "base_uri": "https://localhost:8080/",
          "height": 441
        },
        "outputId": "0d56664b-fea6-4257-c27f-87270b99d8cf"
      },
      "source": [
        "df_out = rm3_pipe.transform(queries)\n",
        "df_out # .loc[df_out[\"qid\"] == \"1\", :]"
      ],
      "execution_count": 15,
      "outputs": [
        {
          "output_type": "display_data",
          "data": {
            "text/html": [
              "<pre>✔️ 1.13 s (2021-05-03T17:32:48/2021-05-03T17:32:49)</pre>"
            ],
            "text/plain": [
              "<IPython.core.display.HTML object>"
            ]
          },
          "metadata": {
            "tags": []
          }
        },
        {
          "output_type": "execute_result",
          "data": {
            "text/html": [
              "<div>\n",
              "<style scoped>\n",
              "    .dataframe tbody tr th:only-of-type {\n",
              "        vertical-align: middle;\n",
              "    }\n",
              "\n",
              "    .dataframe tbody tr th {\n",
              "        vertical-align: top;\n",
              "    }\n",
              "\n",
              "    .dataframe thead th {\n",
              "        text-align: right;\n",
              "    }\n",
              "</style>\n",
              "<table border=\"1\" class=\"dataframe\">\n",
              "  <thead>\n",
              "    <tr style=\"text-align: right;\">\n",
              "      <th></th>\n",
              "      <th>qid</th>\n",
              "      <th>docid</th>\n",
              "      <th>docno</th>\n",
              "      <th>text</th>\n",
              "      <th>rank</th>\n",
              "      <th>score</th>\n",
              "      <th>query_0</th>\n",
              "      <th>query</th>\n",
              "    </tr>\n",
              "  </thead>\n",
              "  <tbody>\n",
              "    <tr>\n",
              "      <th>0</th>\n",
              "      <td>1</td>\n",
              "      <td>135326</td>\n",
              "      <td>ne5r4d4b</td>\n",
              "      <td>Severe acute respiratory syndrome coronavirus ...</td>\n",
              "      <td>0</td>\n",
              "      <td>15.997875</td>\n",
              "      <td>coronavirus origin</td>\n",
              "      <td>applypipeline:off coronavirus^0.035478260 anim...</td>\n",
              "    </tr>\n",
              "    <tr>\n",
              "      <th>1</th>\n",
              "      <td>1</td>\n",
              "      <td>175892</td>\n",
              "      <td>zy8qjaai</td>\n",
              "      <td>In humans, infection with the coronavirus, esp...</td>\n",
              "      <td>1</td>\n",
              "      <td>14.555033</td>\n",
              "      <td>coronavirus origin</td>\n",
              "      <td>applypipeline:off coronavirus^0.035478260 anim...</td>\n",
              "    </tr>\n",
              "    <tr>\n",
              "      <th>2</th>\n",
              "      <td>1</td>\n",
              "      <td>174028</td>\n",
              "      <td>lfo6otkc</td>\n",
              "      <td>During the past two decades, three zoonotic co...</td>\n",
              "      <td>2</td>\n",
              "      <td>13.581315</td>\n",
              "      <td>coronavirus origin</td>\n",
              "      <td>applypipeline:off coronavirus^0.035478260 anim...</td>\n",
              "    </tr>\n",
              "    <tr>\n",
              "      <th>3</th>\n",
              "      <td>1</td>\n",
              "      <td>166596</td>\n",
              "      <td>d2knbzhl</td>\n",
              "      <td>Bats have been recognized as the natural reser...</td>\n",
              "      <td>3</td>\n",
              "      <td>13.408224</td>\n",
              "      <td>coronavirus origin</td>\n",
              "      <td>applypipeline:off coronavirus^0.035478260 anim...</td>\n",
              "    </tr>\n",
              "    <tr>\n",
              "      <th>4</th>\n",
              "      <td>1</td>\n",
              "      <td>89280</td>\n",
              "      <td>j318qn5p</td>\n",
              "      <td>The new decade of the 21st century (2020) star...</td>\n",
              "      <td>4</td>\n",
              "      <td>13.139674</td>\n",
              "      <td>coronavirus origin</td>\n",
              "      <td>applypipeline:off coronavirus^0.035478260 anim...</td>\n",
              "    </tr>\n",
              "    <tr>\n",
              "      <th>...</th>\n",
              "      <td>...</td>\n",
              "      <td>...</td>\n",
              "      <td>...</td>\n",
              "      <td>...</td>\n",
              "      <td>...</td>\n",
              "      <td>...</td>\n",
              "      <td>...</td>\n",
              "      <td>...</td>\n",
              "    </tr>\n",
              "    <tr>\n",
              "      <th>2995</th>\n",
              "      <td>3</td>\n",
              "      <td>93774</td>\n",
              "      <td>6x1704l3</td>\n",
              "      <td>There is an urgent need to better understand t...</td>\n",
              "      <td>995</td>\n",
              "      <td>7.617904</td>\n",
              "      <td>coronavirus immunity</td>\n",
              "      <td>applypipeline:off coronavirus^0.022062551 prot...</td>\n",
              "    </tr>\n",
              "    <tr>\n",
              "      <th>2996</th>\n",
              "      <td>3</td>\n",
              "      <td>32145</td>\n",
              "      <td>xeyggg1b</td>\n",
              "      <td>There is an urgent need to better understand t...</td>\n",
              "      <td>996</td>\n",
              "      <td>7.617904</td>\n",
              "      <td>coronavirus immunity</td>\n",
              "      <td>applypipeline:off coronavirus^0.022062551 prot...</td>\n",
              "    </tr>\n",
              "    <tr>\n",
              "      <th>2997</th>\n",
              "      <td>3</td>\n",
              "      <td>183966</td>\n",
              "      <td>gts8jtae</td>\n",
              "      <td>Coronavirus disease 2019 (COVID19) is a respir...</td>\n",
              "      <td>997</td>\n",
              "      <td>7.616834</td>\n",
              "      <td>coronavirus immunity</td>\n",
              "      <td>applypipeline:off coronavirus^0.022062551 prot...</td>\n",
              "    </tr>\n",
              "    <tr>\n",
              "      <th>2998</th>\n",
              "      <td>3</td>\n",
              "      <td>6428</td>\n",
              "      <td>lbe594up</td>\n",
              "      <td>Viral and microbial constituents contain speci...</td>\n",
              "      <td>998</td>\n",
              "      <td>7.615554</td>\n",
              "      <td>coronavirus immunity</td>\n",
              "      <td>applypipeline:off coronavirus^0.022062551 prot...</td>\n",
              "    </tr>\n",
              "    <tr>\n",
              "      <th>2999</th>\n",
              "      <td>3</td>\n",
              "      <td>80868</td>\n",
              "      <td>q5i2rnhs</td>\n",
              "      <td>Mice infected with the murine coronavirus, mou...</td>\n",
              "      <td>999</td>\n",
              "      <td>7.613216</td>\n",
              "      <td>coronavirus immunity</td>\n",
              "      <td>applypipeline:off coronavirus^0.022062551 prot...</td>\n",
              "    </tr>\n",
              "  </tbody>\n",
              "</table>\n",
              "<p>3000 rows × 8 columns</p>\n",
              "</div>"
            ],
            "text/plain": [
              "     qid  ...                                              query\n",
              "0      1  ...  applypipeline:off coronavirus^0.035478260 anim...\n",
              "1      1  ...  applypipeline:off coronavirus^0.035478260 anim...\n",
              "2      1  ...  applypipeline:off coronavirus^0.035478260 anim...\n",
              "3      1  ...  applypipeline:off coronavirus^0.035478260 anim...\n",
              "4      1  ...  applypipeline:off coronavirus^0.035478260 anim...\n",
              "...   ..  ...                                                ...\n",
              "2995   3  ...  applypipeline:off coronavirus^0.022062551 prot...\n",
              "2996   3  ...  applypipeline:off coronavirus^0.022062551 prot...\n",
              "2997   3  ...  applypipeline:off coronavirus^0.022062551 prot...\n",
              "2998   3  ...  applypipeline:off coronavirus^0.022062551 prot...\n",
              "2999   3  ...  applypipeline:off coronavirus^0.022062551 prot...\n",
              "\n",
              "[3000 rows x 8 columns]"
            ]
          },
          "metadata": {
            "tags": []
          },
          "execution_count": 15
        }
      ]
    },
    {
      "cell_type": "code",
      "metadata": {
        "id": "Lt0DO6F2RY2u",
        "outputId": "de867f40-0d7b-4665-b349-a9b7edb12a6f",
        "colab": {
          "base_uri": "https://localhost:8080/",
          "height": 34
        }
      },
      "source": [
        "# NOTE: RM3 returns queries, so RM3_pipe is NOT a re-ranking, but rather a fresh ranking"
      ],
      "execution_count": 16,
      "outputs": [
        {
          "output_type": "display_data",
          "data": {
            "text/html": [
              "<pre>✔️ 578 µs (2021-05-03T17:32:49/2021-05-03T17:32:49)</pre>"
            ],
            "text/plain": [
              "<IPython.core.display.HTML object>"
            ]
          },
          "metadata": {
            "tags": []
          }
        }
      ]
    },
    {
      "cell_type": "code",
      "metadata": {
        "id": "iFCm1tHv6vf1",
        "colab": {
          "base_uri": "https://localhost:8080/",
          "height": 192
        },
        "outputId": "159bae22-3dca-42d8-a589-71bf601445ca"
      },
      "source": [
        "df_out.loc[:, [\"qid\", \"docid\"]].groupby(\"qid\").count()"
      ],
      "execution_count": 17,
      "outputs": [
        {
          "output_type": "display_data",
          "data": {
            "text/html": [
              "<pre>✔️ 18.3 ms (2021-05-03T17:32:50/2021-05-03T17:32:50)</pre>"
            ],
            "text/plain": [
              "<IPython.core.display.HTML object>"
            ]
          },
          "metadata": {
            "tags": []
          }
        },
        {
          "output_type": "execute_result",
          "data": {
            "text/html": [
              "<div>\n",
              "<style scoped>\n",
              "    .dataframe tbody tr th:only-of-type {\n",
              "        vertical-align: middle;\n",
              "    }\n",
              "\n",
              "    .dataframe tbody tr th {\n",
              "        vertical-align: top;\n",
              "    }\n",
              "\n",
              "    .dataframe thead th {\n",
              "        text-align: right;\n",
              "    }\n",
              "</style>\n",
              "<table border=\"1\" class=\"dataframe\">\n",
              "  <thead>\n",
              "    <tr style=\"text-align: right;\">\n",
              "      <th></th>\n",
              "      <th>docid</th>\n",
              "    </tr>\n",
              "    <tr>\n",
              "      <th>qid</th>\n",
              "      <th></th>\n",
              "    </tr>\n",
              "  </thead>\n",
              "  <tbody>\n",
              "    <tr>\n",
              "      <th>1</th>\n",
              "      <td>1000</td>\n",
              "    </tr>\n",
              "    <tr>\n",
              "      <th>2</th>\n",
              "      <td>1000</td>\n",
              "    </tr>\n",
              "    <tr>\n",
              "      <th>3</th>\n",
              "      <td>1000</td>\n",
              "    </tr>\n",
              "  </tbody>\n",
              "</table>\n",
              "</div>"
            ],
            "text/plain": [
              "     docid\n",
              "qid       \n",
              "1     1000\n",
              "2     1000\n",
              "3     1000"
            ]
          },
          "metadata": {
            "tags": []
          },
          "execution_count": 17
        }
      ]
    },
    {
      "cell_type": "markdown",
      "metadata": {
        "id": "COwkr4SYPgzd"
      },
      "source": [
        "### Lin's simplest thing"
      ]
    },
    {
      "cell_type": "code",
      "metadata": {
        "id": "dWInLV_aXxzN",
        "outputId": "a801ebf1-7599-44f7-d9dc-5f1112fafcd3",
        "colab": {
          "base_uri": "https://localhost:8080/",
          "height": 34
        }
      },
      "source": [
        "def pr_linear_reranker(\n",
        "    df,\n",
        "    *,\n",
        "    n_top = 10,\n",
        "    n_bottom = 100, # TODO should actually get 0 score documents? how to do this in pyterrier?\n",
        "    col_text = 'text'\n",
        "):\n",
        "  df_tmp = df.copy()\n",
        "  df_relevant = df_tmp.sort_values(\"rank\").reset_index(drop=True).loc[0:n_top, [\"docid\", col_text]]\n",
        "  df_relevant[\"label\"] = 1\n",
        "\n",
        "  df_not_relevant = df_tmp.sort_values(\"rank\", ascending=False).reset_index(drop=True).loc[0:n_bottom, [\"docid\", col_text]]\n",
        "  df_not_relevant[\"label\"] = 0\n",
        "\n",
        "  df_train = pd.concat([df_relevant, df_not_relevant])\n",
        "\n",
        "  text_transformer = Pipeline([\n",
        "      ('tfidf', TfidfVectorizer()),\n",
        "  ])\n",
        "\n",
        "  preprocessor = ColumnTransformer(\n",
        "      transformers=[\n",
        "          # ('num', num_transformer, col_num),\n",
        "          # ('cat', cat_transformer, col_cat),\n",
        "          ('text', text_transformer, col_text)\n",
        "      ]\n",
        "  )\n",
        "\n",
        "  clf = Pipeline(steps=[\n",
        "      ('preprocessor', preprocessor),\n",
        "      ('classifier', LogisticRegression(random_state=23))\n",
        "  ])\n",
        "\n",
        "  X_train = df_train.loc[:, [\"docid\", col_text]]\n",
        "  y_train = df_train[\"label\"]\n",
        "\n",
        "  clf.fit(X_train, y_train);\n",
        "\n",
        "  preds = clf.predict_proba(df_tmp.loc[:, [\"docid\", col_text]])\n",
        "\n",
        "  df_tmp[\"score\"] = preds[:, 1] # True class second?\n",
        "  df_tmp.sort_values(\"score\", ascending=False, inplace=True)\n",
        "  df_tmp[\"rank\"] = [*range(df_tmp.shape[0])]\n",
        "  \n",
        "  return df_tmp"
      ],
      "execution_count": 18,
      "outputs": [
        {
          "output_type": "display_data",
          "data": {
            "text/html": [
              "<pre>✔️ 3.79 ms (2021-05-03T17:32:50/2021-05-03T17:32:50)</pre>"
            ],
            "text/plain": [
              "<IPython.core.display.HTML object>"
            ]
          },
          "metadata": {
            "tags": []
          }
        }
      ]
    },
    {
      "cell_type": "code",
      "metadata": {
        "id": "Ojf-cyPiYjlM",
        "outputId": "e5a05b9a-c17f-41fd-990d-96ac5a4db249",
        "colab": {
          "base_uri": "https://localhost:8080/",
          "height": 34
        }
      },
      "source": [
        "# df_eg = df_out.copy().loc[df_out[\"qid\"] == \"2\", :].reset_index(drop=True)\n",
        "\n",
        "# pr_linear_reranker(df_eg)"
      ],
      "execution_count": 19,
      "outputs": [
        {
          "output_type": "display_data",
          "data": {
            "text/html": [
              "<pre>✔️ 1.13 ms (2021-05-03T17:32:50/2021-05-03T17:32:50)</pre>"
            ],
            "text/plain": [
              "<IPython.core.display.HTML object>"
            ]
          },
          "metadata": {
            "tags": []
          }
        }
      ]
    },
    {
      "cell_type": "code",
      "metadata": {
        "id": "wfaFp9dGD4xW",
        "outputId": "0e44d3b9-c2fd-4c26-dd39-c023a0c1aa1f",
        "colab": {
          "base_uri": "https://localhost:8080/",
          "height": 34
        }
      },
      "source": [
        "def normalise_score(df, norm=\"max\"):\n",
        "  normalized_data = normalize(df[\"score\"].to_numpy().reshape(1, -1), norm=norm)[0]\n",
        "  df[\"score\"] = normalized_data\n",
        "  return df"
      ],
      "execution_count": 20,
      "outputs": [
        {
          "output_type": "display_data",
          "data": {
            "text/html": [
              "<pre>✔️ 1.18 ms (2021-05-03T17:32:50/2021-05-03T17:32:50)</pre>"
            ],
            "text/plain": [
              "<IPython.core.display.HTML object>"
            ]
          },
          "metadata": {
            "tags": []
          }
        }
      ]
    },
    {
      "cell_type": "code",
      "metadata": {
        "id": "81kQZlMsYKG3",
        "outputId": "93f5276f-9cbe-405b-cf58-03e9e8191f60",
        "colab": {
          "base_uri": "https://localhost:8080/",
          "height": 34
        }
      },
      "source": [
        "# df_eg[\"score\"].to_numpy().reshape(1, -1)\n",
        "# normalize(df_eg[\"score\"].to_numpy().reshape(1, -1), norm=\"max\")\n",
        "\n",
        "# df_new = df_out.groupby(\"qid\").apply(normalise_score)\n",
        "# df_new.loc[df_new[\"score\"] == 1, :]"
      ],
      "execution_count": 21,
      "outputs": [
        {
          "output_type": "display_data",
          "data": {
            "text/html": [
              "<pre>✔️ 1.02 ms (2021-05-03T17:32:50/2021-05-03T17:32:50)</pre>"
            ],
            "text/plain": [
              "<IPython.core.display.HTML object>"
            ]
          },
          "metadata": {
            "tags": []
          }
        }
      ]
    },
    {
      "cell_type": "code",
      "metadata": {
        "id": "PDdAqlR7aY_F",
        "outputId": "a46ef3e1-d670-4de7-ba9e-4281ae9e7d2f",
        "colab": {
          "base_uri": "https://localhost:8080/",
          "height": 34
        }
      },
      "source": [
        "def simple_reranker(df):\n",
        "    df_score = pr_linear_reranker(df)\n",
        "    return normalise_score(df_score)"
      ],
      "execution_count": 22,
      "outputs": [
        {
          "output_type": "display_data",
          "data": {
            "text/html": [
              "<pre>✔️ 1.18 ms (2021-05-03T17:32:50/2021-05-03T17:32:50)</pre>"
            ],
            "text/plain": [
              "<IPython.core.display.HTML object>"
            ]
          },
          "metadata": {
            "tags": []
          }
        }
      ]
    },
    {
      "cell_type": "code",
      "metadata": {
        "id": "dWvuCsFkeIiV",
        "outputId": "c0453700-d432-4ddc-947a-76dc830be110",
        "colab": {
          "base_uri": "https://localhost:8080/",
          "height": 34
        }
      },
      "source": [
        "class SimpleTransformer(pt.transformer.TransformerBase):\n",
        "  def transform(self, df, **kwargs):\n",
        "    return df.groupby(\"qid\").apply(simple_reranker).droplevel(0)"
      ],
      "execution_count": 23,
      "outputs": [
        {
          "output_type": "display_data",
          "data": {
            "text/html": [
              "<pre>✔️ 1.59 ms (2021-05-03T17:32:51/2021-05-03T17:32:51)</pre>"
            ],
            "text/plain": [
              "<IPython.core.display.HTML object>"
            ]
          },
          "metadata": {
            "tags": []
          }
        }
      ]
    },
    {
      "cell_type": "code",
      "metadata": {
        "id": "9G3paVIuSzRF",
        "outputId": "e73326f0-0ce7-4369-bc4e-7721a3e484c3",
        "colab": {
          "base_uri": "https://localhost:8080/",
          "height": 34
        }
      },
      "source": [
        "qid = \"0\"\n",
        "docno = \"r9scxa76\""
      ],
      "execution_count": 24,
      "outputs": [
        {
          "output_type": "display_data",
          "data": {
            "text/html": [
              "<pre>✔️ 2.74 ms (2021-05-03T17:32:51/2021-05-03T17:32:51)</pre>"
            ],
            "text/plain": [
              "<IPython.core.display.HTML object>"
            ]
          },
          "metadata": {
            "tags": []
          }
        }
      ]
    },
    {
      "cell_type": "code",
      "metadata": {
        "id": "K9D8F8xlNgyQ",
        "colab": {
          "base_uri": "https://localhost:8080/",
          "height": 441
        },
        "outputId": "420b8ce4-006d-48dc-8f3a-37f962dbfcbf"
      },
      "source": [
        "# pr_pipe = rm3_pipe >> pt.apply.by_query(simple_reranker)\n",
        "pr_pipe = rm3_pipe >> pt.apply.by_query(pr_linear_reranker) >> pt.apply.by_query(normalise_score)\n",
        "\n",
        "df_out_st = pr_pipe.transform(queries) # .loc[:0, :])\n",
        "df_out_st # .loc[(df_out_st[\"qid\"] == qid) & (df_out_st[\"docno\"] == docno), :]"
      ],
      "execution_count": 25,
      "outputs": [
        {
          "output_type": "display_data",
          "data": {
            "text/html": [
              "<pre>✔️ 1.24 s (2021-05-03T17:32:51/2021-05-03T17:32:52)</pre>"
            ],
            "text/plain": [
              "<IPython.core.display.HTML object>"
            ]
          },
          "metadata": {
            "tags": []
          }
        },
        {
          "output_type": "execute_result",
          "data": {
            "text/html": [
              "<div>\n",
              "<style scoped>\n",
              "    .dataframe tbody tr th:only-of-type {\n",
              "        vertical-align: middle;\n",
              "    }\n",
              "\n",
              "    .dataframe tbody tr th {\n",
              "        vertical-align: top;\n",
              "    }\n",
              "\n",
              "    .dataframe thead th {\n",
              "        text-align: right;\n",
              "    }\n",
              "</style>\n",
              "<table border=\"1\" class=\"dataframe\">\n",
              "  <thead>\n",
              "    <tr style=\"text-align: right;\">\n",
              "      <th></th>\n",
              "      <th>qid</th>\n",
              "      <th>docid</th>\n",
              "      <th>docno</th>\n",
              "      <th>text</th>\n",
              "      <th>score</th>\n",
              "      <th>query_0</th>\n",
              "      <th>query</th>\n",
              "      <th>rank</th>\n",
              "    </tr>\n",
              "  </thead>\n",
              "  <tbody>\n",
              "    <tr>\n",
              "      <th>4</th>\n",
              "      <td>1</td>\n",
              "      <td>89280</td>\n",
              "      <td>j318qn5p</td>\n",
              "      <td>The new decade of the 21st century (2020) star...</td>\n",
              "      <td>1.000000</td>\n",
              "      <td>coronavirus origin</td>\n",
              "      <td>applypipeline:off coronavirus^0.035478260 anim...</td>\n",
              "      <td>0</td>\n",
              "    </tr>\n",
              "    <tr>\n",
              "      <th>5</th>\n",
              "      <td>1</td>\n",
              "      <td>89279</td>\n",
              "      <td>ab757i3f</td>\n",
              "      <td>The new decade of the 21st century (2020) star...</td>\n",
              "      <td>1.000000</td>\n",
              "      <td>coronavirus origin</td>\n",
              "      <td>applypipeline:off coronavirus^0.035478260 anim...</td>\n",
              "      <td>1</td>\n",
              "    </tr>\n",
              "    <tr>\n",
              "      <th>9</th>\n",
              "      <td>1</td>\n",
              "      <td>101278</td>\n",
              "      <td>apqizr54</td>\n",
              "      <td>OBJECTIVE: SARS-CoV-2 is responsible for the p...</td>\n",
              "      <td>0.992260</td>\n",
              "      <td>coronavirus origin</td>\n",
              "      <td>applypipeline:off coronavirus^0.035478260 anim...</td>\n",
              "      <td>2</td>\n",
              "    </tr>\n",
              "    <tr>\n",
              "      <th>10</th>\n",
              "      <td>1</td>\n",
              "      <td>101277</td>\n",
              "      <td>icwvm7jp</td>\n",
              "      <td>OBJECTIVE: SARS-CoV-2 is responsible for the p...</td>\n",
              "      <td>0.992260</td>\n",
              "      <td>coronavirus origin</td>\n",
              "      <td>applypipeline:off coronavirus^0.035478260 anim...</td>\n",
              "      <td>3</td>\n",
              "    </tr>\n",
              "    <tr>\n",
              "      <th>8</th>\n",
              "      <td>1</td>\n",
              "      <td>39220</td>\n",
              "      <td>deajwhx0</td>\n",
              "      <td>OBJECTIVE SARS-CoV-2 is responsible for the pr...</td>\n",
              "      <td>0.992260</td>\n",
              "      <td>coronavirus origin</td>\n",
              "      <td>applypipeline:off coronavirus^0.035478260 anim...</td>\n",
              "      <td>4</td>\n",
              "    </tr>\n",
              "    <tr>\n",
              "      <th>...</th>\n",
              "      <td>...</td>\n",
              "      <td>...</td>\n",
              "      <td>...</td>\n",
              "      <td>...</td>\n",
              "      <td>...</td>\n",
              "      <td>...</td>\n",
              "      <td>...</td>\n",
              "      <td>...</td>\n",
              "    </tr>\n",
              "    <tr>\n",
              "      <th>2096</th>\n",
              "      <td>3</td>\n",
              "      <td>85256</td>\n",
              "      <td>2ufbrfqj</td>\n",
              "      <td>Feline infectious peritonitis (FIP) is caused ...</td>\n",
              "      <td>0.212774</td>\n",
              "      <td>coronavirus immunity</td>\n",
              "      <td>applypipeline:off coronavirus^0.022062551 prot...</td>\n",
              "      <td>995</td>\n",
              "    </tr>\n",
              "    <tr>\n",
              "      <th>2232</th>\n",
              "      <td>3</td>\n",
              "      <td>174717</td>\n",
              "      <td>qaf9esus</td>\n",
              "      <td>The resistance of immunized mice to challenge ...</td>\n",
              "      <td>0.212494</td>\n",
              "      <td>coronavirus immunity</td>\n",
              "      <td>applypipeline:off coronavirus^0.022062551 prot...</td>\n",
              "      <td>996</td>\n",
              "    </tr>\n",
              "    <tr>\n",
              "      <th>2832</th>\n",
              "      <td>3</td>\n",
              "      <td>80716</td>\n",
              "      <td>wobsyenq</td>\n",
              "      <td>Tyrosinase-related proteins-1 and -2 (gp75/TRP...</td>\n",
              "      <td>0.212414</td>\n",
              "      <td>coronavirus immunity</td>\n",
              "      <td>applypipeline:off coronavirus^0.022062551 prot...</td>\n",
              "      <td>997</td>\n",
              "    </tr>\n",
              "    <tr>\n",
              "      <th>2720</th>\n",
              "      <td>3</td>\n",
              "      <td>21863</td>\n",
              "      <td>wpc5dmcz</td>\n",
              "      <td>This chapter describes immune responses to the...</td>\n",
              "      <td>0.212234</td>\n",
              "      <td>coronavirus immunity</td>\n",
              "      <td>applypipeline:off coronavirus^0.022062551 prot...</td>\n",
              "      <td>998</td>\n",
              "    </tr>\n",
              "    <tr>\n",
              "      <th>2253</th>\n",
              "      <td>3</td>\n",
              "      <td>159882</td>\n",
              "      <td>2db77jpp</td>\n",
              "      <td>The duration of challenge resistance in mice i...</td>\n",
              "      <td>0.189840</td>\n",
              "      <td>coronavirus immunity</td>\n",
              "      <td>applypipeline:off coronavirus^0.022062551 prot...</td>\n",
              "      <td>999</td>\n",
              "    </tr>\n",
              "  </tbody>\n",
              "</table>\n",
              "<p>3000 rows × 8 columns</p>\n",
              "</div>"
            ],
            "text/plain": [
              "     qid   docid  ...                                              query rank\n",
              "4      1   89280  ...  applypipeline:off coronavirus^0.035478260 anim...    0\n",
              "5      1   89279  ...  applypipeline:off coronavirus^0.035478260 anim...    1\n",
              "9      1  101278  ...  applypipeline:off coronavirus^0.035478260 anim...    2\n",
              "10     1  101277  ...  applypipeline:off coronavirus^0.035478260 anim...    3\n",
              "8      1   39220  ...  applypipeline:off coronavirus^0.035478260 anim...    4\n",
              "...   ..     ...  ...                                                ...  ...\n",
              "2096   3   85256  ...  applypipeline:off coronavirus^0.022062551 prot...  995\n",
              "2232   3  174717  ...  applypipeline:off coronavirus^0.022062551 prot...  996\n",
              "2832   3   80716  ...  applypipeline:off coronavirus^0.022062551 prot...  997\n",
              "2720   3   21863  ...  applypipeline:off coronavirus^0.022062551 prot...  998\n",
              "2253   3  159882  ...  applypipeline:off coronavirus^0.022062551 prot...  999\n",
              "\n",
              "[3000 rows x 8 columns]"
            ]
          },
          "metadata": {
            "tags": []
          },
          "execution_count": 25
        }
      ]
    },
    {
      "cell_type": "code",
      "metadata": {
        "id": "7PDg5zSBeP_R",
        "colab": {
          "base_uri": "https://localhost:8080/",
          "height": 34
        },
        "outputId": "b92069e9-69c6-4560-c374-bb3bcfbf76e6"
      },
      "source": [
        "# len(df_out_st.index.unique())"
      ],
      "execution_count": 26,
      "outputs": [
        {
          "output_type": "display_data",
          "data": {
            "text/html": [
              "<pre>✔️ 2.59 ms (2021-05-03T17:32:52/2021-05-03T17:32:52)</pre>"
            ],
            "text/plain": [
              "<IPython.core.display.HTML object>"
            ]
          },
          "metadata": {
            "tags": []
          }
        }
      ]
    },
    {
      "cell_type": "code",
      "metadata": {
        "id": "hIO896clZVQh",
        "colab": {
          "base_uri": "https://localhost:8080/",
          "height": 52
        },
        "outputId": "44167109-fb3b-40b9-8b28-247593253654"
      },
      "source": [
        "df_out_st.shape"
      ],
      "execution_count": 27,
      "outputs": [
        {
          "output_type": "display_data",
          "data": {
            "text/html": [
              "<pre>✔️ 7.8 ms (2021-05-03T17:32:52/2021-05-03T17:32:52)</pre>"
            ],
            "text/plain": [
              "<IPython.core.display.HTML object>"
            ]
          },
          "metadata": {
            "tags": []
          }
        },
        {
          "output_type": "execute_result",
          "data": {
            "text/plain": [
              "(3000, 8)"
            ]
          },
          "metadata": {
            "tags": []
          },
          "execution_count": 27
        }
      ]
    },
    {
      "cell_type": "code",
      "metadata": {
        "id": "a-avYs81OWIj",
        "colab": {
          "base_uri": "https://localhost:8080/",
          "height": 441
        },
        "outputId": "e476bc22-a36e-4673-a5ba-bf4822a235a7"
      },
      "source": [
        "pr_pipe_tr = rm3_pipe >> SimpleTransformer()\n",
        "\n",
        "df_out_str = pr_pipe_tr.transform(queries) # .loc[:0, :])\n",
        "df_out_str # .loc[(df_out_str[\"qid\"] == qid) & (df_out_str[\"docno\"] == docno), :]"
      ],
      "execution_count": 28,
      "outputs": [
        {
          "output_type": "display_data",
          "data": {
            "text/html": [
              "<pre>✔️ 1.28 s (2021-05-03T17:32:53/2021-05-03T17:32:54)</pre>"
            ],
            "text/plain": [
              "<IPython.core.display.HTML object>"
            ]
          },
          "metadata": {
            "tags": []
          }
        },
        {
          "output_type": "execute_result",
          "data": {
            "text/html": [
              "<div>\n",
              "<style scoped>\n",
              "    .dataframe tbody tr th:only-of-type {\n",
              "        vertical-align: middle;\n",
              "    }\n",
              "\n",
              "    .dataframe tbody tr th {\n",
              "        vertical-align: top;\n",
              "    }\n",
              "\n",
              "    .dataframe thead th {\n",
              "        text-align: right;\n",
              "    }\n",
              "</style>\n",
              "<table border=\"1\" class=\"dataframe\">\n",
              "  <thead>\n",
              "    <tr style=\"text-align: right;\">\n",
              "      <th></th>\n",
              "      <th>qid</th>\n",
              "      <th>docid</th>\n",
              "      <th>docno</th>\n",
              "      <th>text</th>\n",
              "      <th>rank</th>\n",
              "      <th>score</th>\n",
              "      <th>query_0</th>\n",
              "      <th>query</th>\n",
              "    </tr>\n",
              "  </thead>\n",
              "  <tbody>\n",
              "    <tr>\n",
              "      <th>4</th>\n",
              "      <td>1</td>\n",
              "      <td>89280</td>\n",
              "      <td>j318qn5p</td>\n",
              "      <td>The new decade of the 21st century (2020) star...</td>\n",
              "      <td>0</td>\n",
              "      <td>1.000000</td>\n",
              "      <td>coronavirus origin</td>\n",
              "      <td>applypipeline:off coronavirus^0.035478260 anim...</td>\n",
              "    </tr>\n",
              "    <tr>\n",
              "      <th>5</th>\n",
              "      <td>1</td>\n",
              "      <td>89279</td>\n",
              "      <td>ab757i3f</td>\n",
              "      <td>The new decade of the 21st century (2020) star...</td>\n",
              "      <td>1</td>\n",
              "      <td>1.000000</td>\n",
              "      <td>coronavirus origin</td>\n",
              "      <td>applypipeline:off coronavirus^0.035478260 anim...</td>\n",
              "    </tr>\n",
              "    <tr>\n",
              "      <th>9</th>\n",
              "      <td>1</td>\n",
              "      <td>101278</td>\n",
              "      <td>apqizr54</td>\n",
              "      <td>OBJECTIVE: SARS-CoV-2 is responsible for the p...</td>\n",
              "      <td>2</td>\n",
              "      <td>0.992260</td>\n",
              "      <td>coronavirus origin</td>\n",
              "      <td>applypipeline:off coronavirus^0.035478260 anim...</td>\n",
              "    </tr>\n",
              "    <tr>\n",
              "      <th>10</th>\n",
              "      <td>1</td>\n",
              "      <td>101277</td>\n",
              "      <td>icwvm7jp</td>\n",
              "      <td>OBJECTIVE: SARS-CoV-2 is responsible for the p...</td>\n",
              "      <td>3</td>\n",
              "      <td>0.992260</td>\n",
              "      <td>coronavirus origin</td>\n",
              "      <td>applypipeline:off coronavirus^0.035478260 anim...</td>\n",
              "    </tr>\n",
              "    <tr>\n",
              "      <th>8</th>\n",
              "      <td>1</td>\n",
              "      <td>39220</td>\n",
              "      <td>deajwhx0</td>\n",
              "      <td>OBJECTIVE SARS-CoV-2 is responsible for the pr...</td>\n",
              "      <td>4</td>\n",
              "      <td>0.992260</td>\n",
              "      <td>coronavirus origin</td>\n",
              "      <td>applypipeline:off coronavirus^0.035478260 anim...</td>\n",
              "    </tr>\n",
              "    <tr>\n",
              "      <th>...</th>\n",
              "      <td>...</td>\n",
              "      <td>...</td>\n",
              "      <td>...</td>\n",
              "      <td>...</td>\n",
              "      <td>...</td>\n",
              "      <td>...</td>\n",
              "      <td>...</td>\n",
              "      <td>...</td>\n",
              "    </tr>\n",
              "    <tr>\n",
              "      <th>2096</th>\n",
              "      <td>3</td>\n",
              "      <td>85256</td>\n",
              "      <td>2ufbrfqj</td>\n",
              "      <td>Feline infectious peritonitis (FIP) is caused ...</td>\n",
              "      <td>995</td>\n",
              "      <td>0.212774</td>\n",
              "      <td>coronavirus immunity</td>\n",
              "      <td>applypipeline:off coronavirus^0.022062551 prot...</td>\n",
              "    </tr>\n",
              "    <tr>\n",
              "      <th>2232</th>\n",
              "      <td>3</td>\n",
              "      <td>174717</td>\n",
              "      <td>qaf9esus</td>\n",
              "      <td>The resistance of immunized mice to challenge ...</td>\n",
              "      <td>996</td>\n",
              "      <td>0.212494</td>\n",
              "      <td>coronavirus immunity</td>\n",
              "      <td>applypipeline:off coronavirus^0.022062551 prot...</td>\n",
              "    </tr>\n",
              "    <tr>\n",
              "      <th>2832</th>\n",
              "      <td>3</td>\n",
              "      <td>80716</td>\n",
              "      <td>wobsyenq</td>\n",
              "      <td>Tyrosinase-related proteins-1 and -2 (gp75/TRP...</td>\n",
              "      <td>997</td>\n",
              "      <td>0.212414</td>\n",
              "      <td>coronavirus immunity</td>\n",
              "      <td>applypipeline:off coronavirus^0.022062551 prot...</td>\n",
              "    </tr>\n",
              "    <tr>\n",
              "      <th>2720</th>\n",
              "      <td>3</td>\n",
              "      <td>21863</td>\n",
              "      <td>wpc5dmcz</td>\n",
              "      <td>This chapter describes immune responses to the...</td>\n",
              "      <td>998</td>\n",
              "      <td>0.212234</td>\n",
              "      <td>coronavirus immunity</td>\n",
              "      <td>applypipeline:off coronavirus^0.022062551 prot...</td>\n",
              "    </tr>\n",
              "    <tr>\n",
              "      <th>2253</th>\n",
              "      <td>3</td>\n",
              "      <td>159882</td>\n",
              "      <td>2db77jpp</td>\n",
              "      <td>The duration of challenge resistance in mice i...</td>\n",
              "      <td>999</td>\n",
              "      <td>0.189840</td>\n",
              "      <td>coronavirus immunity</td>\n",
              "      <td>applypipeline:off coronavirus^0.022062551 prot...</td>\n",
              "    </tr>\n",
              "  </tbody>\n",
              "</table>\n",
              "<p>3000 rows × 8 columns</p>\n",
              "</div>"
            ],
            "text/plain": [
              "     qid  ...                                              query\n",
              "4      1  ...  applypipeline:off coronavirus^0.035478260 anim...\n",
              "5      1  ...  applypipeline:off coronavirus^0.035478260 anim...\n",
              "9      1  ...  applypipeline:off coronavirus^0.035478260 anim...\n",
              "10     1  ...  applypipeline:off coronavirus^0.035478260 anim...\n",
              "8      1  ...  applypipeline:off coronavirus^0.035478260 anim...\n",
              "...   ..  ...                                                ...\n",
              "2096   3  ...  applypipeline:off coronavirus^0.022062551 prot...\n",
              "2232   3  ...  applypipeline:off coronavirus^0.022062551 prot...\n",
              "2832   3  ...  applypipeline:off coronavirus^0.022062551 prot...\n",
              "2720   3  ...  applypipeline:off coronavirus^0.022062551 prot...\n",
              "2253   3  ...  applypipeline:off coronavirus^0.022062551 prot...\n",
              "\n",
              "[3000 rows x 8 columns]"
            ]
          },
          "metadata": {
            "tags": []
          },
          "execution_count": 28
        }
      ]
    },
    {
      "cell_type": "code",
      "metadata": {
        "id": "N3awT8UdZVFT",
        "colab": {
          "base_uri": "https://localhost:8080/",
          "height": 52
        },
        "outputId": "b40d1e66-ccd8-4eea-d9c1-4c8409d4a12e"
      },
      "source": [
        "df_out_str.shape"
      ],
      "execution_count": 29,
      "outputs": [
        {
          "output_type": "display_data",
          "data": {
            "text/html": [
              "<pre>✔️ 5.08 ms (2021-05-03T17:32:54/2021-05-03T17:32:54)</pre>"
            ],
            "text/plain": [
              "<IPython.core.display.HTML object>"
            ]
          },
          "metadata": {
            "tags": []
          }
        },
        {
          "output_type": "execute_result",
          "data": {
            "text/plain": [
              "(3000, 8)"
            ]
          },
          "metadata": {
            "tags": []
          },
          "execution_count": 29
        }
      ]
    },
    {
      "cell_type": "code",
      "metadata": {
        "id": "CgpHzrC1R54b",
        "outputId": "23291a4e-e1d7-4156-caeb-9ab7a028dfeb",
        "colab": {
          "base_uri": "https://localhost:8080/",
          "height": 34
        }
      },
      "source": [
        "assert_frame_equal(df_out_st, df_out_str.loc[:, df_out_st.columns]) # .query(\"qid=='1'\")"
      ],
      "execution_count": 30,
      "outputs": [
        {
          "output_type": "display_data",
          "data": {
            "text/html": [
              "<pre>✔️ 88.7 ms (2021-05-03T17:32:54/2021-05-03T17:32:54)</pre>"
            ],
            "text/plain": [
              "<IPython.core.display.HTML object>"
            ]
          },
          "metadata": {
            "tags": []
          }
        }
      ]
    },
    {
      "cell_type": "code",
      "metadata": {
        "id": "f-XF4I0NE_-V",
        "outputId": "28ba4cd3-b3e3-4e29-a620-90a1baf65351",
        "colab": {
          "base_uri": "https://localhost:8080/",
          "height": 34
        }
      },
      "source": [
        "# TODO how to run rm3_pipe only once? CHECK caching\n",
        "\n",
        "alpha = 0.5\n",
        "\n",
        "simplest_pipe = alpha * rm3_pipe + (1 - alpha) * pr_pipe"
      ],
      "execution_count": 31,
      "outputs": [
        {
          "output_type": "display_data",
          "data": {
            "text/html": [
              "<pre>✔️ 1.16 ms (2021-05-03T17:32:54/2021-05-03T17:32:54)</pre>"
            ],
            "text/plain": [
              "<IPython.core.display.HTML object>"
            ]
          },
          "metadata": {
            "tags": []
          }
        }
      ]
    },
    {
      "cell_type": "markdown",
      "metadata": {
        "id": "bKX7j-tNQbMt"
      },
      "source": [
        "## Experiment"
      ]
    },
    {
      "cell_type": "code",
      "metadata": {
        "id": "F4X9oANxGSiH",
        "colab": {
          "base_uri": "https://localhost:8080/",
          "height": 192
        },
        "outputId": "965fb184-d80d-4c76-a3f3-5d32d89b0c21"
      },
      "source": [
        "# NOTE Experiment is indeed/actually a function\n",
        "pt.Experiment(\n",
        "    retr_systems=[bm25, rm3_pipe, pr_pipe, simplest_pipe],\n",
        "    names=[\"BM25\", \"simplest_a_1\", \"simplest_a_0\", \"simplest_a_05\"],\n",
        "    topics=queries,\n",
        "    qrels=dataset.get_qrels(), # TODO figure out cord19 qrels\n",
        "    eval_metrics=[\"map\"]\n",
        "              )"
      ],
      "execution_count": 32,
      "outputs": [
        {
          "output_type": "display_data",
          "data": {
            "text/html": [
              "<pre>✔️ 5.04 s (2021-05-03T17:32:54/2021-05-03T17:32:59)</pre>"
            ],
            "text/plain": [
              "<IPython.core.display.HTML object>"
            ]
          },
          "metadata": {
            "tags": []
          }
        },
        {
          "output_type": "execute_result",
          "data": {
            "text/html": [
              "<div>\n",
              "<style scoped>\n",
              "    .dataframe tbody tr th:only-of-type {\n",
              "        vertical-align: middle;\n",
              "    }\n",
              "\n",
              "    .dataframe tbody tr th {\n",
              "        vertical-align: top;\n",
              "    }\n",
              "\n",
              "    .dataframe thead th {\n",
              "        text-align: right;\n",
              "    }\n",
              "</style>\n",
              "<table border=\"1\" class=\"dataframe\">\n",
              "  <thead>\n",
              "    <tr style=\"text-align: right;\">\n",
              "      <th></th>\n",
              "      <th>name</th>\n",
              "      <th>map</th>\n",
              "    </tr>\n",
              "  </thead>\n",
              "  <tbody>\n",
              "    <tr>\n",
              "      <th>0</th>\n",
              "      <td>BM25</td>\n",
              "      <td>0.109513</td>\n",
              "    </tr>\n",
              "    <tr>\n",
              "      <th>1</th>\n",
              "      <td>simplest_a_1</td>\n",
              "      <td>0.145553</td>\n",
              "    </tr>\n",
              "    <tr>\n",
              "      <th>2</th>\n",
              "      <td>simplest_a_0</td>\n",
              "      <td>0.135164</td>\n",
              "    </tr>\n",
              "    <tr>\n",
              "      <th>3</th>\n",
              "      <td>simplest_a_05</td>\n",
              "      <td>0.147446</td>\n",
              "    </tr>\n",
              "  </tbody>\n",
              "</table>\n",
              "</div>"
            ],
            "text/plain": [
              "            name       map\n",
              "0           BM25  0.109513\n",
              "1   simplest_a_1  0.145553\n",
              "2   simplest_a_0  0.135164\n",
              "3  simplest_a_05  0.147446"
            ]
          },
          "metadata": {
            "tags": []
          },
          "execution_count": 32
        }
      ]
    },
    {
      "cell_type": "code",
      "metadata": {
        "id": "f8mXH5E-IEEX",
        "outputId": "520f1b69-0b6b-40e8-e2b6-7d45e14dee96",
        "colab": {
          "base_uri": "https://localhost:8080/",
          "height": 34
        }
      },
      "source": [
        ""
      ],
      "execution_count": 32,
      "outputs": [
        {
          "output_type": "display_data",
          "data": {
            "text/html": [
              "<pre>✔️ 5.11 s (2021-05-03T17:32:54/2021-05-03T17:33:00)</pre>"
            ],
            "text/plain": [
              "<IPython.core.display.HTML object>"
            ]
          },
          "metadata": {
            "tags": []
          }
        }
      ]
    }
  ]
}